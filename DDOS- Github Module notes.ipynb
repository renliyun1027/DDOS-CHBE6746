{
 "cells": [
  {
   "cell_type": "markdown",
   "metadata": {},
   "source": [
    "# Module 2 Pyomo\n",
    "\n",
    "## Introduction to Pyomo\n",
    "\n",
    "### Basics:\n",
    " - **Pyomo** is just another package that we need to import.\n",
    " - **Pyomo** is developed by a team of (mostly Chemical) engineers in **Sandia National Labs**. They work with industry, other national labs and other government entities to solve complex optimization problems. One day, they decided that their codes will benefit all of us, so they started putting more effort into making it better and generic for general users.\n",
    " - **Pyomo** developers work hard to perfect the package, but they also want us to report bugs, and potentially add on to Pyomo capabilities (if you develop some general code that other users could benefit from!)\n",
    " - **Pyomo** is based on Python language, so everything you learn about **Python** holds here. **However**, there are specific definitions that **Pyomo** only understands, based on how the developers have built it. Their objective is to help users formulate and solve optimization problems faster! \n",
    " - As stated in their latest book, the **Pyomo** team wants the package to be: \"a framework that promotes flexibility, extensibility, portability, openness, and maintainability\" <br>\n",
    " \n"
   ]
  },
  {
   "cell_type": "code",
   "execution_count": null,
   "metadata": {},
   "outputs": [],
   "source": [
    "from pyomo.environ import *"
   ]
  },
  {
   "cell_type": "markdown",
   "metadata": {},
   "source": [
    "### Creating first optimization formulation - \"Concrete Model\":\n",
    "**Formulate and solve the following problem:** <br>\n",
    "min $x_1 + 2x_2$ <br>\n",
    "s.t. <br>\n",
    "$3x_1+4x_2 >=1$ <br>\n",
    "$2x_1+5x_2 >=2$ <br>\n",
    "$x_1,x_2>=0$ <br>\n"
   ]
  },
  {
   "cell_type": "code",
   "execution_count": null,
   "metadata": {},
   "outputs": [],
   "source": [
    "#initialize pyomo environment and import core modeling library:\n",
    "from pyomo.environ import *\n",
    "\n",
    "model = ConcreteModel() # Define name of my formulation\n",
    "\n",
    "#Define variables:\n",
    "model.x_1 = Var(within=NonNegativeReals)\n",
    "model.x_2 = Var(within=NonNegativeReals)\n",
    "\n",
    "#Define objective:\n",
    "model.obj = Objective(expr=model.x_1 + 2*model.x_2)\n",
    "\n",
    "#Define constraints:\n",
    "model.con1 = Constraint(expr=3*model.x_1 + 4*model.x_2 >= 1)\n",
    "model.con2 = Constraint(expr=2*model.x_1 + 5*model.x_2 >= 2)\n",
    "\n",
    "#Define solver:\n",
    "solver = SolverFactory('glpk')\n",
    "\n",
    "#Solve and Print Results:\n",
    "solver.solve(model)\n",
    "model.pprint()"
   ]
  },
  {
   "cell_type": "markdown",
   "metadata": {},
   "source": [
    "### Loading package:\n",
    "\n",
    "**In this lecture we will learn more details about the Pyomo package/environment.** <br>\n",
    "Before we start, let's introduce a few Python components that you will very likely use when solving optimization problems in Pyomo: <br>\n",
    "1. Dictionaries<br>\n",
    "2. Pandas dataframes<br>"
   ]
  },
  {
   "cell_type": "markdown",
   "metadata": {},
   "source": [
    "## Dictionaries:\n",
    " - Dictionaries are exactly like lists in Python, with the only difference that each value of the list has a \"key\" (something like a description). <br>\n",
    " - The syntax of a dictionary type of variable is: {key1 : value1, key2: value2, .. } <br>\n",
    "Let's look at an example:"
   ]
  },
  {
   "cell_type": "code",
   "execution_count": null,
   "metadata": {},
   "outputs": [],
   "source": [
    "param_list = [1.,2.,3.]\n",
    "param_dict = {\"parameter1\" : 1.,\"parameter2\" : 2., \"parameter3\":3.}\n",
    "print(param_list)\n",
    "print(param_dict)"
   ]
  },
  {
   "cell_type": "markdown",
   "metadata": {},
   "source": [
    "**How about accessing the elements of a list vs a dictionary?**"
   ]
  },
  {
   "cell_type": "code",
   "execution_count": null,
   "metadata": {},
   "outputs": [],
   "source": [
    "param_list[0]"
   ]
  },
  {
   "cell_type": "code",
   "execution_count": null,
   "metadata": {},
   "outputs": [],
   "source": [
    "param_dict[0]"
   ]
  },
  {
   "cell_type": "markdown",
   "metadata": {},
   "source": [
    "**IMPORTANT: We cannot access dictionaries the same way we access lists. That is because we have given 'names' or 'keys' to the elements.**"
   ]
  },
  {
   "cell_type": "code",
   "execution_count": null,
   "metadata": {},
   "outputs": [],
   "source": [
    "param_dict[\"parameter1\"]"
   ]
  },
  {
   "cell_type": "markdown",
   "metadata": {},
   "source": [
    "**TO SUM UP**: Dictionaries are important when using Pyomo and formulating optimization problems, because often our variables and our parameters are written with respect to **\"Sets\"**. The \"keys\" in dictionaries can represent the different elements of the sets. <br>\n",
    "\n",
    "## Pandas dataframes:\n",
    "Pandas dataframes allow us to interact (i.e., import from Excel) with structured data. <br>\n",
    "Let's look at a simple instance of the Warehouse Allocation example: <br>\n",
    "\n",
    "**Let's remember the problem:** <br>\n",
    " - We have a set of $N$ potential warehouse locations (we might not build all of them)<br>\n",
    " - We have a set of $M$ customer locations that need to receive product<br>\n",
    " - The cost of delivering product $(USD/ton)$ from warehouse $n$ to customer $m$ is given to us as $c_{n,m}$<br>\n",
    " - We must select at most $P$ warehouses.<br>\n",
    " - Demand for each customer must be met (at least). <br>\n",
    " \n",
    "**To solve an actual problem, let's give values to the above.** <br>\n",
    "\n",
    "**Assume that:** <br>\n",
    " - $N = 3$\n",
    " - $M = 4$\n",
    " - $P = 2$\n",
    " \n",
    "|$d_m$    |   NYC   |   LA    | Chicago | Houston |\n",
    "|---------|---------|---------|---------|---------|\n",
    "|         | 1000    |  2000   |  4000   |   1500  |\n",
    "\n",
    "|$c_{n,m}$|   NYC   |   LA    | Chicago | Houston |   \n",
    "|---------|---------|---------|---------|---------|\n",
    "| Atlanta |  1956   |    1606 |   1410  |   330   |\n",
    "| Memphis |  1096   |    1792 |   531   |   567   |\n",
    "| Ashland |  485    |    2322 |   324   |   1236  |\n",
    "\n",
    "\n",
    "**Let's read the $c_{n,m}$ data from an excel file. (The advantages of this obviously become clear as the data-sets become larger).**\n",
    " - I have created an excel file with the data for convenience. Download it and store it in the directory of this file. The file is called **\"Warehouse.xlsx\"** <br>\n",
    " - Next, we are going to import the data in Python: "
   ]
  },
  {
   "cell_type": "code",
   "execution_count": null,
   "metadata": {},
   "outputs": [],
   "source": [
    "import pandas\n",
    "cnm = pandas.read_excel('Warehouse.xlsx')\n",
    "print(cnm)"
   ]
  },
  {
   "cell_type": "markdown",
   "metadata": {},
   "source": [
    "**What is the variable type?**: <br>\n",
    "It is a 'dataframe'. Let's look at how it works: <br>"
   ]
  },
  {
   "cell_type": "code",
   "execution_count": null,
   "metadata": {},
   "outputs": [],
   "source": [
    "type(cnm)\n",
    "cnm['NYC']\n",
    "print(cnm.index) #row names\n",
    "print(cnm.columns) # column names\n",
    "print(cnm.values) #all data\n",
    "print(cnm.dtypes) #it could be possible for not all values to be of the same type.\n",
    "cnm.head(2) #only first two rows of data set"
   ]
  },
  {
   "cell_type": "markdown",
   "metadata": {},
   "source": [
    "There are many interesting things you can do, like delete rows/columns, or even create subsets of columns that you care about. For example, if we only wanted to keep NYC, LA and Chicago in a future instance of our problem, and we also want to rearrange the columns to appear as NYC, Chicago, LA: "
   ]
  },
  {
   "cell_type": "code",
   "execution_count": null,
   "metadata": {},
   "outputs": [],
   "source": [
    "instance2 = ['NYC','Chicago','LA']\n",
    "cnm2 = cnm[instance2]\n",
    "print(cnm2)"
   ]
  },
  {
   "cell_type": "markdown",
   "metadata": {},
   "source": [
    "## Back to Pyomo:\n",
    "In the previous class, we saw our first Pyomo optimization formulation: <br>"
   ]
  },
  {
   "cell_type": "code",
   "execution_count": null,
   "metadata": {},
   "outputs": [],
   "source": [
    "from pyomo.environ import *\n",
    "model = ConcreteModel()\n",
    "model.x1 = Var(within=NonNegativeReals)\n",
    "model.x2 = Var(within=NonNegativeReals)\n",
    "\n",
    "model.obj = Objective(expr=model.x1 + 2*model.x2)\n",
    "model.con1 = Constraint(expr=3*model.x1+4*model.x2 >=1)\n",
    "model.con2 = Constraint(expr=2*model.x1+5*model.x2 >=2)\n",
    "\n",
    "solver = SolverFactory('glpk')\n",
    "solver.solve(model)\n",
    "model.pprint()"
   ]
  },
  {
   "cell_type": "markdown",
   "metadata": {},
   "source": [
    "**In this class, we will look at more efficient ways of formulating problems, so that we can easily solve larger problems and multiple instances of the same problem.** <br>\n",
    "For example:\n",
    "- What if you wanted to write the same problem above, but this time you had 100 variables instead of 2? <br>\n",
    "- What if you had 1000 constraints of similar form (but different coefficients or Right Hand Sides) instead of 2? <br>"
   ]
  },
  {
   "cell_type": "markdown",
   "metadata": {},
   "source": [
    "### Pyomo fundamentals:\n",
    "\n",
    "#### Pyomo Classes:\n",
    "There are 5 different classes in pyomo: \n",
    " - Var: Variables\n",
    " - Objective: Objective function\n",
    " - Constraint: Constraint expressions\n",
    " - Set: Sets of variables, parameters or expressions\n",
    " - Param: Given constant parameters or problem <br>\n",
    " \n",
    "#### Pyomo definitions of variables:\n",
    "You can define a variable as a real, integer, non-negative real, binary, etc. Below are the possibilities. In **bold** are the ones you will most likely use in this class: <br>\n",
    "\n",
    " - Any: The set of all possible values, except None\n",
    " - AnyWithNone: The set of all possible values\n",
    " - EmptySet: The set with no data values\n",
    " - **Reals**: The set of floating point values\n",
    " - **PositiveReals**: The set of strictly positive floating point values\n",
    " - **NonPositiveReals**: The set of non-positive floating point values\n",
    " - **NegativeReals**: The set of strictly negative floating point values\n",
    " - **NonNegativeReals**: The set of non-negative floating point values\n",
    " - PercentFraction: The set of floating point values in the interval [0,1]\n",
    " - UnitInterval: The same as ’PercentFraction’\n",
    " - **Integers**: The set of integer values\n",
    " - **PositiveIntegers**: The set of positive integer values\n",
    " - **NonPositiveIntegers**: The set of non-positive integer values\n",
    " - **NegativeIntegers**: The set of negative integer values\n",
    " - **NonNegativeIntegers**: The set of non-negative integer values\n",
    " - Boolean: The set of boolean values, which can be represented as False/True, 0/1, ‘False’/‘True’ and ‘F’/‘T’\n",
    " - **Binary**: The same as ‘Boolean’ <br>\n",
    "\n",
    "#### Pyomo models: Concrete vs. Abstract:\n",
    "We have so far only seen a case of a \"Concrete\" model. Pyomo allows you to define a model either as Concrete or Abstract. The only difference you should know at this point is: <br>\n",
    "\n",
    " - **Concrete Models**: You must give values to your parameters within the model. You either set them like the example above, or even read them from files (i.e., as a panda dataframe).\n",
    " - **Abstract Models**: You do not have to define your parameters and sets within the model. You create an *Abstract* version of your model, and then you need to create *Instances* of that model, and in the instance you give values to your parameters. Look more into Abstract Models if you are a more advanced user, and your project will require you to solve many many instances of a similar problem. <br> \n",
    " \n",
    "**Please NOTE: Whether to use an Abstract or Concrete Model, is up to the user's preference. There is no right or wrong way of doing it.** <br>"
   ]
  },
  {
   "cell_type": "markdown",
   "metadata": {},
   "source": [
    "#### Formulating Concrete Models with sets and rules of expressions:\n",
    "Let's take our simple example and formulate it in a better way: <br>\n",
    "\n",
    "**Previously:** <br>\n",
    "from pyomo.environ import *\n",
    "model = ConcreteModel()\n",
    "model.x1 = Var(within=NonNegativeReals)\n",
    "model.x2 = Var(within=NonNegativeReals)\n",
    "\n",
    "model.obj = Objective(expr=model.x1 + 2*model.x2)\n",
    "model.con1 = Constraint(expr=3*model.x1+4*model.x2 >=1)\n",
    "model.con2 = Constraint(expr=2*model.x1+5*model.x2 >=2)\n",
    "\n",
    "solver = SolverFactory('glpk')\n",
    "solver.solve(model)\n",
    "model.pprint()"
   ]
  },
  {
   "cell_type": "markdown",
   "metadata": {},
   "source": [
    "**The above represents this problem:**<br>\n",
    "\n",
    "min $x_1 + 2x_2$ <br>\n",
    "s.t. <br>\n",
    "$3x_1+4x_2 >=1$ <br>\n",
    "$2x_1+5x_2 >=2$ <br>\n",
    "$x_1,x_2>=0$ <br>\n",
    "\n",
    "**But this is equivalent to the following:** <br>\n",
    "min \n",
    "$\\sum_{N} c_Nx_N$ <br>\n",
    "s.t. <br>\n",
    "$\\mathbf{A}x <= \\mathbf{b}$ <br>\n",
    "$x_N>=0$ <br>\n",
    "\n",
    "**Also equivalent to the following:** <br>\n",
    "min \n",
    "$\\sum_{N} c_Nx_N$ <br>\n",
    "s.t. <br>\n",
    "$\\sum_{N}a_{M,N}x_{N} <= b_{M} $ where M = 1,2<br>\n",
    "$x_N>=0$ <br>"
   ]
  },
  {
   "cell_type": "code",
   "execution_count": null,
   "metadata": {},
   "outputs": [],
   "source": [
    "from pyomo.environ import *\n",
    "\n",
    "model = ConcreteModel()\n",
    "\n",
    "#Define Data:\n",
    "model.N = [1,2] #variable set that is a python list\n",
    "model.M = [1,2] #constraint set that is a python list\n",
    "model.c = {1:1, 2:2} # c parameters that are a function of set N, so we define as dictionary!\n",
    "model.b = {1:1, 2:2} # b parameters that are a function of set M, so we define as dictionary!\n",
    "model.a = {(1,1):3,(1,2):4,(2,1):2,(2,2):5} # a matrix parameter that is a function of [M x N], we define as a dictionary!\n",
    "print(len(model.a))\n",
    "model.x = Var(model.N, within=NonNegativeReals) #variable x(N), where N=1,2\n",
    "\n",
    "def obj_rule(model): #Function that defines the 'rule' to be sum_i c_i*x_i\n",
    "    return sum(model.c[i]*model.x[i] for i in model.N)\n",
    "model.obj = Objective(rule=obj_rule) #Instead of defining the objective as we did above, we now set it equal to the rule.\n",
    "\n",
    "def con_rule(model,m): #M functions that define the rule of sum_i a_M_i*x_i <= b_M\n",
    "    return sum(model.a[m,i]*model.x[i] for i in model.N) >= model.b[m]\n",
    "model.con = Constraint(model.M, rule=con_rule) #Instead of defining the constraint as we did above, we now set it equal to the rule.\n",
    "\n",
    "#same as above:\n",
    "solver = SolverFactory('glpk')\n",
    "solver.solve(model)\n",
    "model.pprint()\n",
    "\n"
   ]
  },
  {
   "cell_type": "markdown",
   "metadata": {},
   "source": [
    "Now, create a new  mydata.py file: with the following lines, and store it in the current directory. Try to then run the script in the next cell. \n",
    "\n",
    "\n",
    "N = [1,2] <br>\n",
    "M = [1,2] <br>\n",
    "c = {1:1, 2:2} <br> \n",
    "b = {1:1, 2:2} <br>\n",
    "a = {(1,1):3,(1,2):4,(2,1):2,(2,2):5} \n"
   ]
  },
  {
   "cell_type": "code",
   "execution_count": null,
   "metadata": {},
   "outputs": [],
   "source": [
    "from pyomo.environ import *\n",
    "\n",
    "import mydata #import data instead of putting it in the same function script\n",
    "\n",
    "model = ConcreteModel()\n",
    "\n",
    "model.x = Var(mydata.N, within=NonNegativeReals) #variable x(N), where N=1,2\n",
    "\n",
    "def obj_rule(model): #Function that defines the 'rule' to be sum_i c_i*x_i\n",
    "    return sum(mydata.c[i]*model.x[i] for i in mydata.N)\n",
    "model.obj = Objective(rule=obj_rule) #Instead of defining the objective as we did above, we now set it equal to the rule.\n",
    "\n",
    "def con_rule(model,m): #M functions that define the rule of sum_i a_M_i*x_i <= b_M\n",
    "    return sum(mydata.a[m,i]*model.x[i] for i in mydata.N) >= mydata.b[m]\n",
    "model.con = Constraint(mydata.M, rule=con_rule) #Instead of defining the constraint as we did above, we now set it equal to the rule.\n",
    "\n",
    "#same as above:\n",
    "solver = SolverFactory('glpk')\n",
    "solver.solve(model)\n",
    "model.pprint()\n"
   ]
  },
  {
   "cell_type": "markdown",
   "metadata": {},
   "source": [
    "####  EXERCISE: \n",
    "**Formulate and solve the Warehouse allocation model for the data provided at the beginning of the lecture.** <br>\n",
    "\n",
    "**SPECIFICATIONS:** <br>\n",
    " - We have a set of $N$ potential warehouse locations (we might not build all of them)<br>\n",
    " - We have a set of $M$ customer locations that need to receive product<br>\n",
    " - The cost of delivering product $(USD/ton)$ from warehouse $n$ to customer $m$ is given to us as $c_{n,m}$<br>\n",
    " - We must select at most $P$ warehouses.<br>\n",
    " - Demand for each $d_m$ customer must be met (at least). <br>\n",
    " - You can read the $c_{n,m}$ from pandas or input it in the script yourself.\n",
    "\n",
    "**Assume that:** <br>\n",
    " - $N = 3$\n",
    " - $M = 4$\n",
    " - $P = 2$\n",
    " \n",
    "|$d_m$    |   NYC   |   LA    | Chicago | Houston |\n",
    "|---------|---------|---------|---------|---------|\n",
    "|         | 1000    |  2000   |  4000   |   1500  |\n",
    "\n",
    "|$c_{n,m}$|   NYC   |   LA    | Chicago | Houston |   \n",
    "|---------|---------|---------|---------|---------|\n",
    "| Atlanta |  1956   |    1606 |   1410  |   330   |\n",
    "| Memphis |  1096   |    1792 |   531   |   567   |\n",
    "| Ashland |  485    |    2322 |   324   |   1236  |"
   ]
  },
  {
   "cell_type": "code",
   "execution_count": null,
   "metadata": {},
   "outputs": [],
   "source": [
    "from pyomo.environ import *\n",
    "\n",
    "model = ConcreteModel()\n",
    "\n",
    "#Define Data:\n",
    "model.N = ['Atlanta','Memphis','Ashland'] \n",
    "model.M = ['NYC','LA','Chicago','Houston']\n",
    " \n",
    "model.P = 2\n",
    " \n",
    "model.c = {('Atlanta','NYC'):1959,('Atlanta','LA'):1606,('Atlanta','Chicago'):1410,('Atlanta','Houston'):330,\n",
    "          ('Memphis','NYC'):1096,('Memphis','LA'):1792,('Memphis','Chicago'):531,('Memphis','Houston'):567,\n",
    "          ('Ashland','NYC'):485,('Ashland','LA'):2322,('Ashland','Chicago'):324,('Ashland','Houston'):1236} \n",
    "\n",
    "model.x = Var(model.N, model.M, within=NonNegativeReals) \n",
    "model.d = {'NYC':1000,'LA':2000,'Chicago':4000,'Houston':1500}\n",
    "\n",
    "def obj_rule(model): \n",
    "    return sum(model.c[n,m]*model.x[n,m] for n in model.N for m in model.M)\n",
    "model.obj = Objective(rule=obj_rule) \n",
    "\n",
    "def demand_con(model,m): \n",
    "    return sum(model.x[n,m] for n in model.N) >= model.d[m]\n",
    "model.con2 = Constraint(model.M, rule=demand_con) \n",
    "\n",
    "\n",
    "#same as above:\n",
    "solver = SolverFactory('glpk')\n",
    "solver.solve(model)\n",
    "model.pprint()"
   ]
  },
  {
   "cell_type": "markdown",
   "metadata": {},
   "source": [
    "### Practice: Can you use the data imported from Warehouse.xls to setup your Pyomo model?"
   ]
  },
  {
   "cell_type": "code",
   "execution_count": null,
   "metadata": {},
   "outputs": [],
   "source": []
  },
  {
   "cell_type": "code",
   "execution_count": null,
   "metadata": {},
   "outputs": [],
   "source": []
  },
  {
   "cell_type": "markdown",
   "metadata": {},
   "source": [
    "## Module 4 CSTR Non-linear Example"
   ]
  },
  {
   "cell_type": "markdown",
   "metadata": {},
   "source": [
    "This shows plain simulation of coupled ordinary differential equations."
   ]
  },
  {
   "cell_type": "code",
   "execution_count": 96,
   "metadata": {},
   "outputs": [
    {
     "name": "stdout",
     "output_type": "stream",
     "text": [
      "Outlet c_A: 0.16417005073230254\n",
      "Outlet c_B: 1.311114085898802\n",
      "Outlet c_C: 0.5247158633688539\n"
     ]
    }
   ],
   "source": [
    "from pyomo.dae import *\n",
    "kA  = 0.5   \n",
    "kB  = 0.1   \n",
    "cA0 = 2.0   \n",
    "\n",
    "m = ConcreteModel()\n",
    "\n",
    "m.t = ContinuousSet(bounds=(0, 5))\n",
    "\n",
    "m.cA = Var(m.t, domain=NonNegativeReals)\n",
    "m.cB = Var(m.t, domain=NonNegativeReals)\n",
    "m.cC = Var(m.t, domain=NonNegativeReals)\n",
    "\n",
    "m.dcA = DerivativeVar(m.cA)\n",
    "m.dcB = DerivativeVar(m.cB)\n",
    "m.dcC = DerivativeVar(m.cC)\n",
    "\n",
    "m.odeA = Constraint(m.t,\n",
    "    rule=lambda m, t: m.dcA[t] == (-kA*m.cA[t]) if t > 0 else Constraint.Skip)\n",
    "m.odeB = Constraint(m.t,\n",
    "    rule=lambda m, t: m.dcB[t] == (kA*m.cA[t] - kB*m.cB[t]) if t > 0 else Constraint.Skip)\n",
    "m.odeC = Constraint(m.t,\n",
    "    rule=lambda m, t: m.dcC[t] == (kB*m.cB[t]) if t > 0 else Constraint.Skip)\n",
    "\n",
    "m.ic = ConstraintList()\n",
    "m.ic.add(m.cA[0]  == cAf)\n",
    "m.ic.add(m.cB[0]  == 0)\n",
    "m.ic.add(m.cC[0]  == 0)\n",
    "\n",
    "TransformationFactory('dae.collocation').apply_to(m)\n",
    "SolverFactory('ipopt').solve(m)\n",
    "print('Outlet c_A:', m.cA[5]())\n",
    "print('Outlet c_B:', m.cB[5]())\n",
    "print('Outlet c_C:', m.cC[5]())"
   ]
  },
  {
   "cell_type": "markdown",
   "metadata": {},
   "source": [
    "Here we transform into non-dimensional variables, then optimize with respect to time."
   ]
  },
  {
   "cell_type": "code",
   "execution_count": 97,
   "metadata": {},
   "outputs": [
    {
     "name": "stdout",
     "output_type": "stream",
     "text": [
      "Maximum Profit is $ 14.697171916092724 with residence time: 4.7605927456556 minutes.\n",
      "Outlet c_A: 0.18504634917716825\n",
      "Outlet c_B: 1.321758709089196\n",
      "Outlet c_C: 0.4931949417335876\n"
     ]
    }
   ],
   "source": [
    "kA  = 0.5   \n",
    "kB  = 0.1   \n",
    "cA0 = 2.0   \n",
    "\n",
    "m = ConcreteModel()\n",
    "\n",
    "m.tau = ContinuousSet(bounds=(0, 1))\n",
    "\n",
    "m.tf = Var(domain=NonNegativeReals)\n",
    "m.cA = Var(m.tau, domain=NonNegativeReals)\n",
    "m.cB = Var(m.tau, domain=NonNegativeReals)\n",
    "m.cC = Var(m.tau, domain=NonNegativeReals)\n",
    "\n",
    "m.dcA = DerivativeVar(m.cA)\n",
    "m.dcB = DerivativeVar(m.cB)\n",
    "m.dcC = DerivativeVar(m.cC)\n",
    "\n",
    "m.odeA = Constraint(m.tau,\n",
    "    rule=lambda m, tau: m.dcA[tau] == m.tf*(-kA*m.cA[tau]) if tau > 0 else Constraint.Skip)\n",
    "m.odeB = Constraint(m.tau,\n",
    "    rule=lambda m, tau: m.dcB[tau] == m.tf*(kA*m.cA[tau] - kB*m.cB[tau]) if tau > 0 else Constraint.Skip)\n",
    "m.odeC = Constraint(m.tau,\n",
    "    rule=lambda m, tau: m.dcC[tau] == m.tf*(kB*m.cB[tau]) if tau > 0 else Constraint.Skip)\n",
    "\n",
    "m.ic = ConstraintList()\n",
    "m.ic.add(m.cA[0]  == cAf)\n",
    "m.ic.add(m.cB[0]  == 0)\n",
    "m.ic.add(m.cC[0]  == 0)\n",
    "\n",
    "m.obj = Objective(expr=m.cB[1]*10+m.cC[1]*3, sense=maximize)\n",
    "\n",
    "TransformationFactory('dae.collocation').apply_to(m)\n",
    "SolverFactory('ipopt').solve(m)\n",
    "print('Maximum Profit is $', 10*m.cB[1]()+3*m.cC[1](), 'with residence time:', m.tf(), 'minutes.')\n",
    "print('Outlet c_A:', m.cA[1]())\n",
    "print('Outlet c_B:', m.cB[1]())\n",
    "print('Outlet c_C:', m.cC[1]())"
   ]
  },
  {
   "cell_type": "code",
   "execution_count": null,
   "metadata": {},
   "outputs": [],
   "source": []
  },
  {
   "cell_type": "code",
   "execution_count": null,
   "metadata": {},
   "outputs": [],
   "source": [
    "## CSTR Non-linear Example\n",
    "\n",
    "This shows plain simulation of coupled ordinary differential equations.\n",
    "\n",
    "from pyomo.dae import *\n",
    "kA  = 0.5   \n",
    "kB  = 0.1   \n",
    "cA0 = 2.0   \n",
    "\n",
    "m = ConcreteModel()\n",
    "\n",
    "m.t = ContinuousSet(bounds=(0, 5))\n",
    "\n",
    "m.cA = Var(m.t, domain=NonNegativeReals)\n",
    "m.cB = Var(m.t, domain=NonNegativeReals)\n",
    "m.cC = Var(m.t, domain=NonNegativeReals)\n",
    "\n",
    "m.dcA = DerivativeVar(m.cA)\n",
    "m.dcB = DerivativeVar(m.cB)\n",
    "m.dcC = DerivativeVar(m.cC)\n",
    "\n",
    "m.odeA = Constraint(m.t,\n",
    "    rule=lambda m, t: m.dcA[t] == (-kA*m.cA[t]) if t > 0 else Constraint.Skip)\n",
    "m.odeB = Constraint(m.t,\n",
    "    rule=lambda m, t: m.dcB[t] == (kA*m.cA[t] - kB*m.cB[t]) if t > 0 else Constraint.Skip)\n",
    "m.odeC = Constraint(m.t,\n",
    "    rule=lambda m, t: m.dcC[t] == (kB*m.cB[t]) if t > 0 else Constraint.Skip)\n",
    "\n",
    "m.ic = ConstraintList()\n",
    "m.ic.add(m.cA[0]  == cAf)\n",
    "m.ic.add(m.cB[0]  == 0)\n",
    "m.ic.add(m.cC[0]  == 0)\n",
    "\n",
    "TransformationFactory('dae.collocation').apply_to(m)\n",
    "SolverFactory('ipopt').solve(m)\n",
    "print('Outlet c_A:', m.cA[5]())\n",
    "print('Outlet c_B:', m.cB[5]())\n",
    "print('Outlet c_C:', m.cC[5]())\n",
    "\n",
    "Here we transform into non-dimensional variables, then optimize with respect to time.\n",
    "\n",
    "kA  = 0.5   \n",
    "kB  = 0.1   \n",
    "cA0 = 2.0   \n",
    "\n",
    "m = ConcreteModel()\n",
    "\n",
    "m.tau = ContinuousSet(bounds=(0, 1))\n",
    "\n",
    "m.tf = Var(domain=NonNegativeReals)\n",
    "m.cA = Var(m.tau, domain=NonNegativeReals)\n",
    "m.cB = Var(m.tau, domain=NonNegativeReals)\n",
    "m.cC = Var(m.tau, domain=NonNegativeReals)\n",
    "\n",
    "m.dcA = DerivativeVar(m.cA)\n",
    "m.dcB = DerivativeVar(m.cB)\n",
    "m.dcC = DerivativeVar(m.cC)\n",
    "\n",
    "m.odeA = Constraint(m.tau,\n",
    "    rule=lambda m, tau: m.dcA[tau] == m.tf*(-kA*m.cA[tau]) if tau > 0 else Constraint.Skip)\n",
    "m.odeB = Constraint(m.tau,\n",
    "    rule=lambda m, tau: m.dcB[tau] == m.tf*(kA*m.cA[tau] - kB*m.cB[tau]) if tau > 0 else Constraint.Skip)\n",
    "m.odeC = Constraint(m.tau,\n",
    "    rule=lambda m, tau: m.dcC[tau] == m.tf*(kB*m.cB[tau]) if tau > 0 else Constraint.Skip)\n",
    "\n",
    "m.ic = ConstraintList()\n",
    "m.ic.add(m.cA[0]  == cAf)\n",
    "m.ic.add(m.cB[0]  == 0)\n",
    "m.ic.add(m.cC[0]  == 0)\n",
    "\n",
    "m.obj = Objective(expr=m.cB[1]*10+m.cC[1]*3, sense=maximize)\n",
    "\n",
    "TransformationFactory('dae.collocation').apply_to(m)\n",
    "SolverFactory('ipopt').solve(m)\n",
    "print('Maximum Profit is $', 10*m.cB[1]()+3*m.cC[1](), 'with residence time:', m.tf(), 'minutes.')\n",
    "print('Outlet c_A:', m.cA[1]())\n",
    "print('Outlet c_B:', m.cB[1]())\n",
    "print('Outlet c_C:', m.cC[1]())\n",
    "\n"
   ]
  },
  {
   "cell_type": "markdown",
   "metadata": {},
   "source": [
    "# Module 6-7-8 Global-Search, Surrogate-Based Optimization\n",
    "\n",
    "An alternative approach to direct-search algorithms are algorithms that rely on collecting data from the entire space, and fitting models for the entire search region. \n",
    "\n",
    "## Sampling Methods:\n",
    "There are several sampling strategies that are used to collect data within a space. \n",
    "\n",
    "**Question:** What do you think makes a good sampling design? Think of the 2D space shown below where x1 and x2 are normalized between 0-1. How many samples would you collect and where would you place them? Why?"
   ]
  },
  {
   "cell_type": "code",
   "execution_count": 1,
   "metadata": {},
   "outputs": [
    {
     "data": {
      "image/png": "[encoded data removed]",
      "text/plain": [
       "<Figure size 432x288 with 1 Axes>"
      ]
     },
     "metadata": {
      "needs_background": "light"
     },
     "output_type": "display_data"
    }
   ],
   "source": [
    "%matplotlib inline\n",
    "from pylab import *\n",
    "from matplotlib.patches import Rectangle\n",
    "currentAxis = plt.gca()"
   ]
  },
  {
   "cell_type": "markdown",
   "metadata": {},
   "source": [
    "- How many points?\n",
    "  - It depends on how complex the output is!\n",
    "  - Limitations in sampling.\n",
    "- Where would you place them?\n",
    "  - At corner points and then, in middle?\n",
    "  - If more..?\n",
    "- Are there other considerations to take into account?\n",
    "  - The type of model you want to fit, should affect the data you collect!"
   ]
  },
  {
   "cell_type": "markdown",
   "metadata": {},
   "source": [
    "### Experimental Design of Experiments:\n",
    "\n",
    "**How many of you have done experimental research?**<br>\n",
    "\n",
    "\"**Design Of Experiments**\" refers to techniques that aim to tell us where to collect data to study the effects of various inputs on the outputs of a system. Typically, the data is used to \"fit\" a simplified statistical model that \"maps\" the inputs to the output. <br>\n",
    "\n",
    "**Key Concepts I want you to get from the next few lectures:**\n",
    "\n",
    "1. The design of experiments (DoE) we select to use, is *linked with the type of function* we want to fit to the data. \n",
    "<br>\n",
    "\n",
    "2. *\"Experimental DoE\"* and *\"Computational DoE\"* often refer to different types of methods. What are the differences?\n",
    "<br>\n",
    "\n",
    "3. When using data, one must know where it came from. Was it *\"designed\"* or is it a *historical data* set collected as a system is operated? What we can do with these two different forms of data is significantly different.\n",
    "<br>\n",
    "\n",
    "4. One other categorization of data has to do with the inputs. Do we know the *independent inputs* that should be used to predict an output? OR is the data high-dimensional and we are not sure whether all inputs are important, or whether the inputs are \"correlated\" or *\"dependent\"*?\n",
    "<br>\n",
    "\n",
    "5. Is the data-generating system (experiment or simulation) deterministic or stochastic?\n",
    " - *Deterministic*: For a fixed input, the system will give us the same output every time we call it.\n",
    " - *Stochastic*: For a fixed input, the system will give us a slightly differetn output every time we call it.\n"
   ]
  },
  {
   "cell_type": "markdown",
   "metadata": {},
   "source": [
    "#### Experimental DoE, with known independent inputs:\n",
    "\n",
    " - How do we know which inputs are important for a given system?\n",
    "   - **Select for inputs we can control (those are likely to be independent)**, \n",
    "   - **Select inputs we know from physics/chemistry/thermo/kinetics affect an output**, \n",
    "   - **Get feedback from experts**."
   ]
  },
  {
   "cell_type": "markdown",
   "metadata": {},
   "source": [
    "#### How do these designs scale?\n",
    "\n",
    " - In 2 dimensions, if I want to collect a factorial design with 2 levels for each variable, I have $2^2=4$ points.\n",
    " - In 3 dimensions, if I want to collect a factorial design with 2 levels for each variable, I have $2^3=8$ points.\n",
    " \n",
    " ... **This number can explode!**\n",
    " "
   ]
  },
  {
   "cell_type": "markdown",
   "metadata": {},
   "source": [
    "#### \"CURSE OF DIMENSIONALITY\":\n",
    "\n",
    "<img src=\"cod.png\" width=\"1000\" />\n"
   ]
  },
  {
   "cell_type": "markdown",
   "metadata": {},
   "source": [
    "#### How are the points we collected linked to the models we can \"fit\" as surrogates?\n",
    "**Example:**\n",
    "Imagine you are in the lab, and your colleague has designed an experiment of a *Pressure-Swing Adsorption* process. The goal is to fit a function to explain how adsorption time and and desorption time (both design parameters or else inputs) affect the purity of the process output stream (output). You know that both adsorption time ($x_1$) and desorption time ($x_2$) can range between 50-250 seconds.\n",
    "\n",
    "Your colleague has collected the following data:\n",
    "<img src=\"data1.jpg\" width=\"300\" />\n",
    "\n",
    "Using this data, your colleague wants your help to fit a surrogate model that will be able to predict the purity as a function of the two inputs. Below is the code they used for that:"
   ]
  },
  {
   "cell_type": "code",
   "execution_count": 2,
   "metadata": {},
   "outputs": [
    {
     "name": "stderr",
     "output_type": "stream",
     "text": [
      "/opt/anaconda3/lib/python3.7/site-packages/ipykernel_launcher.py:25: DeprecationWarning: Calling np.sum(generator) is deprecated, and in the future will give a different result. Use np.sum(np.fromiter(generator)) or the python sum builtin instead.\n"
     ]
    },
    {
     "name": "stdout",
     "output_type": "stream",
     "text": [
      "2 Set Declarations\n",
      "    con_index : Dim=0, Dimen=1, Size=4, Domain=None, Ordered=False, Bounds=(1, 4)\n",
      "        [1, 2, 3, 4]\n",
      "    ypred_index : Dim=0, Dimen=1, Size=4, Domain=None, Ordered=False, Bounds=(1, 4)\n",
      "        [1, 2, 3, 4]\n",
      "\n",
      "5 Var Declarations\n",
      "    a : Size=1, Index=None\n",
      "        Key  : Lower : Value             : Upper : Fixed : Stale : Domain\n",
      "        None :  None : 92.57654320990324 :  None : False : False :  Reals\n",
      "    b : Size=1, Index=None\n",
      "        Key  : Lower : Value                 : Upper : Fixed : Stale : Domain\n",
      "        None :  None : 0.0067160493827141485 :  None : False : False :  Reals\n",
      "    c : Size=1, Index=None\n",
      "        Key  : Lower : Value                : Upper : Fixed : Stale : Domain\n",
      "        None :  None : 0.018271604938266576 :  None : False : False :  Reals\n",
      "    d : Size=1, Index=None\n",
      "        Key  : Lower : Value                   : Upper : Fixed : Stale : Domain\n",
      "        None :  None : -1.9753086419740077e-06 :  None : False : False :  Reals\n",
      "    ypred : Size=4, Index=ypred_index\n",
      "        Key : Lower : Value             : Upper : Fixed : Stale : Domain\n",
      "          1 :     0 : 93.20000000002652 :  None : False : False : NonNegativeReals\n",
      "          2 :     0 :  94.7000000000261 :  None : False : False : NonNegativeReals\n",
      "          3 :     0 : 97.30000000002539 :  None : False : False : NonNegativeReals\n",
      "          4 :     0 : 98.70000000002504 :  None : False : False : NonNegativeReals\n",
      "\n",
      "1 Objective Declarations\n",
      "    obj : Size=1, Index=None, Active=True\n",
      "        Key  : Active : Sense    : Expression\n",
      "        None :   True : minimize : (ypred[1] - 93.2)**2 + (ypred[2] - 94.7)**2 + (ypred[3] - 97.3)**2 + (ypred[4] - 98.7)**2\n",
      "\n",
      "1 Constraint Declarations\n",
      "    con : Size=4, Index=con_index, Active=True\n",
      "        Key : Lower : Body                                   : Upper : Active\n",
      "          1 :   0.0 :     25*b + 25*c + 625*d + a - ypred[1] :   0.0 :   True\n",
      "          2 :   0.0 :   250*b + 25*c + 6250*d + a - ypred[2] :   0.0 :   True\n",
      "          3 :   0.0 :   25*b + 250*c + 6250*d + a - ypred[3] :   0.0 :   True\n",
      "          4 :   0.0 : 250*b + 250*c + 62500*d + a - ypred[4] :   0.0 :   True\n",
      "\n",
      "9 Declarations: ypred_index ypred a b c d con_index con obj\n"
     ]
    }
   ],
   "source": [
    "from pyomo.environ import *\n",
    "model = ConcreteModel()\n",
    "\n",
    "#Define Data:\n",
    "model.n = [1,2] #dimension\n",
    "model.s = [1,2,3,4] #sample\n",
    "model.yact = {1:93.2, 2:94.7,3:97.3,4:98.7} \n",
    "model.xs = {(1,1):25,(1,2):25,(2,1):250,(2,2):25,(3,1):25,(3,2):250,(4,1):250,(4,2):250} \n",
    "\n",
    "model.ypred = Var(model.s, within=NonNegativeReals) \n",
    "model.a = Var()\n",
    "model.b = Var()\n",
    "model.c = Var()\n",
    "model.d = Var()\n",
    " \n",
    "\n",
    "def con_rule(model,i): # postulated function is: y=a + b*x_1 + c*x_2 + d*x_1*x_2\n",
    "    return (model.a+ sum(model.b*model.xs[i,1]+model.c*model.xs[i,2]+model.d*(model.xs[i,1]*model.xs[i,2])) - model.ypred[i] == 0)\n",
    "\n",
    "\n",
    "#Instead of defining the constraint as we did above, we now set it equal to the rule.\n",
    "model.con = Constraint(model.s, rule=con_rule)\n",
    "\n",
    "def obj_rule(model): \n",
    "    return sum((model.ypred[i]-model.yact[i])**2 for i in model.s)\n",
    "\n",
    "\n",
    "#Instead of defining the objective as we did above, we now set it equal to the rule.\n",
    "model.obj = Objective(rule=obj_rule) \n",
    "\n",
    "#same as above:\n",
    "solver = SolverFactory('ipopt')\n",
    "solver.solve(model)\n",
    "model.pprint()"
   ]
  },
  {
   "cell_type": "markdown",
   "metadata": {},
   "source": [
    "**In class exercise: Take out a sheet of paper as you do in groups and write your thoughts about your colleague's model.**\n",
    " - Is it predictive? No!\n",
    " - Is this a good model? No!\n",
    " - What are your recommendations? Collect more data."
   ]
  },
  {
   "cell_type": "markdown",
   "metadata": {},
   "source": [
    "#### Validation\n",
    "When collecting data, it is EXTREMELY important to validate. For the previous example, what happens if we try to validate our model with the following data:\n",
    "\n",
    "<img src=\"data_2.png\" width=\"500\" />"
   ]
  },
  {
   "cell_type": "markdown",
   "metadata": {},
   "source": [
    "**Notes:**\n",
    " - Why is this data useful?\n",
    "   - Validation\n",
    "   - Re-fitting nonlinear terms!\n",
    " - How would you use it?\n",
    "\n",
    "**End of Notes:**"
   ]
  },
  {
   "cell_type": "markdown",
   "metadata": {},
   "source": [
    "#### Computer DoE:\n",
    "\n",
    " - When we have a computer simulation, that we can use to freely generate data anywhere in the space, different types of designs are often used.\n",
    " - These designs aim to do two things:\n",
    "     - Collect representative set of samples from entire region\n",
    "     - Minimize sampling requirements\n",
    "     - Allow for non-linear interactions to be captured.\n",
    "     \n",
    "#### Latin Hyperbube Sampling:\n",
    "- Most popular technique for sampling using computer DOE!!!\n",
    "- They can avoid the problem of the \"Curse of Dimensionality\"\n",
    "- They have a randomness component in them, but they are better than completely random sampling.\n",
    "\n",
    "\n",
    "To illustrate in two dimensions: suppose we have a system with two input variables ranging from 0 to 1, and we want to understand the effect they have on the response of the system. Further suppose that we're willing to run 30 experiments, and no more."
   ]
  },
  {
   "cell_type": "code",
   "execution_count": 3,
   "metadata": {},
   "outputs": [
    {
     "data": {
      "text/plain": [
       "<matplotlib.collections.PathCollection at 0x61df6ba10>"
      ]
     },
     "execution_count": 3,
     "metadata": {},
     "output_type": "execute_result"
    },
    {
     "data": {
      "image/png": "[encoded data removed]",
      "text/plain": [
       "<Figure size 432x288 with 1 Axes>"
      ]
     },
     "metadata": {
      "needs_background": "light"
     },
     "output_type": "display_data"
    }
   ],
   "source": [
    "##BUILT-IN CODES TO GENERATE LHD DESIGNS:\n",
    "from pyDOE import *\n",
    "n = 2\n",
    "samples = 21\n",
    "\n",
    "#lhs(n, [samples, criterion, iterations])\n",
    "d1 = lhs(n, samples, criterion='center')\n",
    "d2 = lhs(n, samples, criterion='maximin')\n",
    "\n",
    "scatter(d1[:,0],d1[:,1])\n",
    "scatter(d2[:,0],d2[:,1])"
   ]
  },
  {
   "cell_type": "markdown",
   "metadata": {},
   "source": [
    "# Surrogate-based Optimization\n",
    "\n",
    "## Steps/Overview:\n",
    "\n",
    "**There are few simple steps for using surrogates for optimization:**\n",
    "\n",
    "There are **6 steps**:\n",
    "1. Identify inputs & bounds\n",
    "2. Collect initial data\n",
    "3. Select surrogate type(s) and fit them\n",
    "4. Validate surrogate fits\n",
    "5. Optimize surrogates\n",
    "6. Converge: Decide whether you are finished or whether you will do more iterations. \n",
    "\n",
    "### Step 1: Identify Inputs, Bounds\n",
    "\n",
    "1. **Selecting inputs**: This is a straight-forward step, but very important. <br> If you don't pick the right inputs, or you pick too many correlated inputs, none of the next steps might work!. <br> Let's assume for now that we know the set of important degrees-of-freedom.\n",
    "\n",
    "2. **Selecting Bounds**: Bounds are necessary for what we are about to do in the next steps. <br> Sometimes bounds are practically known (operating range of a process), but sometimes hard to decide on. <br> You have flexibility here. You can select an initial set of bounds and if your solutions are close to boundary, <br> you can expand and repeat all steps.\n",
    "\n",
    "\n",
    "### Step 2: Collect INITIAL Data\n",
    "\n",
    "As discussed in previous lecture, this is a very important step. You must:\n",
    "\n",
    "1. **Collect enough initial data for the model you'll be fitting next**\n",
    "2. **Collect enough initial data to model nonlinearity (if you don't absolutely know your system is linear).<br> This means that you need to have points that are not only changing one factor at a time!**\n",
    "3. **Collect enough data to do some validation.**\n",
    "4. **How large is your initial data set?**\n",
    "     - Use Heuristic: *~10dimension*\n",
    "     - Depends on how expensive your samples are\n",
    "     - Depends on how nonlinear your system is\n",
    "5. **Use the right Design of Experiments!**\n",
    "\n",
    "### Step 3: Select type of surrogate and fit it\n",
    "\n",
    "- Many options here!!! And more coming with all developments in **Machine Learning**.\n",
    "- **Which one is the best???** Nobody knows! It depends on application and what you want to do with the model.\n",
    "- In this class, we need to keep in mind that we want to use the models to optimize them. What does that mean?\n",
    "- We need to maintain a balance between **accuracy** and **complexity**.\n",
    "<br>\n",
    "<br>\n",
    "    1. **If a fitted model is very simple (i.e., linear), but not as accurate**: \n",
    "        - A standard algorithm can give you the global solution fast. But since the model is not accurate, <br> how useful is that global solution??        \n",
    "    2. **If a fitted model is very nonconvex, but very accurate**: \n",
    "        - A standard algorithm can only guarantee to find a local solution fast.\n",
    "        - A global optimization algorithm may give you a global solution but at high computational cost.\n",
    "        - How useful is a local solution?\n",
    "        - How useful is the global solution at high-cost vs. the time it would take to collect <br> many more samples in that same time?\n",
    "   \n",
    "<img src=\"Lecture18_1.png\" width=\"1000\" />\n",
    "\n",
    "<img src=\"Lecture18_2.png\" width=\"1000\" />\n",
    "\n",
    "\n",
    "#### Types of surrogates:\n",
    "1. Linear\n",
    "2. Quadratic\n",
    "3. Polynomial\n",
    "4. Generalized Linear Regression\n",
    "5. Gaussian Process Models (Kriging)\n",
    "6. Radial Basis Functions\n",
    "7. High-dimensional Model Representations\n",
    "8. Neural Networks\n",
    "9. Support Vector Regression\n",
    "10. Random Forests \n",
    "11. Others that I do not even know!\n",
    "\n",
    "**What you need to ask before you use them FOR OPTIMIZATION:**\n",
    "\n",
    "1. How 'flexible' is it, vs. how flexible I need it to be?\n",
    "\n",
    "2. Can I optimize it (locally or globally)?\n",
    "\n",
    "3. How 'expensive' is it to fit?\n",
    "\n",
    "4. How 'expensive' is it to optimize?\n",
    "\n",
    "5. How many parameters does it have? (also important for how many points you need to collect).\n",
    "\n",
    "\n",
    "### Step 4: Validate surrogate\n",
    "\n",
    "**Very Important!!!**\n",
    "\n",
    "**Definitions: Training Data**\n",
    "The data that is used to fit the model parameters.\n",
    "\n",
    "**Definition: Validation or Test data**\n",
    "The data that is used to validate the model. Cannot be the same as the training data.\n",
    "\n",
    "Every time you fit a model, you need to validate it on data that was *unseen* by the model <br> when fitting the parameters.\n",
    "\n",
    "#### CROSS VALIDATION:\n",
    "Very important idea in regression and machine learning. The idea is, I sometimes cannot afford <br> to collect more points so what I do is I leave some of the points I have collected \"out\" and separate my sampling set to a <br> training and validation set.\n",
    "\n",
    "**Steps:**\n",
    "1. Collect $N$ points.\n",
    "2. For k iterations do:\n",
    "    - Randomly select $m<N$ points as Validation points, \n",
    "    - Use rest $N-m$ points to train the model.\n",
    "    - Use trained model to predict $m$ Validation points. \n",
    "    - Calculate Error of Validation points.\n",
    "3. Calculate Average Cross-Validation Error as the Average of all the k errors.\n",
    "\n",
    "The Average Cross-Validation error is a good predictor of how good the model is.\n",
    "\n",
    "**How do I split the data? What is $N$, what is $m$, how many $k$???**\n",
    " - Typically $m$ is a 5-20% of $N$\n",
    " \n",
    " - If you can afford to collect 5-20% more data at first, do it.\n",
    " \n",
    " - If you have no ability to collect more data, assess based on $N$, <br> how much you can afford to leave out, so your training set is a good enough number.\n",
    " \n",
    " - You can even do *Leave-One-Out* cross-validation, where every time you leave only 1 sample out.\n",
    " \n",
    " - $k$ is the number of iterations. Again that depends on the amount of data you have. <br> For leave-one-out, you can only do up to $k=N$ iterations.\n",
    " \n",
    "**Example:**\n",
    " - In a 2D example, using heuristic $10n$, I collect $N=20$ points. I then fit the model $k=20$ times, <br> each time leaving one of the samples out for validation error.\n",
    " \n",
    " - In a 2D example, I collect: $N=20+4=24$ points. I then set $k=10$. For each $k$, <br> I randomly select $m=5$ samples as my validation set, use the 20 remaining for training. \n",
    " "
   ]
  },
  {
   "cell_type": "markdown",
   "metadata": {},
   "source": [
    "**Let's look at the example from last lecture:**\n",
    "<img src=\"data_2.jpg\" width=\"500\" />"
   ]
  },
  {
   "cell_type": "code",
   "execution_count": 4,
   "metadata": {},
   "outputs": [
    {
     "name": "stderr",
     "output_type": "stream",
     "text": [
      "/opt/anaconda3/lib/python3.7/site-packages/ipykernel_launcher.py:22: DeprecationWarning: Calling np.sum(generator) is deprecated, and in the future will give a different result. Use np.sum(np.fromiter(generator)) or the python sum builtin instead.\n"
     ]
    },
    {
     "name": "stdout",
     "output_type": "stream",
     "text": [
      "a : Size=1, Index=None\n",
      "    Key  : Lower : Value             : Upper : Fixed : Stale : Domain\n",
      "    None :  None : 93.22898646889051 :  None : False : False :  Reals\n",
      "b : Size=1, Index=None\n",
      "    Key  : Lower : Value                 : Upper : Fixed : Stale : Domain\n",
      "    None :  None : 0.0069458688830371625 :  None : False : False :  Reals\n",
      "c : Size=1, Index=None\n",
      "    Key  : Lower : Value                : Upper : Fixed : Stale : Domain\n",
      "    None :  None : 0.018215588917799355 :  None : False : False :  Reals\n",
      "d : Size=1, Index=None\n",
      "    Key  : Lower : Value                 : Upper : Fixed : Stale : Domain\n",
      "    None :  None : -1.96943427598757e-06 :  None : False : False :  Reals\n",
      "4.724209867048854\n"
     ]
    },
    {
     "name": "stderr",
     "output_type": "stream",
     "text": [
      "/opt/anaconda3/lib/python3.7/site-packages/ipykernel_launcher.py:36: DeprecationWarning: Calling np.sum(generator) is deprecated, and in the future will give a different result. Use np.sum(np.fromiter(generator)) or the python sum builtin instead.\n"
     ]
    }
   ],
   "source": [
    "from pyomo.environ import *\n",
    "model = ConcreteModel()\n",
    "\n",
    "#Define Data:\n",
    "model.n = [1,2] #dimension\n",
    "model.s = [1,2,3,4,5,6,7,8,9] #sample\n",
    "model.yact = {1:93.2, 2:94.7,3:97.3,4:98.7,5:96.6, 6:98.2,7:94.6,8:98.6,9:98.0} \n",
    "model.xs = {(1,1):25,(1,2):25,(2,1):250,(2,2):25,(3,1):25,(3,2):250,(4,1):250,(4,2):250,(5,1):25,(5,2):138,\n",
    "            (6,1):250,(6,2):138,(7,1):138,(7,2):25,(8,1):138,(8,2):250,(9,1):138,(9,2):138} \n",
    "\n",
    "model.ypred = Var(model.s, within=NonNegativeReals) \n",
    "model.a = Var()\n",
    "model.b = Var()\n",
    "model.c = Var()\n",
    "model.d = Var()\n",
    "\n",
    "def con_rule(model,i): # postulated function is: y=a + b*x_1 + c*x_2 + d*x_1*x_2\n",
    "    return (model.a+ model.b*model.xs[i,1]+model.c*model.xs[i,2]+model.d*(model.xs[i,1]*model.xs[i,2])) - model.ypred[i] == 0\n",
    "model.con = Constraint(model.s, rule=con_rule) #Instead of defining the constraint as we did above, we now set it equal to the rule.\n",
    "\n",
    "def obj_rule(model): \n",
    "    return sum((model.ypred[i]-model.yact[i])**2 for i in model.s)\n",
    "model.obj = Objective(rule=obj_rule) #Instead of defining the objective as we did above, we now set it equal to the rule.\n",
    "\n",
    "#same as above:\n",
    "solver = SolverFactory('ipopt')\n",
    "solver.solve(model)\n",
    "model.a.pprint()\n",
    "model.b.pprint()\n",
    "model.c.pprint()\n",
    "model.d.pprint()\n",
    "\n",
    "def surr(x1,x2):\n",
    "    return model.a+model.b*x1+model.c*x2+model.d*(x1*x2)\n",
    "\n",
    "err = value(sum((model.yact[i]-model.ypred[i])**2 for i in model.s))\n",
    "\n",
    "print(err)"
   ]
  },
  {
   "cell_type": "markdown",
   "metadata": {},
   "source": [
    "**How do we do cross-validation with this model?**\n",
    " - Algorithmically, we need to be efficient, can't write this model $k$ times and manually change set size!! (like below!)"
   ]
  },
  {
   "cell_type": "code",
   "execution_count": 5,
   "metadata": {},
   "outputs": [
    {
     "name": "stderr",
     "output_type": "stream",
     "text": [
      "/opt/anaconda3/lib/python3.7/site-packages/ipykernel_launcher.py:27: DeprecationWarning: Calling np.sum(generator) is deprecated, and in the future will give a different result. Use np.sum(np.fromiter(generator)) or the python sum builtin instead.\n"
     ]
    },
    {
     "name": "stdout",
     "output_type": "stream",
     "text": [
      "a : Size=1, Index=None\n",
      "    Key  : Lower : Value             : Upper : Fixed : Stale : Domain\n",
      "    None :  None : 93.07417842393677 :  None : False : False :  Reals\n",
      "b : Size=1, Index=None\n",
      "    Key  : Lower : Value                : Upper : Fixed : Stale : Domain\n",
      "    None :  None : 0.006939719606177007 :  None : False : False :  Reals\n",
      "c : Size=1, Index=None\n",
      "    Key  : Lower : Value               : Upper : Fixed : Stale : Domain\n",
      "    None :  None : 0.01801317860683012 :  None : False : False :  Reals\n",
      "d : Size=1, Index=None\n",
      "    Key  : Lower : Value                   : Upper : Fixed : Stale : Domain\n",
      "    None :  None : -1.9774744075055306e-06 :  None : False : False :  Reals\n",
      "2.7029298645508826\n"
     ]
    },
    {
     "name": "stderr",
     "output_type": "stream",
     "text": [
      "/opt/anaconda3/lib/python3.7/site-packages/ipykernel_launcher.py:41: DeprecationWarning: Calling np.sum(generator) is deprecated, and in the future will give a different result. Use np.sum(np.fromiter(generator)) or the python sum builtin instead.\n"
     ]
    }
   ],
   "source": [
    "from pyomo.environ import *\n",
    "model = ConcreteModel()\n",
    "\n",
    "#Define Data:\n",
    "model.n = [1,2] #dimension\n",
    "model.s = [1,2,3,4,5,6,7] # removed last two samples\n",
    "model.v = [1,2] #validation set\n",
    "model.yact = {1:93.2, 2:94.7,3:97.3,4:98.7,5:96.6, 6:98.2,7:94.6} \n",
    "\n",
    "model.xs = {(1,1):25,(1,2):25,(2,1):250,(2,2):25,(3,1):25,(3,2):250,(4,1):250,(4,2):250,(5,1):25,(5,2):138,\n",
    "            (6,1):250,(6,2):138,(7,1):138,(7,2):25}\n",
    "\n",
    "model.xv = {(1,1):138,(1,2):250,(2,1):138,(2,2):138}\n",
    "model.yv = {1:98.6,2:98.0}\n",
    "\n",
    "model.ypred = Var(model.s, within=NonNegativeReals) \n",
    "model.a = Var()\n",
    "model.b = Var()\n",
    "model.c = Var()\n",
    "model.d = Var()\n",
    "\n",
    "def con_rule(model,i): # postulated function is: y=a + b*x_1 + c*x_2 + d*x_1*x_2\n",
    "    return (model.a+ model.b*model.xs[i,1]+model.c*model.xs[i,2]+model.d*(model.xs[i,1]*model.xs[i,2])) - model.ypred[i] == 0\n",
    "model.con = Constraint(model.s, rule=con_rule) #Instead of defining the constraint as we did above, we now set it equal to the rule.\n",
    "\n",
    "def obj_rule(model): \n",
    "    return sum((model.ypred[i]-model.yact[i])**2 for i in model.s)\n",
    "model.obj = Objective(rule=obj_rule) #Instead of defining the objective as we did above, we now set it equal to the rule.\n",
    "\n",
    "#same as above:\n",
    "solver = SolverFactory('ipopt')\n",
    "solver.solve(model)\n",
    "model.a.pprint()\n",
    "model.b.pprint()\n",
    "model.c.pprint()\n",
    "model.d.pprint()\n",
    "\n",
    "def surr(x1,x2):\n",
    "    return model.a+model.b*x1+model.c*x2+model.d*(x1*x2)\n",
    "\n",
    "err_train = value(sum((model.yact[i]-surr(model.xs[i,1],model.xs[i,2]))**2 for i in model.s))\n",
    "#err_val = ???\n",
    "print(err_train)\n",
    "#print(err_val) Is this a good model???"
   ]
  },
  {
   "cell_type": "markdown",
   "metadata": {},
   "source": [
    "**Was this a good cross-validation?**\n",
    "\n",
    "<img src=\"Lecture18_4.png\" width=\"1000\" />"
   ]
  },
  {
   "cell_type": "markdown",
   "metadata": {},
   "source": [
    "### Step 5: Optimize surrogate\n",
    "\n",
    "This is the easy step.\n",
    "\n",
    "**We have a function --> use pyomo, or sci.optimize and OPTIMIZE it!**\n",
    "<br>\n",
    "**AS ALWAYS, know what your function is. Does it have nonconvex terms?**\n",
    "\n",
    " - If yes, know what solver you used to optimize it, and know if you actually found the globally or locally optimal point of your function.\n",
    " \n",
    " - If no, there are a lot of solvers that will guarantee global optimality, and at least you know you found the global optimum of that function.\n",
    "\n",
    "\n",
    "### Step 6: Decide what to do next?\n",
    "\n",
    "**What to do next???**\n",
    "\n",
    "First thing to **ALWAYS** do:\n",
    "\n",
    " 1. The optimum of the surrogate is not the real optimum of your problem. <br> So, take the $x_{surr_{opt}}$ you found, and go back to your *simulation, model, black-box function, experiment* and simulate it to get the $f(x_{surr_{opt}})$.\n",
    " \n",
    " 2. Compare error between $f(x_{surr_{opt}})$ and $f_surr(x_{surr_{opt}})$. <br> If that is very small, then you are in good shape. You could potentially stop searching (if all of your cross-validation errors were very low too).\n",
    " \n",
    " 3. But that rarely happens. If that distance is not small, what to do next???\n",
    " \n",
    "\n",
    "**This is where all of the innovation comes in!**\n",
    "Adaptive Sampling is one idea. But how do you adaptively sample??\n",
    "\n",
    "<img src=\"lecture18_3.png\" width=\"1000\" />"
   ]
  },
  {
   "cell_type": "markdown",
   "metadata": {},
   "source": [
    "# Surrogate Models\n",
    "\n",
    "**Definitions:** \n",
    " - A surrogate model is a parametric function, that is fitted based on input-output data to approximate the trends in the data.\n",
    " - It is a \"map\" between a set of inputs and an output.\n",
    " - A surrogate model is also called a \"metamodel\".\n",
    "\n",
    "## Types of surrogate models:\n",
    "\n",
    "### 1. Regression surrogate models:\n",
    "When using regression surrogate models, the optimal surrogate function has parameters that: <br> \n",
    "**minimize error between surrogate predictions and data**, but function has **less parameters than of data points**. <br>\n",
    "As a result, the function is not guaranteed to be a perfect fit to all of the collected data. \n"
   ]
  },
  {
   "cell_type": "code",
   "execution_count": 6,
   "metadata": {},
   "outputs": [
    {
     "name": "stderr",
     "output_type": "stream",
     "text": [
      "/opt/anaconda3/lib/python3.7/site-packages/ipykernel_launcher.py:33: DeprecationWarning: Calling np.sum(generator) is deprecated, and in the future will give a different result. Use np.sum(np.fromiter(generator)) or the python sum builtin instead.\n"
     ]
    },
    {
     "name": "stdout",
     "output_type": "stream",
     "text": [
      "a0 : Size=1, Index=None\n",
      "    Key  : Lower : Value             : Upper : Fixed : Stale : Domain\n",
      "    None :  None : 91.56090866302713 :  None : False : False :  Reals\n",
      "a1 : Size=1, Index=None\n",
      "    Key  : Lower : Value                : Upper : Fixed : Stale : Domain\n",
      "    None :  None : 0.020264804339473075 :  None : False : False :  Reals\n",
      "a2 : Size=1, Index=None\n",
      "    Key  : Lower : Value               : Upper : Fixed : Stale : Domain\n",
      "    None :  None : 0.04878479778423757 :  None : False : False :  Reals\n",
      "a11 : Size=1, Index=None\n",
      "    Key  : Lower : Value                  : Upper : Fixed : Stale : Domain\n",
      "    None :  None : -4.846186262114138e-05 :  None : False : False :  Reals\n",
      "a22 : Size=1, Index=None\n",
      "    Key  : Lower : Value                   : Upper : Fixed : Stale : Domain\n",
      "    None :  None : -0.00011122816875026241 :  None : False : False :  Reals\n",
      "a12 : Size=1, Index=None\n",
      "    Key  : Lower : Value                   : Upper : Fixed : Stale : Domain\n",
      "    None :  None : -1.9694342759875346e-06 :  None : False : False :  Reals\n",
      "0.008625925763448113\n"
     ]
    },
    {
     "name": "stderr",
     "output_type": "stream",
     "text": [
      "/opt/anaconda3/lib/python3.7/site-packages/ipykernel_launcher.py:49: DeprecationWarning: Calling np.sum(generator) is deprecated, and in the future will give a different result. Use np.sum(np.fromiter(generator)) or the python sum builtin instead.\n"
     ]
    }
   ],
   "source": [
    "from pyomo.environ import *\n",
    "model = ConcreteModel()\n",
    "\n",
    "#Define Data:\n",
    "model.n = [1,2] #dimension (x1: adsorption time, x2: desorption time)\n",
    "model.s = [1,2,3,4,5,6,7,8,9] #samples\n",
    "model.yact = {1:93.2, 2:94.7, 3:97.3, 4:98.7, 5:96.6, 6:98.2, 7:94.6, 8:98.6, 9:98.0} \n",
    "model.xs = {(1,1):25,(1,2):25,\n",
    "            (2,1):250,(2,2):25,\n",
    "            (3,1):25,(3,2):250,\n",
    "            (4,1):250,(4,2):250,\n",
    "            (5,1):25,(5,2):138,\n",
    "            (6,1):250,(6,2):138,\n",
    "            (7,1):138,(7,2):25,\n",
    "            (8,1):138,(8,2):250,\n",
    "            (9,1):138,(9,2):138} \n",
    "\n",
    "\n",
    "model.ypred = Var(model.s, within=NonNegativeReals) \n",
    "model.a0 = Var()\n",
    "model.a1 = Var()\n",
    "model.a2 = Var()\n",
    "model.a11 = Var()\n",
    "model.a22 = Var()\n",
    "model.a12 = Var()\n",
    "\n",
    "def con_rule(model,i): # postulated function is: y=a0 + a1*x_1 + a2*x_2 + a11*x_1**2 + a22*x_2**2 + a12*x_1*x_2\n",
    "    return (model.a0+ model.a1*model.xs[i,1]+model.a2*model.xs[i,2]+model.a11*model.xs[i,1]**2 + model.a22*model.xs[i,2]**2 +\n",
    "            model.a12*(model.xs[i,1]*model.xs[i,2])) - model.ypred[i] == 0\n",
    "model.con = Constraint(model.s, rule=con_rule) #Instead of defining the constraint as we did above, we now set it equal to the rule.\n",
    "\n",
    "def obj_rule(model): \n",
    "    return sum((model.ypred[i]-model.yact[i])**2 for i in model.s)\n",
    "model.obj = Objective(rule=obj_rule) #Instead of defining the objective as we did above, we now set it equal to the rule.\n",
    "\n",
    "#same as above:\n",
    "solver = SolverFactory('ipopt')\n",
    "solver.solve(model)\n",
    "model.a0.pprint()\n",
    "model.a1.pprint()\n",
    "model.a2.pprint()\n",
    "model.a11.pprint()\n",
    "model.a22.pprint()\n",
    "model.a12.pprint()\n",
    "\n",
    "def surr(x1,x2):\n",
    "    return model.a0 + model.a1*x1 + model.a2*x2 + model.a11*x1**2 + model.a22*x2**2 + model.a12*x1*x2\n",
    "\n",
    "err = value(sum((model.yact[i]-model.ypred[i])**2 for i in model.s))\n",
    "\n",
    "print(err)"
   ]
  },
  {
   "cell_type": "markdown",
   "metadata": {},
   "source": [
    "### 2. Interpolating Surrogate Models:\n",
    "When a function *interpolates* the data, this means that the **Sum of Squared Errors** <br> \n",
    "between data and surrogate prediction is **ZERO**. Or else, the function predicts each point exactly. <br> \n",
    "This can happen when:\n",
    " 1. The function we selected to fit has as many parameters as the number of data points. <br> (i.e., fitting a linear model in $n$ dimensions with $n+1$ points.)\n",
    " 2. Some Machine Learning functions (i.e., Gaussian Processes, Radial Basis Functions) are by default interpolating in nature.\n"
   ]
  },
  {
   "cell_type": "code",
   "execution_count": 7,
   "metadata": {},
   "outputs": [
    {
     "name": "stderr",
     "output_type": "stream",
     "text": [
      "/opt/anaconda3/lib/python3.7/site-packages/ipykernel_launcher.py:29: DeprecationWarning: Calling np.sum(generator) is deprecated, and in the future will give a different result. Use np.sum(np.fromiter(generator)) or the python sum builtin instead.\n"
     ]
    },
    {
     "name": "stdout",
     "output_type": "stream",
     "text": [
      "a0 : Size=1, Index=None\n",
      "    Key  : Lower : Value            : Upper : Fixed : Stale : Domain\n",
      "    None :  None : 91.5825589970771 :  None : False : False :  Reals\n",
      "a1 : Size=1, Index=None\n",
      "    Key  : Lower : Value                : Upper : Fixed : Stale : Domain\n",
      "    None :  None : 0.019685743159926574 :  None : False : False :  Reals\n",
      "a2 : Size=1, Index=None\n",
      "    Key  : Lower : Value                : Upper : Fixed : Stale : Domain\n",
      "    None :  None : 0.049037216525403764 :  None : False : False :  Reals\n",
      "a11 : Size=1, Index=None\n",
      "    Key  : Lower : Value                : Upper : Fixed : Stale : Domain\n",
      "    None :  None : -4.7162522826227e-05 :  None : False : False :  Reals\n",
      "a22 : Size=1, Index=None\n",
      "    Key  : Lower : Value                  : Upper : Fixed : Stale : Domain\n",
      "    None :  None : -0.0001118749512259534 :  None : False : False :  Reals\n",
      "a12 : Size=1, Index=None\n",
      "    Key  : Lower : Value                   : Upper : Fixed : Stale : Domain\n",
      "    None :  None : -1.9753086419740026e-06 :  None : False : False :  Reals\n",
      "3.9190327043631435e-21\n"
     ]
    },
    {
     "name": "stderr",
     "output_type": "stream",
     "text": [
      "/opt/anaconda3/lib/python3.7/site-packages/ipykernel_launcher.py:45: DeprecationWarning: Calling np.sum(generator) is deprecated, and in the future will give a different result. Use np.sum(np.fromiter(generator)) or the python sum builtin instead.\n"
     ]
    }
   ],
   "source": [
    "from pyomo.environ import *\n",
    "model = ConcreteModel()\n",
    "\n",
    "#Define Data:\n",
    "model.n = [1,2] #dimension\n",
    "model.s = [1,2,3,4,5,6] #sample\n",
    "model.yact = {1:93.2, 2:94.7, 3:97.3, 4:98.7, 5:98.6, 6:98.0} \n",
    "model.xs = {(1,1):25, (1,2):25,\n",
    "            (2,1):250,(2,2):25,\n",
    "            (3,1):25,(3,2):250,\n",
    "            (4,1):250,(4,2):250,\n",
    "            (5,1):138,(5,2):250,\n",
    "            (6,1):138,(6,2):138} \n",
    "\n",
    "model.ypred = Var(model.s, within=NonNegativeReals) \n",
    "model.a0 = Var()\n",
    "model.a1 = Var()\n",
    "model.a2 = Var()\n",
    "model.a11 = Var()\n",
    "model.a22 = Var()\n",
    "model.a12 = Var()\n",
    "\n",
    "def con_rule(model,i): # postulated function is: y=a0 + a1*x_1 + a2*x_2 + a11*x_1**2 + a22*x_2**2 + a12*x_1*x_2\n",
    "    return (model.a0+ model.a1*model.xs[i,1]+model.a2*model.xs[i,2]+model.a11*model.xs[i,1]**2 + model.a22*model.xs[i,2]**2 +\n",
    "            model.a12*(model.xs[i,1]*model.xs[i,2])) - model.ypred[i] == 0\n",
    "model.con = Constraint(model.s, rule=con_rule) #Instead of defining the constraint as we did above, we now set it equal to the rule.\n",
    "\n",
    "def obj_rule(model): \n",
    "    return sum((model.ypred[i]-model.yact[i])**2 for i in model.s)\n",
    "model.obj = Objective(rule=obj_rule) #Instead of defining the objective as we did above, we now set it equal to the rule.\n",
    "\n",
    "#same as above:\n",
    "solver = SolverFactory('ipopt')\n",
    "solver.solve(model)\n",
    "model.a0.pprint()\n",
    "model.a1.pprint()\n",
    "model.a2.pprint()\n",
    "model.a11.pprint()\n",
    "model.a22.pprint()\n",
    "model.a12.pprint()\n",
    "\n",
    "def surr(x1,x2):\n",
    "    return model.a0 + model.a1*x1 + model.a2*x2 + model.a11*x1**2 + model.a22*x2**2 + model.a12*x1*x2\n",
    "\n",
    "err = value(sum((model.yact[i]-model.ypred[i])**2 for i in model.s))\n",
    "\n",
    "print(err)"
   ]
  },
  {
   "cell_type": "markdown",
   "metadata": {},
   "source": [
    "## Discussion:\n",
    "\n",
    "Are the following statements **TRUE** or **FALSE**?\n",
    "\n",
    " 1. Since the sum of squared errors (SSE) of interpolating functions is always zero, interpolation is always better than regression. <br>\n",
    " *Discussion*: FALSE! <br>\n",
    " 2. Since SSE when fitting interpolation models is 0, I do not need to validate further. <br>\n",
    " *Discussion*: VERY FALSE! <br>\n",
    " 3. A low SSE for regression, is all I need to assess whether a model is a good fit or not. <br>\n",
    " *Discussion*: FALSE, we should do cross validation. Special cases, maybe not (see below). <br>\n",
    " 4. For regression, I could get away with not doing cross-validation, but for interpolation I need to do cross-validation. <br>\n",
    " *Discussion*: True if we have a lot of data and few parameters in regression. Usually, we should cross-validate for both cases. <br>\n",
    " "
   ]
  },
  {
   "cell_type": "markdown",
   "metadata": {},
   "source": [
    "## Scaling\n",
    "\n",
    "Now consider the regression model we fit earlier, with 9 points and 6 parameters. Let's look at the optimal parameters: <br>\n",
    " - a0 : 91.56090866302713 <br>\n",
    " - a1 : 0.02026480433947306 <br>\n",
    " - a2 : 0.04878479778423757 <br>\n",
    " - a11 : -4.846186262114135e-05 <br>\n",
    " - a22 : -0.00011122816875026241 <br>\n",
    " - a12 : -1.9694342759875084e-06 <br>\n",
    "\n",
    "**Discussion: True of False?** <br>\n",
    "\n",
    " 1. Since a11 and a12 are very small, I can just remove them and re-fit the model with 4 parameters and it won't make a difference. <br>"
   ]
  },
  {
   "cell_type": "code",
   "execution_count": 8,
   "metadata": {},
   "outputs": [
    {
     "name": "stdout",
     "output_type": "stream",
     "text": [
      "-2.9476576766391878\n"
     ]
    }
   ],
   "source": [
    "# Calculations to check whether the above statement is true or false:\n",
    "\n",
    "print(value(model.a11)*250*250)"
   ]
  },
  {
   "cell_type": "markdown",
   "metadata": {},
   "source": [
    "In order to make the values of the parameters more interpretable, and to avoid any numerical issues, it is always best to scale data before fitting surrogate models.<br>\n",
    "\n",
    "### Scaling between 0-1:\n",
    "For this type of scaling, all we need are the bounds of the data set.\n",
    "\n",
    "$x_{scaled} = (x-x^{min})/(x^{max}-x^{min}) $ <br>\n",
    "\n",
    "**Discussion:**\n",
    " 1. Do we scale both input and output? <br> --> YES\n",
    " \n",
    " 2. What scaling parameters do we use for each input and output? <br>  --> each column of data normalized by different scaling factors\n",
    "  "
   ]
  },
  {
   "cell_type": "code",
   "execution_count": 9,
   "metadata": {},
   "outputs": [
    {
     "name": "stdout",
     "output_type": "stream",
     "text": [
      "{1: 0.0, 2: 0.2727272727272727, 3: 0.7454545454545444, 4: 1.0, 5: 0.6181818181818166, 6: 0.9090909090909091, 7: 0.254545454545453, 8: 0.9818181818181803, 9: 0.8727272727272722}\n"
     ]
    },
    {
     "name": "stderr",
     "output_type": "stream",
     "text": [
      "/opt/anaconda3/lib/python3.7/site-packages/ipykernel_launcher.py:52: DeprecationWarning: Calling np.sum(generator) is deprecated, and in the future will give a different result. Use np.sum(np.fromiter(generator)) or the python sum builtin instead.\n"
     ]
    },
    {
     "name": "stdout",
     "output_type": "stream",
     "text": [
      "a0 : Size=1, Index=None\n",
      "    Key  : Lower : Value                 : Upper : Fixed : Stale : Domain\n",
      "    None :  None : 7.244154693399705e-07 :  None : False : False :  Reals\n",
      "a1 : Size=1, Index=None\n",
      "    Key  : Lower : Value              : Upper : Fixed : Stale : Domain\n",
      "    None :  None : 0.7231815273853804 :  None : False : False :  Reals\n",
      "a2 : Size=1, Index=None\n",
      "    Key  : Lower : Value              : Upper : Fixed : Stale : Domain\n",
      "    None :  None : 1.7615228971595593 :  None : False : False :  Reals\n",
      "a11 : Size=1, Index=None\n",
      "    Key  : Lower : Value               : Upper : Fixed : Stale : Domain\n",
      "    None :  None : -0.4439920934919642 :  None : False : False :  Reals\n",
      "a22 : Size=1, Index=None\n",
      "    Key  : Lower : Value               : Upper : Fixed : Stale : Domain\n",
      "    None :  None : -1.0217274055593584 :  None : False : False :  Reals\n",
      "a12 : Size=1, Index=None\n",
      "    Key  : Lower : Value                 : Upper : Fixed : Stale : Domain\n",
      "    None :  None : -0.014988674012013935 :  None : False : False :  Reals\n",
      "0.0002930602257652653\n"
     ]
    },
    {
     "name": "stderr",
     "output_type": "stream",
     "text": [
      "/opt/anaconda3/lib/python3.7/site-packages/ipykernel_launcher.py:68: DeprecationWarning: Calling np.sum(generator) is deprecated, and in the future will give a different result. Use np.sum(np.fromiter(generator)) or the python sum builtin instead.\n"
     ]
    }
   ],
   "source": [
    "## Refit Regression model, after having scaled all data between 0-1\n",
    "from pyomo.environ import *\n",
    "model = ConcreteModel()\n",
    "\n",
    "#Define Data:\n",
    "model.n = [1,2] #dimension (x1: adsorption time, x2: desorption time)\n",
    "model.s = [1,2,3,4,5,6,7,8,9] #samples\n",
    "model.yact = {1:93.2, 2:94.7, 3:97.3, 4:98.7, 5:96.6, 6:98.2, 7:94.6, 8:98.6, 9:98.0} \n",
    "\n",
    "# Find max/min of output:\n",
    "ymax= model.yact[max(model.yact.keys(), key=(lambda k:model.yact[k]))]\n",
    "ymin= model.yact[min(model.yact.keys(), key=(lambda k:model.yact[k]))]\n",
    "\n",
    "#Scale dictionary values:\n",
    "for k in model.yact.keys():\n",
    "    model.yact[k] = (model.yact[k] - ymin)/(ymax-ymin)\n",
    "print(model.yact)\n",
    "\n",
    "\n",
    "model.xs = {(1,1):25,(1,2):25,\n",
    "            (2,1):250,(2,2):25,\n",
    "            (3,1):25,(3,2):250,\n",
    "            (4,1):250,(4,2):250,\n",
    "            (5,1):25,(5,2):138,\n",
    "            (6,1):250,(6,2):138,\n",
    "            (7,1):138,(7,2):25,\n",
    "            (8,1):138,(8,2):250,\n",
    "            (9,1):138,(9,2):138} \n",
    "\n",
    "# x min-max values:\n",
    "xmin = 25\n",
    "xmax = 250\n",
    "\n",
    "#SCALE model.xs:\n",
    "for k in model.xs.keys():\n",
    "    model.xs[k] = (model.xs[k] - xmin)/(xmax-xmin)\n",
    "\n",
    "model.ypred = Var(model.s, within=NonNegativeReals) \n",
    "model.a0 = Var()\n",
    "model.a1 = Var()\n",
    "model.a2 = Var()\n",
    "model.a11 = Var()\n",
    "model.a22 = Var()\n",
    "model.a12 = Var()\n",
    "\n",
    "def con_rule(model,i): # postulated function is: y=a0 + a1*x_1 + a2*x_2 + a11*x_1**2 + a22*x_2**2 + a12*x_1*x_2\n",
    "    return (model.a0+ model.a1*model.xs[i,1]+model.a2*model.xs[i,2]+model.a11*model.xs[i,1]**2 + model.a22*model.xs[i,2]**2 +\n",
    "            model.a12*(model.xs[i,1]*model.xs[i,2])) - model.ypred[i] == 0\n",
    "model.con = Constraint(model.s, rule=con_rule) #Instead of defining the constraint as we did above, we now set it equal to the rule.\n",
    "\n",
    "def obj_rule(model): \n",
    "    return sum((model.ypred[i]-model.yact[i])**2 for i in model.s)\n",
    "model.obj = Objective(rule=obj_rule) #Instead of defining the objective as we did above, we now set it equal to the rule.\n",
    "\n",
    "#same as above:\n",
    "solver = SolverFactory('ipopt')\n",
    "solver.solve(model)\n",
    "model.a0.pprint()\n",
    "model.a1.pprint()\n",
    "model.a2.pprint()\n",
    "model.a11.pprint()\n",
    "model.a22.pprint()\n",
    "model.a12.pprint()\n",
    "\n",
    "def surr(x1,x2):\n",
    "    return model.a0 + model.a1*x1 + model.a2*x2 + model.a11*x1**2 + model.a22*x2**2 + model.a12*x1*x2\n",
    "\n",
    "err = value(sum((model.yact[i]-model.ypred[i])**2 for i in model.s))\n",
    "\n",
    "print(err)"
   ]
  },
  {
   "cell_type": "markdown",
   "metadata": {},
   "source": [
    "**DID YOUR CONCLUSIONS CHANGE???** YES - Now relative order of parameters is different!!!"
   ]
  },
  {
   "cell_type": "markdown",
   "metadata": {},
   "source": [
    "### Scaling data with mean and sd \n",
    "Another way to scale is by normalizing the data to have zero mean and unit variance (**Z-Score** or **Standard-Score**). <br>\n",
    "\n",
    "In this case, we transform the data as follows: <br>\n",
    "\n",
    "$ \\mu = average(x) $ <br>\n",
    "\n",
    "$ sd  = stdev(x) $ <br>\n",
    "\n",
    "$x_{scaled} = (x-\\mu)/sd $ <br>\n",
    "\n",
    "**To do at home as follow up: Normalize data for same example with the Z-score method, recalculate the values. Did you get different conclusions?**\n",
    "\n",
    "**Discussion:Which normalization method is better?**\n",
    " 1. **Depends on:** <br>\n",
    "     a. Data amount and Data distribution (Z-score works well when lots of data and normal distribution is good assumption) <br> \n",
    "     b. What we want to do with data after normalization (i.e., heuristics that NN work best with 0-1)<br>\n",
    " 2. **With 0-1 normalization:** does not need to be 0-1. You can perturb between 0.1 - 1.1 or 1-2 if you want to avoid 0 values. <br> "
   ]
  },
  {
   "cell_type": "markdown",
   "metadata": {},
   "source": [
    "## Is more data, more parameters always better?\n",
    "\n",
    "**VERY IMPORTANT TO KNOW ANSWER TO THIS! WHY?**\n",
    "   - Experiments are costly. Think of you telling your boss to perform many more experiments that cost thousands dollars and time, and then producing the same quality model, or an even worse model !!! <br> \n",
    "   \n",
    "Intuitively, we would all think that as we add more data to our sampling set, and we add more parameters to our surrogates, the fit is going to improve. <br> \n",
    "\n",
    "**Is this true???** <br>\n",
    "\n",
    "**It depends on:** <br>\n",
    " 1. Where I collect the data\n",
    " 2. What type of function I use to fit the data\n",
    " \n",
    "**Example: Your black-box function is:** <br>\n",
    "\n",
    "$f(x) = \\frac{1}{(1+25x^2)} $. <br>\n",
    "\n",
    "$ -1 \\le x \\le 1 $ <br>"
   ]
  },
  {
   "cell_type": "code",
   "execution_count": 10,
   "metadata": {},
   "outputs": [
    {
     "data": {
      "image/png": "[encoded data removed]",
      "text/plain": [
       "<Figure size 432x288 with 1 Axes>"
      ]
     },
     "metadata": {
      "needs_background": "light"
     },
     "output_type": "display_data"
    }
   ],
   "source": [
    "%matplotlib inline\n",
    "from pylab import *\n",
    "\n",
    "def bbf(x):\n",
    "    return 1/(1+25*x**2)\n",
    "\n",
    "xp = linspace(-1, 1, 100)\n",
    "yp = bbf(xp)\n",
    "\n",
    "figure()\n",
    "plot(xp, yp)\n",
    "xlabel('x')\n",
    "ylabel('y')\n",
    "title('bbf')\n",
    "show()"
   ]
  },
  {
   "cell_type": "markdown",
   "metadata": {},
   "source": [
    "Now assume we collected three points, and we fit a quadratic model."
   ]
  },
  {
   "cell_type": "code",
   "execution_count": 11,
   "metadata": {},
   "outputs": [
    {
     "name": "stderr",
     "output_type": "stream",
     "text": [
      "/opt/anaconda3/lib/python3.7/site-packages/ipykernel_launcher.py:26: DeprecationWarning: Calling np.sum(generator) is deprecated, and in the future will give a different result. Use np.sum(np.fromiter(generator)) or the python sum builtin instead.\n"
     ]
    },
    {
     "name": "stdout",
     "output_type": "stream",
     "text": [
      "a0 : Size=1, Index=None\n",
      "    Key  : Lower : Value              : Upper : Fixed : Stale : Domain\n",
      "    None :  None : 1.0000000012537877 :  None : False : False :  Reals\n",
      "a1 : Size=1, Index=None\n",
      "    Key  : Lower : Value                : Upper : Fixed : Stale : Domain\n",
      "    None :  None : 7.65645044786951e-18 :  None : False : False :  Reals\n",
      "a2 : Size=1, Index=None\n",
      "    Key  : Lower : Value               : Upper : Fixed : Stale : Domain\n",
      "    None :  None : -0.9615384037802706 :  None : False : False :  Reals\n",
      "0.038461597473517184\n",
      "1.0000000012537877\n",
      "0.038461597473517184\n",
      "{1: 0.038461538461538464, 2: 1.0, 3: 0.038461538461538464}\n"
     ]
    },
    {
     "data": {
      "image/png": "[encoded data removed]",
      "text/plain": [
       "<Figure size 432x288 with 1 Axes>"
      ]
     },
     "metadata": {
      "needs_background": "light"
     },
     "output_type": "display_data"
    }
   ],
   "source": [
    "### 3 points, 3 parameters (interpolation of a quadratic function):\n",
    "\n",
    "xs = array([-1, 0, 1])\n",
    "ys = bbf(xs)\n",
    "\n",
    "##WE CAN NUMERICALLY CALCULATE THIS, but let's use Pyomo:\n",
    "from pyomo.environ import *\n",
    "model = ConcreteModel()\n",
    "\n",
    "#Define Data:\n",
    "model.s = [1,2,3] #samples\n",
    "model.xs = {1:xs[0], 2:xs[1], 3:xs[2]} \n",
    "model.yact = {1:bbf(xs[0]), 2:bbf(xs[1]), 3:bbf(xs[2])}\n",
    "\n",
    "\n",
    "model.ypred = Var(model.s, within=NonNegativeReals) \n",
    "model.a0 = Var()\n",
    "model.a1 = Var()\n",
    "model.a2 = Var()\n",
    "\n",
    "def con_rule(model,i): \n",
    "    return (model.a0+ model.a1*model.xs[i]+model.a2*model.xs[i]**2) - model.ypred[i] == 0\n",
    "model.con = Constraint(model.s, rule=con_rule) #Instead of defining the constraint as we did above, we now set it equal to the rule.\n",
    "\n",
    "def obj_rule(model): \n",
    "    return sum((model.ypred[i]-model.yact[i])**2 for i in model.s)\n",
    "model.obj = Objective(rule=obj_rule) #Instead of defining the objective as we did above, we now set it equal to the rule.\n",
    "\n",
    "#same as above:\n",
    "solver = SolverFactory('ipopt')\n",
    "solver.solve(model)\n",
    "model.a0.pprint()\n",
    "model.a1.pprint()\n",
    "model.a2.pprint()\n",
    "\n",
    "def surr(x):\n",
    "    return value(model.a0) + value(model.a1)*x + value(model.a2)*x**2\n",
    "\n",
    "print(surr(-1))\n",
    "print(surr(0))\n",
    "print(surr(1))\n",
    "\n",
    "print(model.yact)\n",
    "\n",
    "\n",
    "y2 = surr(xp)\n",
    "fig, ax = subplots()\n",
    "\n",
    "ax.plot(xp, yp, 'r',label=\"actual\")\n",
    "ax.plot(xp, y2, 'b',label=\"surrogate\")\n",
    "ax.legend(loc=2); # show legend in upper left corner\n",
    "ax.set_xlabel('x')\n",
    "ax.set_ylabel('y')\n",
    "ax.set_title('two curves example');\n",
    "show()"
   ]
  },
  {
   "cell_type": "markdown",
   "metadata": {},
   "source": [
    "**Now, add two more points at:**<br> \n",
    "x = -0.5\n",
    "x = 0.5\n",
    "\n",
    "**Add two more terms to the function: ** <br>\n",
    "\n",
    "$x^3$   and $x^4$\n",
    "\n",
    "Recalculate parameters, and plot against actual. Did the function improve?"
   ]
  },
  {
   "cell_type": "code",
   "execution_count": 12,
   "metadata": {},
   "outputs": [
    {
     "name": "stderr",
     "output_type": "stream",
     "text": [
      "/opt/anaconda3/lib/python3.7/site-packages/ipykernel_launcher.py:25: DeprecationWarning: Calling np.sum(generator) is deprecated, and in the future will give a different result. Use np.sum(np.fromiter(generator)) or the python sum builtin instead.\n"
     ]
    },
    {
     "name": "stdout",
     "output_type": "stream",
     "text": [
      "a0 : Size=1, Index=None\n",
      "    Key  : Lower : Value              : Upper : Fixed : Stale : Domain\n",
      "    None :  None : 0.5679513167267979 :  None : False : False :  Reals\n",
      "a1 : Size=1, Index=None\n",
      "    Key  : Lower : Value                 : Upper : Fixed : Stale : Domain\n",
      "    None :  None : 4.738434737724204e-17 :  None : False : False :  Reals\n",
      "a2 : Size=1, Index=None\n",
      "    Key  : Lower : Value               : Upper : Fixed : Stale : Domain\n",
      "    None :  None : -0.5679512892656475 :  None : False : False :  Reals\n",
      "2.7461150353680353e-08\n",
      "0.5679513167267979\n",
      "2.7461150353680353e-08\n",
      "{1: 0.038461538461538464, 2: 0.13793103448275862, 3: 1.0, 4: 0.13793103448275862, 5: 0.038461538461538464}\n"
     ]
    },
    {
     "data": {
      "image/png": "[encoded data removed]",
      "text/plain": [
       "<Figure size 432x288 with 1 Axes>"
      ]
     },
     "metadata": {
      "needs_background": "light"
     },
     "output_type": "display_data"
    }
   ],
   "source": [
    "### 5 points, 3 parameters (regression of a quadratic function):\n",
    "\n",
    "xs = array([-1, -0.5, 0, 0.5, 1])\n",
    "ys = bbf(xs)\n",
    "\n",
    "##WE CAN NUMERICALLY CALCULATE THIS, but let's use Pyomo:\n",
    "from pyomo.environ import *\n",
    "model = ConcreteModel()\n",
    "\n",
    "#Define Data:\n",
    "model.s = [1,2,3,4,5] #samples\n",
    "model.xs = {1:xs[0], 2:xs[1], 3:xs[2], 4:xs[3], 5:xs[4]} \n",
    "model.yact = {1:bbf(xs[0]), 2:bbf(xs[1]), 3:bbf(xs[2]), 4:bbf(xs[3]), 5:bbf(xs[4])}\n",
    "\n",
    "model.ypred = Var(model.s, within=NonNegativeReals) \n",
    "model.a0 = Var()\n",
    "model.a1 = Var()\n",
    "model.a2 = Var()\n",
    "\n",
    "def con_rule(model,i): \n",
    "    return (model.a0+ model.a1*model.xs[i]+model.a2*model.xs[i]**2) - model.ypred[i] == 0\n",
    "model.con = Constraint(model.s, rule=con_rule) #Instead of defining the constraint as we did above, we now set it equal to the rule.\n",
    "\n",
    "def obj_rule(model): \n",
    "    return sum((model.ypred[i]-model.yact[i])**2 for i in model.s)\n",
    "model.obj = Objective(rule=obj_rule) #Instead of defining the objective as we did above, we now set it equal to the rule.\n",
    "\n",
    "#same as above:\n",
    "solver = SolverFactory('ipopt')\n",
    "solver.solve(model)\n",
    "model.a0.pprint()\n",
    "model.a1.pprint()\n",
    "model.a2.pprint()\n",
    "\n",
    "def surr(x):\n",
    "    return value(model.a0) + value(model.a1)*x + value(model.a2)*x**2\n",
    "\n",
    "print(surr(-1))\n",
    "print(surr(0))\n",
    "print(surr(1))\n",
    "\n",
    "print(model.yact)\n",
    "\n",
    "\n",
    "y2 = surr(xp)\n",
    "fig, ax = subplots()\n",
    "\n",
    "ax.plot(xp, yp, 'r',label=\"actual\")\n",
    "ax.plot(xp, y2, 'b',label=\"surrogate\")\n",
    "ax.legend(loc=2); # show legend in upper left corner\n",
    "ax.set_xlabel('x')\n",
    "ax.set_ylabel('y')\n",
    "ax.set_title('two curves example');\n",
    "show()\n",
    "#Notice how the data is no longer interpolated!"
   ]
  },
  {
   "cell_type": "code",
   "execution_count": 13,
   "metadata": {},
   "outputs": [
    {
     "name": "stderr",
     "output_type": "stream",
     "text": [
      "/opt/anaconda3/lib/python3.7/site-packages/ipykernel_launcher.py:27: DeprecationWarning: Calling np.sum(generator) is deprecated, and in the future will give a different result. Use np.sum(np.fromiter(generator)) or the python sum builtin instead.\n"
     ]
    },
    {
     "name": "stdout",
     "output_type": "stream",
     "text": [
      "a0 : Size=1, Index=None\n",
      "    Key  : Lower : Value              : Upper : Fixed : Stale : Domain\n",
      "    None :  None : 1.0000000012537877 :  None : False : False :  Reals\n",
      "a1 : Size=1, Index=None\n",
      "    Key  : Lower : Value                  : Upper : Fixed : Stale : Domain\n",
      "    None :  None : 1.1751272043265875e-18 :  None : False : False :  Reals\n",
      "a2 : Size=1, Index=None\n",
      "    Key  : Lower : Value              : Upper : Fixed : Stale : Domain\n",
      "    None :  None : -4.277188304680244 :  None : False : False :  Reals\n"
     ]
    },
    {
     "data": {
      "image/png": "[encoded data removed]",
      "text/plain": [
       "<Figure size 432x288 with 1 Axes>"
      ]
     },
     "metadata": {
      "needs_background": "light"
     },
     "output_type": "display_data"
    }
   ],
   "source": [
    "### 5 points, 5 parameters (interpolation of a 4th order polynomial):\n",
    "\n",
    "xs = array([-1, -0.5, 0, 0.5, 1])\n",
    "ys = bbf(xs)\n",
    "\n",
    "##WE CAN NUMERICALLY CALCULATE THIS, but let's use Pyomo:\n",
    "from pyomo.environ import *\n",
    "model = ConcreteModel()\n",
    "\n",
    "#Define Data:\n",
    "model.s = [1,2,3,4,5] #samples\n",
    "model.xs = {1:xs[0], 2:xs[1], 3:xs[2], 4:xs[3], 5:xs[4]} \n",
    "model.yact = {1:bbf(xs[0]), 2:bbf(xs[1]), 3:bbf(xs[2]), 4:bbf(xs[3]), 5:bbf(xs[4])}\n",
    "\n",
    "model.ypred = Var(model.s, within=NonNegativeReals) \n",
    "model.a0 = Var()\n",
    "model.a1 = Var()\n",
    "model.a2 = Var()\n",
    "model.a3 = Var()\n",
    "model.a4 = Var()\n",
    "\n",
    "def con_rule(model,i): \n",
    "    return (model.a0+ model.a1*model.xs[i]+model.a2*model.xs[i]**2+model.a3*model.xs[i]**3+model.a4*model.xs[i]**4) - model.ypred[i] == 0\n",
    "model.con = Constraint(model.s, rule=con_rule) #Instead of defining the constraint as we did above, we now set it equal to the rule.\n",
    "\n",
    "def obj_rule(model): \n",
    "    return sum((model.ypred[i]-model.yact[i])**2 for i in model.s)\n",
    "model.obj = Objective(rule=obj_rule) #Instead of defining the objective as we did above, we now set it equal to the rule.\n",
    "\n",
    "#same as above:\n",
    "solver = SolverFactory('ipopt')\n",
    "solver.solve(model)\n",
    "model.a0.pprint()\n",
    "model.a1.pprint()\n",
    "model.a2.pprint()\n",
    "\n",
    "def surr(x):\n",
    "    return value(model.a0) + value(model.a1)*x + value(model.a2)*x**2 + value(model.a3)*x**3 + value(model.a4)*x**4\n",
    "\n",
    "y2 = surr(xp)\n",
    "fig, ax = subplots()\n",
    "\n",
    "ax.plot(xp, yp, 'r',label=\"actual\")\n",
    "ax.plot(xp, y2, 'b',label=\"surrogate\")\n",
    "ax.legend(loc=2); # show legend in upper left corner\n",
    "ax.set_xlabel('x')\n",
    "ax.set_ylabel('y')\n",
    "ax.set_title('two curves example');\n",
    "show()\n"
   ]
  },
  {
   "cell_type": "code",
   "execution_count": 14,
   "metadata": {},
   "outputs": [
    {
     "name": "stdout",
     "output_type": "stream",
     "text": [
      "[-1.   -0.75 -0.5  -0.25  0.    0.25  0.5   0.75  1.  ]\n"
     ]
    },
    {
     "name": "stderr",
     "output_type": "stream",
     "text": [
      "/opt/anaconda3/lib/python3.7/site-packages/ipykernel_launcher.py:28: DeprecationWarning: Calling np.sum(generator) is deprecated, and in the future will give a different result. Use np.sum(np.fromiter(generator)) or the python sum builtin instead.\n"
     ]
    },
    {
     "name": "stdout",
     "output_type": "stream",
     "text": [
      "a0 : Size=1, Index=None\n",
      "    Key  : Lower : Value              : Upper : Fixed : Stale : Domain\n",
      "    None :  None : 0.6521230598691566 :  None : False : False :  Reals\n",
      "a1 : Size=1, Index=None\n",
      "    Key  : Lower : Value                  : Upper : Fixed : Stale : Domain\n",
      "    None :  None : 3.3084195880594455e-17 :  None : False : False :  Reals\n",
      "a2 : Size=1, Index=None\n",
      "    Key  : Lower : Value               : Upper : Fixed : Stale : Domain\n",
      "    None :  None : -1.9023270725809514 :  None : False : False :  Reals\n"
     ]
    },
    {
     "data": {
      "image/png": "[encoded data removed]",
      "text/plain": [
       "<Figure size 432x288 with 1 Axes>"
      ]
     },
     "metadata": {
      "needs_background": "light"
     },
     "output_type": "display_data"
    }
   ],
   "source": [
    "### 9 points, 5 parameters (regression of a 4th order polynomial):\n",
    "xs = linspace(-1, 1, 9)\n",
    "ys = bbf(xs)\n",
    "print(xs)\n",
    "\n",
    "##WE CAN NUMERICALLY CALCULATE THIS, but let's use Pyomo:\n",
    "from pyomo.environ import *\n",
    "model = ConcreteModel()\n",
    "\n",
    "#Define Data:\n",
    "model.s = [1,2,3,4,5,6,7,8,9] #samples\n",
    "model.xs = {1:xs[0], 2:xs[1], 3:xs[2], 4:xs[3], 5:xs[4], 6:xs[5], 7:xs[6], 8:xs[7], 9:xs[8]} \n",
    "model.yact = {1:bbf(xs[0]), 2:bbf(xs[1]), 3:bbf(xs[2]), 4:bbf(xs[3]), 5:bbf(xs[4]),\n",
    "              6:bbf(xs[5]), 7:bbf(xs[6]), 8:bbf(xs[7]), 9:bbf(xs[8])}\n",
    "\n",
    "model.ypred = Var(model.s, within=NonNegativeReals) \n",
    "model.a0 = Var()\n",
    "model.a1 = Var()\n",
    "model.a2 = Var()\n",
    "model.a3 = Var()\n",
    "model.a4 = Var()\n",
    "\n",
    "def con_rule(model,i): \n",
    "    return (model.a0+ model.a1*model.xs[i]+model.a2*model.xs[i]**2+model.a3*model.xs[i]**3+model.a4*model.xs[i]**4) - model.ypred[i] == 0\n",
    "model.con = Constraint(model.s, rule=con_rule) #Instead of defining the constraint as we did above, we now set it equal to the rule.\n",
    "\n",
    "def obj_rule(model): \n",
    "    return sum((model.ypred[i]-model.yact[i])**2 for i in model.s)\n",
    "model.obj = Objective(rule=obj_rule) #Instead of defining the objective as we did above, we now set it equal to the rule.\n",
    "\n",
    "#same as above:\n",
    "solver = SolverFactory('ipopt')\n",
    "solver.solve(model)\n",
    "model.a0.pprint()\n",
    "model.a1.pprint()\n",
    "model.a2.pprint()\n",
    "\n",
    "def surr(x):\n",
    "    return value(model.a0) + value(model.a1)*x + value(model.a2)*x**2 + value(model.a3)*x**3 + value(model.a4)*x**4\n",
    "\n",
    "y2 = surr(xp)\n",
    "fig, ax = subplots()\n",
    "\n",
    "ax.plot(xp, yp, 'r',label=\"actual\")\n",
    "ax.plot(xp, y2, 'b',label=\"surrogate\")\n",
    "ax.legend(loc=2); # show legend in upper left corner\n",
    "ax.set_xlabel('x')\n",
    "ax.set_ylabel('y')\n",
    "ax.set_title('two curves example');\n",
    "show()"
   ]
  },
  {
   "cell_type": "code",
   "execution_count": 15,
   "metadata": {},
   "outputs": [
    {
     "name": "stdout",
     "output_type": "stream",
     "text": [
      "[-1.   -0.75 -0.5  -0.25  0.    0.25  0.5   0.75  1.  ]\n"
     ]
    },
    {
     "name": "stderr",
     "output_type": "stream",
     "text": [
      "/opt/anaconda3/lib/python3.7/site-packages/ipykernel_launcher.py:33: DeprecationWarning: Calling np.sum(generator) is deprecated, and in the future will give a different result. Use np.sum(np.fromiter(generator)) or the python sum builtin instead.\n"
     ]
    },
    {
     "data": {
      "image/png": "[encoded data removed]",
      "text/plain": [
       "<Figure size 432x288 with 1 Axes>"
      ]
     },
     "metadata": {
      "needs_background": "light"
     },
     "output_type": "display_data"
    }
   ],
   "source": [
    "### 9 points, 9 parameters (interpolation of a 8th order polynomial):\n",
    "xs = linspace(-1, 1, 9)\n",
    "ys = bbf(xs)\n",
    "print(xs)\n",
    "\n",
    "##WE CAN NUMERICALLY CALCULATE THIS, but let's use Pyomo:\n",
    "from pyomo.environ import *\n",
    "model = ConcreteModel()\n",
    "\n",
    "#Define Data:\n",
    "model.s = [1,2,3,4,5,6,7,8,9] #samples\n",
    "model.xs = {1:xs[0], 2:xs[1], 3:xs[2], 4:xs[3], 5:xs[4], 6:xs[5], 7:xs[6], 8:xs[7], 9:xs[8]} \n",
    "model.yact = {1:bbf(xs[0]), 2:bbf(xs[1]), 3:bbf(xs[2]), 4:bbf(xs[3]), 5:bbf(xs[4]),\n",
    "              6:bbf(xs[5]), 7:bbf(xs[6]), 8:bbf(xs[7]), 9:bbf(xs[8])}\n",
    "\n",
    "model.ypred = Var(model.s, within=NonNegativeReals) \n",
    "model.a0 = Var()\n",
    "model.a1 = Var()\n",
    "model.a2 = Var()\n",
    "model.a3 = Var()\n",
    "model.a4 = Var()\n",
    "model.a5 = Var()\n",
    "model.a6 = Var()\n",
    "model.a7 = Var()\n",
    "model.a8 = Var()\n",
    "\n",
    "def con_rule(model,i): \n",
    "    return (model.a0+ model.a1*model.xs[i]+model.a2*model.xs[i]**2+model.a3*model.xs[i]**3+model.a4*model.xs[i]**4\n",
    "            + model.a5*model.xs[i]**5 + model.a6*model.xs[i]**6 + model.a7*model.xs[i]**7 + model.a8*model.xs[i]**8) - model.ypred[i] == 0\n",
    "model.con = Constraint(model.s, rule=con_rule) #Instead of defining the constraint as we did above, we now set it equal to the rule.\n",
    "\n",
    "def obj_rule(model): \n",
    "    return sum((model.ypred[i]-model.yact[i])**2 for i in model.s)\n",
    "model.obj = Objective(rule=obj_rule) #Instead of defining the objective as we did above, we now set it equal to the rule.\n",
    "\n",
    "#same as above:\n",
    "solver = SolverFactory('ipopt')\n",
    "solver.solve(model)\n",
    "\n",
    "def surr(x):\n",
    "    return value(model.a0) + value(model.a1)*x + value(model.a2)*x**2 + value(model.a3)*x**3 + value(model.a4)*x**4 + value(model.a5)*x**5 + value(model.a6)*x**6 + value(model.a7)*x**7 + value(model.a8)*x**8\n",
    "\n",
    "y2 = surr(xp)\n",
    "fig, ax = subplots()\n",
    "\n",
    "ax.plot(xp, yp, 'r',label=\"actual\")\n",
    "ax.plot(xp, y2, 'b',label=\"surrogate\")\n",
    "ax.legend(loc=2); # show legend in upper left corner\n",
    "ax.set_xlabel('x')\n",
    "ax.set_ylabel('y')\n",
    "ax.set_title('two curves example');\n",
    "show()"
   ]
  },
  {
   "cell_type": "markdown",
   "metadata": {},
   "source": [
    "## Intro to regularization\n",
    "\n",
    "Another **VERY** important topic in surrogate modeling. <br>\n",
    "\n",
    "**Preliminaries**: <br>\n",
    " 1. We know that if we can fit a good model with less parameters, that is good. <br>\n",
    " 2. A model with less parameters/terms, that has a good cross-validation error is very good. <br>\n",
    " 3. As we add more parameters, do we expect both the training and validation errors to reduce until they basically become zero??? <br>\n",
    " \n",
    "**In-Class Exercise:** While fitting a regression model for a specific problem with fixed dimensionality, draw a plot that has the following characteristics: <br>\n",
    "1. x-axis: number of terms/parameters of surrogate model (from 0 to N)\n",
    "2. y-axis: Error\n",
    "\n",
    "**Draw the trends of two types of errors:** \n",
    " a. The traning error \n",
    " b. The cross-validation error"
   ]
  },
  {
   "cell_type": "markdown",
   "metadata": {},
   "source": [
    "## Regularization\n",
    "\n",
    "**Regularization** is a term that refers to penalizing the size of the surrogate model (or else, the number of parameters), while fitting the model. <br>\n",
    "\n",
    "**WHY?**: Because a model with less parameters that is accurate enough is always going to have the following characteristics: <br>\n",
    " - More generalizable <br>\n",
    " - More interpretable <br>\n",
    " - Potentially easier to optimize <br>\n",
    " - Less prone to \"over-fitting\" <br>\n",
    " - A model with less terms, means that an output is dependent on less inputs/features <br>\n",
    " \n",
    "**How do you think you can penalize the number of parameters???** <br>\n",
    "\n",
    "**IDEAS???**: <br>\n",
    " - Idea 1: Constraint on number of parameters sum #par <= A <br>\n",
    " - Idea 2: Iterative addition of terms, check Cross - Validation error, stop when increases. <br>\n",
    " - Idea 3: <br>\n",
    "\n"
   ]
  },
  {
   "cell_type": "markdown",
   "metadata": {},
   "source": [
    "### Generalized linear regression models:\n",
    "\n",
    "So far, when you hear the term *linear regression model*, you assume the following: <br>\n",
    "\n",
    " - Input variables: $x_i$, where $ i = 1,...,n$ <br><br>\n",
    " - Surrogate function: $g(x)$ = $ a_0 + \\sum_{i=1}^{n}{a_i x_i}$ <br><br>\n",
    " \n",
    "A *generalized linear regression model* (GLM), is defined as: <br><br>\n",
    "\n",
    " - Input variables: $x_i$, where $ i = 1,...,n$ <br><br>\n",
    " - Input features: $X_j$, where $ j = 1,...,M$ and $X_j = f(x_i)$ <br><br>\n",
    " - Surrogate function: $f(X)$ = $ \\sum_{j=1}^{M}{b_jX_j}$ <br><br>\n",
    " \n",
    " \n",
    "**Example:** <br>\n",
    " - Variables: Temperature ($x_1$), Pressure ($x_2$) ($n = 2$) <br><br>\n",
    " - Input features: $X_j = \\{1, x_1, x_2 , x_1^2, x_2^2, x_1x_2\\}$ and ($M = 6$) <br><br>\n",
    " - Linear regression model: $g(x) = a_0 + a_1x_1 + a_2x_2 $ <br><br>\n",
    " - GLR Surrogate function: $f(X) = b_1 + b_2x_1 + b_3x_2 + b_4x_1^2 +b_5x_2^2 + b_6x_1x_2 $ <br><br>\n",
    " \n",
    "**Discussion:** <br>\n",
    " - Observe that GLR is not a linear surrogate function. <br><br>\n",
    " - **Why do we call it generalized linear regression???** <br><br>\n",
    "     - **Answer: The parameter estimation problem (regression) is linear with respect to the parameters. **"
   ]
  },
  {
   "cell_type": "markdown",
   "metadata": {},
   "source": [
    "### Types of regularization for GLM:\n",
    "\n",
    " - We have seen from previous example, that when we use the least-squares error objective and fit a GLM, none of the coefficients become exactly zero. <br><br>\n",
    " - Regularization aims to do exactly that. If a term is insignificant --> ensure that it's optimal coefficient is zero! <br><br>\n",
    "\n",
    "#### L2- Regularization: \n",
    "\n",
    "One approach to do this, is through penalizing the sum of squared coefficient values. <br>\n",
    "That is why this is called *L2-Regularization*, because we are penalizing based on the squared norm of coefficients. <br>\n",
    "\n",
    "**Typical parameter estimation problem:** <br><br>\n",
    "$min$  $\\sum_{k=1}^{N}{(y^{obs}_{k}-y^{pred}_{k})^2}$ <br><br>\n",
    "subject to: <br><br>\n",
    "$y^{pred}_k = \\sum_{j=1}^{M}{b_jX^{(k)}_j} $ for $ k = 1,..,N$ <br><br>\n",
    "\n",
    "\n",
    "**L2-regularization parameter estimation problem:** <br><br>\n",
    "$min$  $\\sum_{k=1}^{N}{(y^{obs}_{k}-y^{pred}_{k})^2} + \\sum_{j=1}^{M}{b_j^2} $ <br><br>\n",
    "subject to: <br><br>\n",
    "$y^{pred}_k = \\sum_{j=1}^{M}{b_jX^{(k)}_j} $ for $ k = 1,..,N$ <br><br>\n",
    "\n",
    "**Note that the term: $\\sum_{j=1}^{M}{b_j^2} $ is also written as the *L2* norm: $||b||^2$ <br><br>\n"
   ]
  },
  {
   "cell_type": "markdown",
   "metadata": {},
   "source": [
    "**Let's go back to our adsorption example: Refit the parameters of the quadratic regression function using the L2 penalty term: **"
   ]
  },
  {
   "cell_type": "code",
   "execution_count": 16,
   "metadata": {},
   "outputs": [
    {
     "name": "stderr",
     "output_type": "stream",
     "text": [
      "/opt/anaconda3/lib/python3.7/site-packages/ipykernel_launcher.py:50: DeprecationWarning: Calling np.sum(generator) is deprecated, and in the future will give a different result. Use np.sum(np.fromiter(generator)) or the python sum builtin instead.\n"
     ]
    },
    {
     "name": "stdout",
     "output_type": "stream",
     "text": [
      "a0 : Size=1, Index=None\n",
      "    Key  : Lower : Value                 : Upper : Fixed : Stale : Domain\n",
      "    None :  None : 6.394118234897181e-06 :  None : False : False :  Reals\n",
      "a1 : Size=1, Index=None\n",
      "    Key  : Lower : Value              : Upper : Fixed : Stale : Domain\n",
      "    None :  None : 0.7231710640042278 :  None : False : False :  Reals\n",
      "a2 : Size=1, Index=None\n",
      "    Key  : Lower : Value              : Upper : Fixed : Stale : Domain\n",
      "    None :  None : 1.7615123648873634 :  None : False : False :  Reals\n",
      "a11 : Size=1, Index=None\n",
      "    Key  : Lower : Value               : Upper : Fixed : Stale : Domain\n",
      "    None :  None : -0.4439874621123979 :  None : False : False :  Reals\n",
      "a22 : Size=1, Index=None\n",
      "    Key  : Lower : Value             : Upper : Fixed : Stale : Domain\n",
      "    None :  None : -1.02172272848288 :  None : False : False :  Reals\n",
      "a12 : Size=1, Index=None\n",
      "    Key  : Lower : Value                 : Upper : Fixed : Stale : Domain\n",
      "    None :  None : -0.014981678384029397 :  None : False : False :  Reals\n",
      "4.867168850603675\n",
      "0.00029309575613129375\n"
     ]
    },
    {
     "name": "stderr",
     "output_type": "stream",
     "text": [
      "/opt/anaconda3/lib/python3.7/site-packages/ipykernel_launcher.py:65: DeprecationWarning: Calling np.sum(generator) is deprecated, and in the future will give a different result. Use np.sum(np.fromiter(generator)) or the python sum builtin instead.\n"
     ]
    }
   ],
   "source": [
    "## Refit Regression model, after having scaled all data between 0-1\n",
    "from pyomo.environ import *\n",
    "model = ConcreteModel()\n",
    "\n",
    "#Define Data:\n",
    "model.n = [1,2] #dimension (x1: adsorption time, x2: desorption time)\n",
    "model.s = [1,2,3,4,5,6,7,8,9] #samples\n",
    "model.yact = {1:93.2, 2:94.7, 3:97.3, 4:98.7, 5:96.6, 6:98.2, 7:94.6, 8:98.6, 9:98.0} \n",
    "\n",
    "# Find max/min of output:\n",
    "ymax= model.yact[max(model.yact.keys(), key=(lambda k:model.yact[k]))]\n",
    "ymin= model.yact[min(model.yact.keys(), key=(lambda k:model.yact[k]))]\n",
    "\n",
    "#Scale dictionary values:\n",
    "for k in model.yact.keys():\n",
    "    model.yact[k] = (model.yact[k] - ymin)/(ymax-ymin)\n",
    "\n",
    "model.xs = {(1,1):25,(1,2):25,\n",
    "            (2,1):250,(2,2):25,\n",
    "            (3,1):25,(3,2):250,\n",
    "            (4,1):250,(4,2):250,\n",
    "            (5,1):25,(5,2):138,\n",
    "            (6,1):250,(6,2):138,\n",
    "            (7,1):138,(7,2):25,\n",
    "            (8,1):138,(8,2):250,\n",
    "            (9,1):138,(9,2):138} \n",
    "\n",
    "# x min-max values:\n",
    "xmin = 25\n",
    "xmax = 250\n",
    "\n",
    "#SCALE model.xs:\n",
    "for k in model.xs.keys():\n",
    "    model.xs[k] = (model.xs[k] - xmin)/(xmax-xmin)\n",
    "\n",
    "model.ypred = Var(model.s, within=NonNegativeReals) \n",
    "model.a0 = Var()\n",
    "model.a1 = Var()\n",
    "model.a2 = Var()\n",
    "model.a11 = Var()\n",
    "model.a22 = Var()\n",
    "model.a12 = Var()\n",
    "\n",
    "def con_rule(model,i): # postulated function is: y=a0 + a1*x_1 + a2*x_2 + a11*x_1**2 + a22*x_2**2 + a12*x_1*x_2\n",
    "    return (model.a0+ model.a1*model.xs[i,1]+model.a2*model.xs[i,2]+model.a11*model.xs[i,1]**2 + model.a22*model.xs[i,2]**2 +\n",
    "            model.a12*(model.xs[i,1]*model.xs[i,2])) - model.ypred[i] == 0\n",
    "model.con = Constraint(model.s, rule=con_rule) #Instead of defining the constraint as we did above, we now set it equal to the rule.\n",
    "\n",
    "def obj_rule(model): \n",
    "    return sum((model.ypred[i]-model.yact[i])**2 for i in model.s)/9 \n",
    "model.obj = Objective(rule=obj_rule) #Instead of defining the objective as we did above, we now set it equal to the rule.\n",
    "\n",
    "#same as above:\n",
    "solver = SolverFactory('ipopt')\n",
    "solver.solve(model)\n",
    "model.a0.pprint()\n",
    "model.a1.pprint()\n",
    "model.a2.pprint()\n",
    "model.a11.pprint()\n",
    "model.a22.pprint()\n",
    "model.a12.pprint()\n",
    "\n",
    "def surr(x1,x2):\n",
    "    return model.a0 + model.a1*x1 + model.a2*x2 + model.a11*x1**2 + model.a22*x2**2 + model.a12*x1*x2\n",
    "err = value(sum((model.yact[i]-model.ypred[i])**2 for i in model.s))\n",
    "print(value(model.a0**2 + model.a1**2 + model.a2**2 + model.a11**2 + model.a22**2 + model.a12**2))\n",
    "print(err)"
   ]
  },
  {
   "cell_type": "code",
   "execution_count": 17,
   "metadata": {},
   "outputs": [
    {
     "name": "stderr",
     "output_type": "stream",
     "text": [
      "/opt/anaconda3/lib/python3.7/site-packages/ipykernel_launcher.py:50: DeprecationWarning: Calling np.sum(generator) is deprecated, and in the future will give a different result. Use np.sum(np.fromiter(generator)) or the python sum builtin instead.\n"
     ]
    },
    {
     "name": "stdout",
     "output_type": "stream",
     "text": [
      "a0 : Size=1, Index=None\n",
      "    Key  : Lower : Value               : Upper : Fixed : Stale : Domain\n",
      "    None :  None : 0.19268360546824037 :  None : False : False :  Reals\n",
      "a1 : Size=1, Index=None\n",
      "    Key  : Lower : Value               : Upper : Fixed : Stale : Domain\n",
      "    None :  None : 0.10424945781441729 :  None : False : False :  Reals\n",
      "a2 : Size=1, Index=None\n",
      "    Key  : Lower : Value              : Upper : Fixed : Stale : Domain\n",
      "    None :  None : 0.1629787739648665 :  None : False : False :  Reals\n",
      "a11 : Size=1, Index=None\n",
      "    Key  : Lower : Value               : Upper : Fixed : Stale : Domain\n",
      "    None :  None : 0.08086880713758907 :  None : False : False :  Reals\n",
      "a22 : Size=1, Index=None\n",
      "    Key  : Lower : Value               : Upper : Fixed : Stale : Domain\n",
      "    None :  None : 0.13083691996445543 :  None : False : False :  Reals\n",
      "a12 : Size=1, Index=None\n",
      "    Key  : Lower : Value               : Upper : Fixed : Stale : Domain\n",
      "    None :  None : 0.08269758706248612 :  None : False : False :  Reals\n",
      "0.7803321092556286\n"
     ]
    },
    {
     "name": "stderr",
     "output_type": "stream",
     "text": [
      "/opt/anaconda3/lib/python3.7/site-packages/ipykernel_launcher.py:65: DeprecationWarning: Calling np.sum(generator) is deprecated, and in the future will give a different result. Use np.sum(np.fromiter(generator)) or the python sum builtin instead.\n"
     ]
    }
   ],
   "source": [
    "## Refit Regression model, after having scaled all data between 0-1\n",
    "from pyomo.environ import *\n",
    "model = ConcreteModel()\n",
    "\n",
    "#Define Data:\n",
    "model.n = [1,2] #dimension (x1: adsorption time, x2: desorption time)\n",
    "model.s = [1,2,3,4,5,6,7,8,9] #samples\n",
    "model.yact = {1:93.2, 2:94.7, 3:97.3, 4:98.7, 5:96.6, 6:98.2, 7:94.6, 8:98.6, 9:98.0} \n",
    "\n",
    "# Find max/min of output:\n",
    "ymax= model.yact[max(model.yact.keys(), key=(lambda k:model.yact[k]))]\n",
    "ymin= model.yact[min(model.yact.keys(), key=(lambda k:model.yact[k]))]\n",
    "\n",
    "#Scale dictionary values:\n",
    "for k in model.yact.keys():\n",
    "    model.yact[k] = (model.yact[k] - ymin)/(ymax-ymin)\n",
    "\n",
    "model.xs = {(1,1):25,(1,2):25,\n",
    "            (2,1):250,(2,2):25,\n",
    "            (3,1):25,(3,2):250,\n",
    "            (4,1):250,(4,2):250,\n",
    "            (5,1):25,(5,2):138,\n",
    "            (6,1):250,(6,2):138,\n",
    "            (7,1):138,(7,2):25,\n",
    "            (8,1):138,(8,2):250,\n",
    "            (9,1):138,(9,2):138} \n",
    "\n",
    "# x min-max values:\n",
    "xmin = 25\n",
    "xmax = 250\n",
    "\n",
    "#SCALE model.xs:\n",
    "for k in model.xs.keys():\n",
    "    model.xs[k] = (model.xs[k] - xmin)/(xmax-xmin)\n",
    "\n",
    "model.ypred = Var(model.s, within=NonNegativeReals) \n",
    "model.a0 = Var()\n",
    "model.a1 = Var()\n",
    "model.a2 = Var()\n",
    "model.a11 = Var()\n",
    "model.a22 = Var()\n",
    "model.a12 = Var()\n",
    "\n",
    "def con_rule(model,i): # postulated function is: y=a0 + a1*x_1 + a2*x_2 + a11*x_1**2 + a22*x_2**2 + a12*x_1*x_2\n",
    "    return (model.a0+ model.a1*model.xs[i,1]+model.a2*model.xs[i,2]+model.a11*model.xs[i,1]**2 + model.a22*model.xs[i,2]**2 +\n",
    "            model.a12*(model.xs[i,1]*model.xs[i,2])) - model.ypred[i] == 0\n",
    "model.con = Constraint(model.s, rule=con_rule) #Instead of defining the constraint as we did above, we now set it equal to the rule.\n",
    "\n",
    "def obj_rule(model): \n",
    "    return sum((model.ypred[i]-model.yact[i])**2 for i in model.s)/9 + model.a0**2 + model.a1**2 + model.a2**2 + model.a11**2 + model.a22**2 + model.a12**2\n",
    "model.obj = Objective(rule=obj_rule) #Instead of defining the objective as we did above, we now set it equal to the rule.\n",
    "\n",
    "#same as above:\n",
    "solver = SolverFactory('ipopt')\n",
    "solver.solve(model)\n",
    "model.a0.pprint()\n",
    "model.a1.pprint()\n",
    "model.a2.pprint()\n",
    "model.a11.pprint()\n",
    "model.a22.pprint()\n",
    "model.a12.pprint()\n",
    "\n",
    "def surr(x1,x2):\n",
    "    return model.a0 + model.a1*x1 + model.a2*x2 + model.a11*x1**2 + model.a22*x2**2 + model.a12*x1*x2\n",
    "err = value(sum((model.yact[i]-model.ypred[i])**2 for i in model.s))\n",
    "print(err)"
   ]
  },
  {
   "cell_type": "markdown",
   "metadata": {},
   "source": [
    "**DID IT WORK?** <br><br>\n",
    "**DID you find a better solution??** <br><br>\n",
    "**DID any parameters switch to zero?** <br> <br>\n",
    "**WHY DO YOU THINK THAT IS???** <br> <br>"
   ]
  },
  {
   "cell_type": "markdown",
   "metadata": {},
   "source": [
    "#### L1- Regularization (LASSO): \n",
    "\n",
    "Another popular approach to do this, is through penalizing the sum of absolute coefficient values. <br>\n",
    "That is why this is called *L1-Regularization*, because we are penalizing based on the absolute values of coefficients. <br>\n",
    "\n",
    "**Original LASSO formulation:** <br><br>\n",
    "$min$  $\\frac{\\sum_{k=1}^{N}{(y^{obs}_{k}-y^{pred}_{k})^2}}{N}  $ <br><br>\n",
    "subject to: <br><br>\n",
    "$ \\sum_{j=1}^{M}{|b_j|} \\le t $ <br><br>\n",
    "$y^{pred}_k = \\sum_{j=1}^{M}{b_jX^{(k)}_j} $ for $ k = 1,..,N$ <br><br>\n",
    "\n",
    "where $t$ is a free parameter, specified by user to define the degree of regularization. <br><br>\n",
    "\n",
    "**Note that the term: $\\sum_{j=1}^{M}{|b_j|} $ is also written as the *L1* norm: $||b||^1$ <br><br>\n",
    "\n",
    "**If I reformulate this problem as follows:** <br> <br>\n",
    "$min$  $\\frac{\\sum_{k=1}^{N}{(y^{obs}_{k}-(\\sum_{j=1}^{M}{b_jX^{(k)}_j}))^2}}{N}  $ <br><br>\n",
    "subject to: <br><br>\n",
    "$ \\sum_{j=1}^{M}{|b_j|} \\le t $ <br><br>\n",
    "\n",
    "**What is the Largrange function of this constrained optimization problem???** <br><br>\n"
   ]
  },
  {
   "cell_type": "markdown",
   "metadata": {},
   "source": [
    "#### Geometric interpretation of the L2 and L1 regularization problems:\n",
    "\n",
    "<img src=\"L1_and_L2_balls.svg.png\" width=\"500\" />"
   ]
  },
  {
   "cell_type": "markdown",
   "metadata": {},
   "source": [
    "#### General forms of all types of regularization: \n",
    "\n",
    "1. Ridge Regression: $min$ $\\{\\frac{1}{N}||y-Xb||^2+\\lambda||b||^2\\}$ <br><br>\n",
    "2. LASSO Regression: $min$ $\\{\\frac{1}{N}||y-Xb||^2+\\lambda||b||^1\\}$ <br><br>\n",
    "\n",
    "\n",
    "**DISCUSSION:** <br> <br>\n",
    "\n",
    "**Pros of L1:**<br>\n",
    " - Built-in feature selection<br>\n",
    "**Cons of L1:**<br>\n",
    " - Optimization formulation <br>\n",
    " - Multiple solutions may exist <br>\n",
    " \n",
    "**Pros of L2:** <br>\n",
    " - Optimization formulation: Analyitical solution exists <br>\n",
    "**Cons of L2:** <br>\n",
    " - No guaranteed feature selection <br>\n",
    " \n",
    " \n",
    "#### Proposed solution: Elastic Net Regularization\n",
    "\n",
    "Based on the above pro's and con's of the two methods, a new regularization technique has been proposed that attempts to take advantage of both pros of both methods: \n",
    "\n",
    "3. Elastic Net Regression: $min$ $\\{\\frac{1}{N}||y-Xb||^2+\\lambda(\\alpha||b||^1+(1-\\alpha)||b||^2)\\}$ <br><br>\n",
    "\n",
    "**DISCUSSION:** <br> <br>"
   ]
  },
  {
   "cell_type": "markdown",
   "metadata": {},
   "source": [
    "#### Geometric interpretations:\n",
    "\n",
    "1. Ridge vs Lasso:\n",
    "<img src=\"RidgevsLasso1.png\" width=\"500\" />\n",
    "<img src=\"RidgevsLasso2.png\" width=\"500\" />\n",
    "\n",
    "2. Ridge vs Lasso vs Elastic Net:\n",
    "<img src=\"RidgevsLassovsEN.png\" width=\"500\" />\n"
   ]
  },
  {
   "cell_type": "markdown",
   "metadata": {},
   "source": [
    "### Uses of regularization: \n",
    "\n",
    "**Used for regression coupled with feature selection:** <br>\n",
    " - If you have a data set with many features/inputs, and you are not sure if all of them are important to predict an output you can use these techniques to **not only fit a function**, but also **remove features** at the same time. <br> <br>\n",
    "  - **Limitations for feature selection using these methods**: \n",
    "    - Assumes that features are linearly dependent on an output!!! <br> <br>\n",
    "    - May not work well if features are dependent with each other (for these problems, we use techniques like Principal Component Analysis). <br> <br>\n",
    "        \n",
    "**Example:** Collect 10000 measurements from 50 sensors in my chemical plant (each sensor measuring an operating condition in different units). <br> The output we are interested in is a production level, which must meet a minimum. <br> I am not sure which of the 50 measurements are needed for an operator to monitor, to predict whether the minimum production level will be reached. <br>\n",
    " - I have a data set of 10000 rows and (50+1) columns \n",
    " - Use Lasso, or EN to fit a regularized regression model to see whether some must be removed:\n",
    " - Input variables: $x_i$, where $ i = 1,...,50$ <br><br>\n",
    " - Surrogate function: $g(x)$ = $ a_0 + \\sum_{i=1}^{n}{a_i x_i}$ <br><br>\n",
    "\n",
    "**MORE EXAMPLES AT: http://statweb.stanford.edu/~tibs/ftp/talk-toronto.pdf** <br><br>\n",
    "\n",
    "**What do we do if we know that the output is nonlinearly correlated to the inputs???** <br><br>\n",
    " - Why not build a GLM??<br><br>\n",
    " \n",
    "**Example:** <br>\n",
    " - Variables: Temperature ($x_1$), Pressure ($x_2$) ($n = 2$) <br><br>\n",
    " - Input features: $X_j = \\{1, x_1, x_2 , x_1^2, x_2^2, x_1x_2\\}$ and ($M = 6$) <br><br>\n",
    " - Linear regression model: $g(x) = a_0 + a_1x_1 + a_2x_2 $ <br><br>\n",
    " - GLR Surrogate function: $f(X) = b_1 + b_2x_1 + b_3x_2 + b_4x_1^2 +b_5x_2^2 + b_6x_1x_2 $ <br><br>\n",
    " - I can then use LASSO, Elastic net to select out of 6 features.\n",
    " \n",
    "**DISCUSSION:**<br>\n",
    " - How do I know what nonlinear features to add???<br><br>\n",
    " - Size of problem!!!<br><br>"
   ]
  },
  {
   "cell_type": "markdown",
   "metadata": {},
   "source": [
    "# Learning with scikit-learn\n",
    "\n",
    "## Installation:\n",
    "1. Open your Anaconda Prompts and install two packages by running the following commands: <br>\n",
    " - conda install -c conda-forge pydoe <br>\n",
    " - conda install scikit-learn <br><br>\n",
    "\n",
    "**scikit-learn** (scikit-learn.org) is a python package that includes a lot of popular Machine Learning tasks: <br>\n",
    "- Classification, <br>\n",
    "- Regression, <br>\n",
    "- Clustering, <br>\n",
    "- Dimensionality reduction, <br> \n",
    "- Model selection and <br>\n",
    "- Data-preprocessing <br><br>\n",
    "\n",
    "We are interested in **Regression**:<br>\n",
    "**scikit-learn** allows you to do: <br>\n",
    "- Generalized linear models <br>\n",
    "- Support Vector regression <br>\n",
    "- Neural Networks <br>\n",
    "- Gaussian Process Models <br>\n",
    "- Many more... <br><br>\n",
    "\n",
    "**Today we will wrap-up our discussion on these three models and show how to train a simple input-output data set.** <br>"
   ]
  },
  {
   "cell_type": "markdown",
   "metadata": {},
   "source": [
    "**Data**: First we need a problem. Let's solve an black-box optimization problem.<br>\n",
    "\n",
    "Let's assume you have to find the global minimum of a problem with 2 variables. <br> <br> \n",
    "All you know about the problem is the dimensionality, the bounds and you have a simulation or experiment that will give you values of your objective for specific values of the input variables. <br>\n",
    "\n",
    "Variable 1 ($x_1$) can range between $-2 \\le x_1 \\le 2$ and variable 2 ranges between $-1 \\le x_2 \\le 3$. <br>"
   ]
  },
  {
   "cell_type": "markdown",
   "metadata": {},
   "source": [
    "## Step 1- Initial Sampling Design:\n",
    "\n",
    "First you need to decide how many samples you are going to collect, and what design you will use. <br>\n",
    "\n",
    "Let's say I have made that decision for you. I have collected $10*n+5=25$ points using a Latin Hypercube Design. "
   ]
  },
  {
   "cell_type": "code",
   "execution_count": 18,
   "metadata": {},
   "outputs": [
    {
     "name": "stdout",
     "output_type": "stream",
     "text": [
      "[[-2  2]\n",
      " [-1  3]]\n",
      "[[0.22 0.5 ]\n",
      " [0.54 0.54]\n",
      " [0.5  0.82]\n",
      " [0.74 0.9 ]\n",
      " [0.18 0.34]\n",
      " [0.7  0.66]\n",
      " [0.62 0.94]\n",
      " [0.02 0.22]\n",
      " [0.3  0.78]\n",
      " [0.78 0.42]\n",
      " [0.1  0.14]\n",
      " [0.14 0.26]\n",
      " [0.58 0.62]\n",
      " [0.66 0.18]\n",
      " [0.42 0.02]\n",
      " [0.38 0.1 ]\n",
      " [0.06 0.46]\n",
      " [0.98 0.58]\n",
      " [0.9  0.7 ]\n",
      " [0.82 0.98]\n",
      " [0.46 0.3 ]\n",
      " [0.94 0.38]\n",
      " [0.34 0.86]\n",
      " [0.26 0.74]\n",
      " [0.86 0.06]]\n"
     ]
    },
    {
     "data": {
      "image/png": "[encoded data removed]",
      "text/plain": [
       "<Figure size 432x288 with 1 Axes>"
      ]
     },
     "metadata": {
      "needs_background": "light"
     },
     "output_type": "display_data"
    }
   ],
   "source": [
    "import numpy as np\n",
    "import scipy as sp\n",
    "import pyDOE as pd\n",
    "import matplotlib.pyplot as plt\n",
    "\n",
    "n = 2 #dimension\n",
    "N = 10*n+5 #samples\n",
    "xbounds = np.array([[-2,2],[-1,3]])\n",
    "print(xbounds)\n",
    "Xsc = pd.lhs(n, samples=N, criterion='centermaximin')\n",
    "\n",
    "print(Xsc)\n",
    "\n",
    "plt.plot(Xsc[:, 0], Xsc[:, 1], 'o')\n",
    "plt.xlabel('x_1')\n",
    "plt.ylabel('x_2')\n",
    "plt.show()"
   ]
  },
  {
   "cell_type": "markdown",
   "metadata": {},
   "source": [
    "## Step 2- Data Collection:\n",
    "\n",
    "- First we observe that the LHS design is within 0-1 range in all dimensions. <br>\n",
    "- We need to 'translate' what that is in the real domain of our problem. <br>\n",
    "- After that, we collect the data. <br>"
   ]
  },
  {
   "cell_type": "code",
   "execution_count": 19,
   "metadata": {},
   "outputs": [
    {
     "name": "stdout",
     "output_type": "stream",
     "text": [
      "[[-1.12  1.  ]\n",
      " [ 0.16  1.16]\n",
      " [ 0.    2.28]\n",
      " [ 0.96  2.6 ]\n",
      " [-1.28  0.36]\n",
      " [ 0.8   1.64]\n",
      " [ 0.48  2.76]\n",
      " [-1.92 -0.12]\n",
      " [-0.8   2.12]\n",
      " [ 1.12  0.68]\n",
      " [-1.6  -0.44]\n",
      " [-1.44  0.04]\n",
      " [ 0.32  1.48]\n",
      " [ 0.64 -0.28]\n",
      " [-0.32 -0.92]\n",
      " [-0.48 -0.6 ]\n",
      " [-1.76  0.84]\n",
      " [ 1.92  1.32]\n",
      " [ 1.6   1.8 ]\n",
      " [ 1.28  2.92]\n",
      " [-0.16  0.2 ]\n",
      " [ 1.76  0.52]\n",
      " [-0.64  2.44]\n",
      " [-0.96  1.96]\n",
      " [ 1.44 -0.76]]\n"
     ]
    },
    {
     "data": {
      "image/png": "[encoded data removed]",
      "text/plain": [
       "<Figure size 432x288 with 1 Axes>"
      ]
     },
     "metadata": {
      "needs_background": "light"
     },
     "output_type": "display_data"
    },
    {
     "name": "stdout",
     "output_type": "stream",
     "text": [
      "[  10.966336  129.391936  520.84      281.704256  168.629056  100.04\n",
      "  640.158016 1457.394496  222.28       33.007936  906.76      419.506496\n",
      "  190.240576   47.684416  106.272576   71.146816  517.293376  560.831296\n",
      "   58.12      164.328256    4.387136  664.979776  414.942016  111.669056\n",
      "  803.122496]\n"
     ]
    }
   ],
   "source": [
    "Xsc[:,0] = (Xsc[:,0]*(xbounds[0,1]-xbounds[0,0])+xbounds[0,0])\n",
    "Xsc[:,1] = (Xsc[:,1]*(xbounds[1,1]-xbounds[1,0])+xbounds[1,0])\n",
    "print(Xsc)\n",
    "X=Xsc\n",
    "plt.plot(X[:, 0], X[:, 1], 'o')\n",
    "plt.xlabel('x_1')\n",
    "plt.ylabel('x_2')\n",
    "plt.show()\n",
    "\n",
    "#Black-box simulation:\n",
    "def bbs(x):\n",
    "    return 100.0*(x[:,1]-x[:,0]**2.0)**2.0 + (1-x[:,0])**2.0\n",
    "\n",
    "Y = bbs(X)\n",
    "print(Y)"
   ]
  },
  {
   "cell_type": "markdown",
   "metadata": {},
   "source": [
    "## Step 3- Fit simplest model possible:\n",
    "\n",
    "**Now that we have our X-Y data, we can start fitting functions.** <br>\n",
    "\n",
    "Let's first fit a very simple linear regression function: $y_{surr} = a_0 + a_1x_1 + a_2x_2 $ <br>\n",
    "\n",
    "- We have seen how to do this with Pyomo, as an optimization problem. <br>\n",
    "- Now let's see the syntax for how we could do that in Python. <br>"
   ]
  },
  {
   "cell_type": "code",
   "execution_count": 20,
   "metadata": {},
   "outputs": [
    {
     "name": "stdout",
     "output_type": "stream",
     "text": [
      "Coefficients: \n",
      " 311.2091092147788 [ -2.79947443 -24.32113228]\n",
      "Mean squared error validation: 316060.70\n",
      "Mean squared error training: 69592.52\n"
     ]
    },
    {
     "data": {
      "image/png": "[encoded data removed]",
      "text/plain": [
       "<Figure size 432x288 with 1 Axes>"
      ]
     },
     "metadata": {
      "needs_background": "light"
     },
     "output_type": "display_data"
    }
   ],
   "source": [
    "#import the linear model component:\n",
    "from sklearn import linear_model\n",
    "import random\n",
    "from sklearn.metrics import mean_squared_error\n",
    "import matplotlib.pyplot as plt\n",
    "%matplotlib inline\n",
    "\n",
    "#create a linear regression object:\n",
    "reg = linear_model.LinearRegression(fit_intercept=True,normalize=False,copy_X=True)\n",
    "\n",
    "#create a training and validation set:\n",
    "N_train = 20 #number of training points\n",
    "N_val   = 5 # number of validation points\n",
    "\n",
    "#All samples set:\n",
    "s = set(range(0,25))\n",
    "s_train = random.sample(s,N_train) #randomly select 20 points\n",
    "s_val   = list(set(s)-set(s_train)) # find the difference of sets\n",
    "\n",
    "X_train = X[s_train]\n",
    "Y_train = Y[s_train]\n",
    "X_val  = X[s_val]\n",
    "Y_val  = Y[s_val]\n",
    "\n",
    "#fit the model:\n",
    "reg.fit(X_train,Y_train)\n",
    "\n",
    "#make predictions using the validation (test) set:\n",
    "Y_pred = reg.predict(X_val)\n",
    "Y_pred_train = reg.predict(X_train)\n",
    "\n",
    "# Print the coefficients\n",
    "print('Coefficients: \\n', reg.intercept_,reg.coef_)\n",
    "\n",
    "# The mean squared error of validation\n",
    "print(\"Mean squared error validation: %.2f\"\n",
    "      % mean_squared_error(Y_val, Y_pred))\n",
    "\n",
    "# The mean squared error of training\n",
    "print(\"Mean squared error training: %.2f\"\n",
    "      % mean_squared_error(Y_train, Y_pred_train))\n",
    "\n",
    "# Plot outputs\n",
    "plt.scatter(Y_val, Y_pred,  color='black')\n",
    "plt.scatter(Y_train, Y_pred_train,  color='blue')\n",
    "\n",
    "plt.show()"
   ]
  },
  {
   "cell_type": "markdown",
   "metadata": {},
   "source": [
    "## Step 4 - Assessment: \n",
    "\n",
    "- Clearly the linear fit is a really bad fit!\n",
    "- We need to resort to nonlinear surrogate models.\n",
    "- We could try generalized linear model.\n",
    "- What about Gaussian Process Models?\n",
    "\n",
    "## Step 5 - Try different more complex surrogates:\n",
    "\n",
    "### Gaussian Process Model:\n",
    "\n",
    "\n",
    "<img src=\"Slide1.PNG\" width=\"1000\" />\n",
    "\n",
    "<img src=\"Slide2.PNG\" width=\"1000\" />\n",
    "\n",
    "<img src=\"Slide3.PNG\" width=\"1000\" />"
   ]
  },
  {
   "cell_type": "code",
   "execution_count": 21,
   "metadata": {},
   "outputs": [],
   "source": [
    "from scipy.stats import norm\n",
    "from scipy.optimize import minimize\n",
    "from sklearn import preprocessing\n",
    "from sklearn import gaussian_process as gp\n",
    "from sklearn.gaussian_process.kernels import  RBF\n",
    "from sklearn.metrics import make_scorer, mean_squared_error\n",
    "from sklearn.model_selection import train_test_split, KFold, cross_val_score, validation_curve, learning_curve, RandomizedSearchCV, GridSearchCV\n",
    "from sklearn.linear_model import LarsCV, OrthogonalMatchingPursuitCV\n",
    "from sklearn.svm import SVR"
   ]
  },
  {
   "cell_type": "code",
   "execution_count": 22,
   "metadata": {},
   "outputs": [
    {
     "name": "stdout",
     "output_type": "stream",
     "text": [
      "Parameters of Estimator: {'alpha': 1e-10, 'copy_X_train': True, 'kernel__length_scale': 1.0, 'kernel__length_scale_bounds': (1e-05, 100000.0), 'kernel': RBF(length_scale=1), 'n_restarts_optimizer': 0, 'normalize_y': True, 'optimizer': 'fmin_l_bfgs_b', 'random_state': None}\n"
     ]
    }
   ],
   "source": [
    "#Kernel\n",
    "kernel = RBF()\n",
    "#kernel_list=[Matern(), RBF(), DotProduct()]\n",
    "\n",
    "# Gaussian Process Parameters\n",
    "gp_params = {'kernel': kernel,\n",
    "             'alpha': 1e-10,\n",
    "             'copy_X_train': True,\n",
    "             'n_restarts_optimizer':0,\n",
    "             'normalize_y':False\n",
    "}\n",
    "\n",
    "# Initiate the Gaussian process\n",
    "model = gp.GaussianProcessRegressor(kernel=kernel, normalize_y=True)\n",
    "\n",
    "model.fit(X_train, Y_train)\n",
    "\n",
    "#objective function\n",
    "scoring = 'mean_squared_error'\n",
    "\n",
    "refit=True\n",
    "\n",
    "print(\"Parameters of Estimator:\", model.get_params(deep=True))\n"
   ]
  },
  {
   "cell_type": "code",
   "execution_count": 23,
   "metadata": {},
   "outputs": [
    {
     "name": "stdout",
     "output_type": "stream",
     "text": [
      "coefficient of determination R^2 of the prediction: -0.3251059022520162\n",
      "MSE: 0.0\n",
      "Standard-Deviation: [265.28187372 265.28187372 265.28187372 265.28187372 265.28187372]\n"
     ]
    },
    {
     "data": {
      "image/png": "[encoded data removed]",
      "text/plain": [
       "<Figure size 432x288 with 2 Axes>"
      ]
     },
     "metadata": {
      "needs_background": "light"
     },
     "output_type": "display_data"
    }
   ],
   "source": [
    "# Predict with test set\n",
    "Y_pred, sigma = model.predict(X_val, return_std=True)\n",
    "print(\"coefficient of determination R^2 of the prediction:\", model.score(X_val, Y_val))\n",
    "print(\"MSE:\", mean_squared_error(Y_val, Y_val), )\n",
    "print(\"Standard-Deviation:\", sigma)\n",
    "\n",
    "fig, axes = plt.subplots(2, 1)\n",
    "\n",
    "axes[0].plot(X_val[:,0], Y_val, 'r.', marker='.', label='Model Test Data')\n",
    "axes[0].plot(X_val[:,0], Y_pred, 'b.', marker='x', label='GP Prediction')\n",
    "axes[0].set_xlabel('tads')\n",
    "axes[0].legend()\n",
    "\n",
    "axes[1].plot(X_val[:,1], Y_val, 'r.', marker='.', label='Model Test Data')\n",
    "axes[1].plot(X_val[:,1], Y_pred, 'b.', marker='x', label='GP Prediction')\n",
    "axes[1].set_xlabel('tdes')\n",
    "axes[1].legend()\n",
    "\n",
    "x_line = np.linspace(0,1,100)\n",
    "y_line = x_line\n",
    "\n",
    "plt.show()"
   ]
  },
  {
   "cell_type": "markdown",
   "metadata": {},
   "source": [
    "### Neural Networks in sklearn:"
   ]
  },
  {
   "cell_type": "code",
   "execution_count": 24,
   "metadata": {
    "scrolled": true
   },
   "outputs": [
    {
     "data": {
      "text/plain": [
       "GridSearchCV(cv=3,\n",
       "             estimator=MLPRegressor(max_iter=5000, tol=0.01,\n",
       "                                    validation_fraction=0.2),\n",
       "             param_grid={'activation': ['tanh'], 'alpha': [0.001, 0.01],\n",
       "                         'hidden_layer_sizes': [(3,), (8,), (13,), (18,), (23,),\n",
       "                                                (28,)],\n",
       "                         'solver': ['adam']})"
      ]
     },
     "execution_count": 24,
     "metadata": {},
     "output_type": "execute_result"
    }
   ],
   "source": [
    "from sklearn.neural_network import MLPRegressor\n",
    "\n",
    "# We need this so that we search over many parameters that define the NN structure:\n",
    "from sklearn.model_selection import GridSearchCV\n",
    "from sklearn.datasets import load_boston\n",
    "X, y = load_boston(return_X_y=True)\n",
    "\n",
    "#create model structure:\n",
    "model = MLPRegressor(max_iter=5000, validation_fraction = 0.2,tol=1e-2)\n",
    "\n",
    "#Define the parameters to search over for:\n",
    "param_grid = {'activation': ['tanh'],\n",
    "                'solver':['adam'],\n",
    "                'alpha' : [0.001, 0.01],\n",
    "                'hidden_layer_sizes':[(i,) for i in np.arange(3,30,5)],\n",
    "             }\n",
    "\n",
    "#This grid search will automatically search over parameter values, and try to identify model with best architecture:\n",
    "grid = GridSearchCV(model, param_grid,  cv = 3, verbose=0)\n",
    "\n",
    "grid.fit(X, y)"
   ]
  },
  {
   "cell_type": "markdown",
   "metadata": {},
   "source": [
    "### Support Vector Regression: \n",
    "\n",
    "1. Final form of surrogate very similar to Gaussian Process model\n",
    "2. Final form has less terms, because this model is \"Regressing the points\"\n",
    "3. Very clever idea used to select a subset of points to be the points we get weighted output values from (these are our support vectors!)\n",
    "4. Very good resource: https://alex.smola.org/papers/2004/SmoSch04.pdf\n",
    "5. Best used when data is noisy!\n",
    "6. Scikit-learn has this as well: from sklearn.svm import SVR\n",
    "\n",
    "<img src=\"Lecture 22_svr.png\" width=\"1000\" />"
   ]
  },
  {
   "cell_type": "code",
   "execution_count": null,
   "metadata": {},
   "outputs": [],
   "source": []
  },
  {
   "cell_type": "code",
   "execution_count": null,
   "metadata": {},
   "outputs": [],
   "source": []
  },
  {
   "cell_type": "markdown",
   "metadata": {},
   "source": [
    "# Module 10 High dimensional data analysis\n",
    "\n",
    "We will go over several examples today, where an unstructured data set of more than 2 variables is given to you, without any knowledge of the structure nor the way the data set was collected.\n",
    "\n",
    "## Example 1: 10 dimensions - 1 Ouput problem\n",
    "This data set consists of 10 dimensions and you have 100 samples in the 10dimensional space (X1). For each of the 100 samples, an output is measured (Y1). \n",
    "\n",
    "Let's assume that the inputs are all measurements of properties of a type of chemical, and the output is a measured grade of the chemical (ranging from 0 - 3)."
   ]
  },
  {
   "cell_type": "code",
   "execution_count": 2,
   "metadata": {},
   "outputs": [],
   "source": [
    "#Import all packages we will need:\n",
    "import seaborn as sns\n",
    "import pandas as pd\n",
    "from pylab import *\n",
    "%matplotlib inline\n",
    "from sklearn.datasets import make_blobs\n",
    "from sklearn import decomposition\n",
    "#end of importing packages\n",
    "\n",
    "#Creation of data test set:\n",
    "X1, Y1 = make_blobs(n_features=10,  n_samples=100, centers=4, random_state=4,cluster_std=2)\n"
   ]
  },
  {
   "cell_type": "markdown",
   "metadata": {},
   "source": [
    "**Whithout knowing anything about the data, what can you do with this data set??? **"
   ]
  },
  {
   "cell_type": "code",
   "execution_count": 3,
   "metadata": {},
   "outputs": [
    {
     "data": {
      "image/png": "[encoded data removed]",
      "text/plain": [
       "<Figure size 432x288 with 1 Axes>"
      ]
     },
     "metadata": {
      "needs_background": "light"
     },
     "output_type": "display_data"
    }
   ],
   "source": [
    "#Plot the output, to see variability in it:\n",
    "scatter(linspace(1,100,100),Y1)\n",
    "show()"
   ]
  },
  {
   "cell_type": "code",
   "execution_count": 9,
   "metadata": {},
   "outputs": [
    {
     "data": {
      "image/png": "[encoded data removed]",
      "text/plain": [
       "<Figure size 432x288 with 2 Axes>"
      ]
     },
     "metadata": {
      "needs_background": "light"
     },
     "output_type": "display_data"
    }
   ],
   "source": [
    "#look at correlation matrix: Are inputs correlated??\n",
    "#Example tutorial reproduced from: https://likegeeks.com/python-correlation-matrix/\n",
    "from sklearn.datasets import load_breast_cancer\n",
    "import pandas as pd\n",
    "breast_cancer=load_breast_cancer()\n",
    "bcdata= breast_cancer.data\n",
    "\n",
    "features = breast_cancer.feature_names\n",
    "df = pd.DataFrame(bcdata, columns = features)\n",
    "\n",
    "#take only 10 features because data set is too large:\n",
    "corr_mat = df.iloc[:,:10].corr()\n",
    "sns.heatmap(corr_mat, annot = True)\n",
    "\n",
    "show()"
   ]
  },
  {
   "cell_type": "markdown",
   "metadata": {},
   "source": [
    "**What are your observations from this data set???**\n",
    "\n"
   ]
  },
  {
   "cell_type": "markdown",
   "metadata": {},
   "source": [
    "### Can PCA help?\n",
    "\n",
    "#### PCA reminders: \n",
    "- We start with a 10-dimensional space, and we want to project it to a lower dimensional space. <br><br>\n",
    "- We find these new dimensions by finding the new linear combination of a vector (new dimension or Principal component), that has the maximum variance. <br><br>\n",
    "- The first PC is the direction that has the largest variance, if we project the data onto it. <br>\n",
    "- The second PC is the direction that maximizes the variance among all directions orthogonal to the first PC. <br><br>\n",
    "\n",
    "#### Why is PCA helpful?\n",
    "One way to learn more information about the data is to try to reduce it's dimensionality. <br>\n",
    "1. This helps us visualize it better. <br><br>\n",
    "2. This helps us identify correlations in the inputs. <br><br>\n",
    "3. Both of above really help us with interpreting the data. <br><br>\n"
   ]
  },
  {
   "cell_type": "code",
   "execution_count": 67,
   "metadata": {},
   "outputs": [
    {
     "name": "stdout",
     "output_type": "stream",
     "text": [
      "[0.41594854 0.3391866  0.1600729  0.02016822 0.01640516]\n"
     ]
    },
    {
     "data": {
      "image/png": "[encoded data removed]",
      "text/plain": [
       "<matplotlib.figure.Figure at 0x1948754a1d0>"
      ]
     },
     "metadata": {},
     "output_type": "display_data"
    }
   ],
   "source": [
    "#create a PCA structure, with up to 5 Principal Components:\n",
    "pca = decomposition.PCA(n_components=5)\n",
    "pc = pca.fit_transform(X1)\n",
    "\n",
    "#Create a DataFrame variable to pass on to \n",
    "pc_df = pd.DataFrame(data = pc , columns = ['PC1', 'PC2','PC3','PC4','PC5'])\n",
    "pc_df['Grade'] = Y1\n",
    "pc_df.head()\n",
    "\n",
    "#Create a DataFrame variable with information about the explained variance:\n",
    "df = pd.DataFrame({'var':pca.explained_variance_ratio_,'PC':['PC1','PC2','PC3','PC4','PC5']})\n",
    "\n",
    "print(pca.explained_variance_ratio_)\n",
    "\n",
    "#Create a bar plot of explained variance:\n",
    "sns.barplot(x='PC',y=\"var\", data=df, color=\"c\");"
   ]
  },
  {
   "cell_type": "markdown",
   "metadata": {},
   "source": [
    "### Conclusions of PCA analysis so far:\n",
    "1. First Principal component explained more than 40% of the variance in the data. <br><br>\n",
    "2. First and Second Components together explained 74% of the Variance in the data <br><br>\n",
    "3. First three components explained: 90% of the variance in the data! <br><br>\n",
    "\n",
    "### Plotting with respect to new basis-dimensions or PCs:"
   ]
  },
  {
   "cell_type": "code",
   "execution_count": 68,
   "metadata": {},
   "outputs": [
    {
     "data": {
      "image/png": "[encoded data removed]",
      "text/plain": [
       "<matplotlib.figure.Figure at 0x19488d88c50>"
      ]
     },
     "metadata": {},
     "output_type": "display_data"
    }
   ],
   "source": [
    "sns.lmplot( x=\"PC1\", y=\"PC2\",\n",
    "  data=pc_df, \n",
    "  fit_reg=False, \n",
    "  hue='Grade', # color by value of grade of chemical       \n",
    "  legend=True,\n",
    "  scatter_kws={\"s\": 80}) # specify the point size\n",
    "show()\n"
   ]
  },
  {
   "cell_type": "markdown",
   "metadata": {},
   "source": [
    "### Interpretation of plotting in PC-space:\n",
    "- This plot is called a **Score Plot** <br><br>\n",
    "- Usually the first two PCs explain a lot of variance in data, thus they can be used to identify clusters or outliers. <br><br>\n",
    "- If there are no clusters or outliers, the score plot will be randomly distributed points around 0 (assuming the data is scaled originally). <br><br>\n",
    "\n",
    "- Think of example of camera and pendulum-> all we're doing is finding \"new directions\". <br><br>\n",
    "- PC1 and PC2 are orthogonal vectors, that is why we can plot them like a regular plot. <br><br>\n",
    "- PC1 and PC2 are just different dimensions, but they are really like variables. <br><br>\n",
    "- Plotting in PC space helps us actually identify clusters in our data (important for visualization). <br><br>\n",
    "\n",
    "- What happens if I plot the next two components??? <br>"
   ]
  },
  {
   "cell_type": "code",
   "execution_count": 69,
   "metadata": {},
   "outputs": [
    {
     "data": {
      "image/png": "[encoded data removed]",
      "text/plain": [
       "<matplotlib.figure.Figure at 0x19488dc1940>"
      ]
     },
     "metadata": {},
     "output_type": "display_data"
    }
   ],
   "source": [
    "sns.lmplot( x=\"PC3\", y=\"PC4\",\n",
    "  data=pc_df, \n",
    "  fit_reg=False, \n",
    "  hue='Grade', # color by value of grade of chemical       \n",
    "  legend=True,\n",
    "  scatter_kws={\"s\": 80}) # specify the point size\n",
    "show()"
   ]
  },
  {
   "cell_type": "markdown",
   "metadata": {},
   "source": [
    "#### How many PC's should we keep?\n",
    "3 PC!\n"
   ]
  },
  {
   "cell_type": "code",
   "execution_count": 70,
   "metadata": {},
   "outputs": [
    {
     "name": "stdout",
     "output_type": "stream",
     "text": [
      "[0.41594854 0.3391866  0.1600729 ]\n"
     ]
    },
    {
     "data": {
      "image/png": "[encoded data removed]",
      "text/plain": [
       "<matplotlib.figure.Figure at 0x19488e1b780>"
      ]
     },
     "metadata": {},
     "output_type": "display_data"
    }
   ],
   "source": [
    "# Fit new model with decided number of PCs.\n",
    "#create a PCA structure, with up to 3 Principal Components:\n",
    "pca = decomposition.PCA(n_components=3)\n",
    "pc = pca.fit_transform(X1)\n",
    "\n",
    "#Create a DataFrame variable to pass on to \n",
    "pc_df = pd.DataFrame(data = pc , columns = ['PC1', 'PC2','PC3'])\n",
    "pc_df['Grade'] = Y1\n",
    "pc_df.head()\n",
    "\n",
    "#Create a DataFrame variable with information about the explained variance:\n",
    "df = pd.DataFrame({'var':pca.explained_variance_ratio_,'PC':['PC1','PC2','PC3']})\n",
    "\n",
    "print(pca.explained_variance_ratio_)\n",
    "\n",
    "#Create a bar plot of explained variance:\n",
    "sns.barplot(x='PC',y=\"var\", data=df, color=\"c\");"
   ]
  },
  {
   "cell_type": "markdown",
   "metadata": {},
   "source": [
    "#### PCA loadings or eigenvectors:\n",
    "- As we discussed, the PCs are linear combination vectors of our original X1. <br><br>\n",
    "- $PC1 = w_1*x_1 + w_2*x_2 + ... + w_{10}*x_{10} $ <br><br>\n",
    "- What do these $w$ values tell us??? <br><br>\n"
   ]
  },
  {
   "cell_type": "code",
   "execution_count": 71,
   "metadata": {},
   "outputs": [
    {
     "name": "stdout",
     "output_type": "stream",
     "text": [
      "[[ 0.13461409 -0.4992262   0.0507498   0.27972213 -0.0743094   0.30049564\n",
      "  -0.52474074  0.13037259 -0.35802346  0.36807888]\n",
      " [-0.28550164  0.28994195 -0.33164476 -0.45431669 -0.39858662  0.20812215\n",
      "  -0.30796374  0.43805038  0.0981688   0.13956197]\n",
      " [-0.35289278  0.13294741  0.05740339  0.61719362 -0.35171357 -0.27034974\n",
      "  -0.31556813 -0.12673132  0.39998818 -0.0338011 ]]\n"
     ]
    }
   ],
   "source": [
    "loadings = pca.components_\n",
    "print(loadings)"
   ]
  },
  {
   "cell_type": "code",
   "execution_count": 72,
   "metadata": {},
   "outputs": [
    {
     "data": {
      "image/png": "[encoded data removed]",
      "text/plain": [
       "<matplotlib.figure.Figure at 0x19488edb0f0>"
      ]
     },
     "metadata": {},
     "output_type": "display_data"
    }
   ],
   "source": [
    "## Custom - made plotting to plot loadings \n",
    "\n",
    "def myplot(score,coeff,labels=None):\n",
    "    xs = score[:,0]\n",
    "    ys = score[:,1]\n",
    "    n = coeff.shape[0]\n",
    "    scalex = 1.0/(xs.max() - xs.min())\n",
    "    scaley = 1.0/(ys.max() - ys.min())\n",
    "    #plt.scatter(xs * scalex,ys * scaley, c = Y1)\n",
    "    for i in range(n):\n",
    "        plt.arrow(0, 0, coeff[i,0], coeff[i,1],color = 'r',alpha = 0.5)\n",
    "        if labels is None:\n",
    "            plt.text(coeff[i,0]* 1.15, coeff[i,1] * 1.15, \"Var\"+str(i+1), color = 'g', ha = 'center', va = 'center')\n",
    "        else:\n",
    "            plt.text(coeff[i,0]* 1.15, coeff[i,1] * 1.15, labels[i], color = 'g', ha = 'center', va = 'center')\n",
    "plt.xlim(-1,1)\n",
    "plt.ylim(-1,1)\n",
    "plt.xlabel(\"PC{}\".format(1))\n",
    "plt.ylabel(\"PC{}\".format(2))\n",
    "plt.grid()\n",
    "\n",
    "#Call the function. Use only the 2 PCs.\n",
    "myplot(pc[:,0:2],np.transpose(pca.components_[0:2, :]))\n",
    "plt.show()"
   ]
  },
  {
   "cell_type": "code",
   "execution_count": 65,
   "metadata": {},
   "outputs": [
    {
     "name": "stdout",
     "output_type": "stream",
     "text": [
      "[[ 0.13461409 -0.4992262   0.0507498   0.27972213 -0.0743094   0.30049564\n",
      "  -0.52474074  0.13037259 -0.35802346  0.36807888]\n",
      " [-0.28550164  0.28994195 -0.33164476 -0.45431669 -0.39858662  0.20812215\n",
      "  -0.30796374  0.43805038  0.0981688   0.13956197]\n",
      " [-0.35289278  0.13294741  0.05740339  0.61719362 -0.35171357 -0.27034974\n",
      "  -0.31556813 -0.12673132  0.39998818 -0.0338011 ]]\n"
     ]
    }
   ],
   "source": [
    "loadings = pca.components_\n",
    "print(loadings)"
   ]
  },
  {
   "cell_type": "code",
   "execution_count": null,
   "metadata": {},
   "outputs": [],
   "source": []
  },
  {
   "cell_type": "code",
   "execution_count": null,
   "metadata": {},
   "outputs": [],
   "source": []
  }
 ],
 "metadata": {
  "kernelspec": {
   "display_name": "Python 3",
   "language": "python",
   "name": "python3"
  },
  "language_info": {
   "codemirror_mode": {
    "name": "ipython",
    "version": 3
   },
   "file_extension": ".py",
   "mimetype": "text/x-python",
   "name": "python",
   "nbconvert_exporter": "python",
   "pygments_lexer": "ipython3",
   "version": "3.8.5"
  }
 },
 "nbformat": 4,
 "nbformat_minor": 4
}
