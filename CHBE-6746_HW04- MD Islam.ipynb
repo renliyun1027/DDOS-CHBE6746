{
 "cells": [
  {
   "cell_type": "code",
   "execution_count": 1,
   "metadata": {},
   "outputs": [],
   "source": [
    "%matplotlib inline\n",
    "import random\n",
    "import numpy as np\n",
    "from pyDOE import *\n",
    "import pandas as pd\n",
    "import pyDOE as pyd\n",
    "from pyomo.environ import *\n",
    "import matplotlib.pyplot as plt\n",
    "from sklearn.model_selection import train_test_split"
   ]
  },
  {
   "cell_type": "markdown",
   "metadata": {},
   "source": [
    "# Problem 1"
   ]
  },
  {
   "cell_type": "markdown",
   "metadata": {},
   "source": [
    " I used latin hypercube sampling method for generating dataset. Since there are two features, I generated 50 sample, 40 for training purpose and 10 for testing purpose."
   ]
  },
  {
   "cell_type": "code",
   "execution_count": 2,
   "metadata": {
    "scrolled": false
   },
   "outputs": [
    {
     "data": {
      "image/png": "[encoded data removed]",
      "text/plain": [
       "<Figure size 576x432 with 1 Axes>"
      ]
     },
     "metadata": {
      "needs_background": "light"
     },
     "output_type": "display_data"
    }
   ],
   "source": [
    "np.random.seed(42)\n",
    "n = 2  #dimension\n",
    "N = 20*n + 10  #samples\n",
    "xbounds = np.array([[-5,10],[0,15]]) #[Bounds]\n",
    "\n",
    "# print(xbounds)\n",
    "Xsc = pyd.lhs(n, samples=N, criterion='centermaximin')\n",
    "\n",
    "Xsc[:,0] = (Xsc[:,0]*(xbounds[0,1]-xbounds[0,0])+xbounds[0,0])\n",
    "Xsc[:,1] = (Xsc[:,1]*(xbounds[1,1]-xbounds[1,0])+xbounds[1,0])\n",
    "# print(Xsc)\n",
    "X = Xsc\n",
    "plt.figure(figsize=(8,6))\n",
    "plt.plot(X[:, 0], X[:, 1], 'o')\n",
    "plt.xlabel('x1', fontsize = 15, fontweight='bold')\n",
    "plt.ylabel('x2', fontsize = 15, fontweight='bold');"
   ]
  },
  {
   "cell_type": "markdown",
   "metadata": {},
   "source": [
    "# Black-box Function"
   ]
  },
  {
   "cell_type": "code",
   "execution_count": 3,
   "metadata": {},
   "outputs": [],
   "source": [
    "def bbs(x):\n",
    "    y = (\n",
    "        10 + 10*(1 - 1/(8*np.pi))*np.cos(x[:,0]) + \n",
    "            (x[:,1] - 5.1*x[:,0]**2/(16*np.pi**2) + 5*x[:,0]/np.pi - 6)**2)\n",
    "    return y\n",
    "Y = bbs(X)"
   ]
  },
  {
   "cell_type": "markdown",
   "metadata": {},
   "source": [
    "# Problem 2(a)"
   ]
  },
  {
   "cell_type": "markdown",
   "metadata": {},
   "source": [
    "# Scaling between 0-1"
   ]
  },
  {
   "cell_type": "code",
   "execution_count": 4,
   "metadata": {},
   "outputs": [],
   "source": [
    "# X value\n",
    "mins = np.min(X, axis=0)\n",
    "maxs = np.max(X, axis=0)\n",
    "X_scal = (X - mins[:]) / (maxs[:] - mins[:])\n",
    "\n",
    "# Y value\n",
    "y_mins = np.min(Y)\n",
    "y_maxs = np.max(Y)\n",
    "Y_scal = (Y - y_mins) / (y_maxs - y_mins)"
   ]
  },
  {
   "cell_type": "markdown",
   "metadata": {},
   "source": [
    "# First Generalized Linear Regression\n",
    "## [1, $x_{1}$, $x_{2}$, $x_{1}^{2}$, $x_{2}^{2}$, $x_{1}^{4}$, cos$x_{1}$, $x_{1}$$x_{2}$]"
   ]
  },
  {
   "cell_type": "code",
   "execution_count": 5,
   "metadata": {},
   "outputs": [],
   "source": [
    "def firstGlrf(X,y):\n",
    "    \n",
    "    np.random.seed(42)\n",
    "#     kf = KFold(n_splits=5, random_state=1, shuffle=True)\n",
    "    cv = 5\n",
    "    allCoeff = []\n",
    "    trainError = []\n",
    "    \n",
    "    for i in range(cv):\n",
    "        X_train, X_test, y_train, y_test = train_test_split(X, y, test_size=0.20, random_state = i)\n",
    "\n",
    "        # Model \n",
    "        model = ConcreteModel()\n",
    "\n",
    "        model.s = list(range(len(X_train)))\n",
    "        model.yact = y_train\n",
    "        model.x1 = X_train[:,0]\n",
    "        model.x2 = X_train[:,1]\n",
    "\n",
    "\n",
    "        model.ypred = Var(model.s, within=NonNegativeReals)\n",
    "    \n",
    "        model.a = np.arange(8)\n",
    "        model.b = Var(model.a, within=Reals)\n",
    "\n",
    "        # Constraints\n",
    "        def con_rule(model,i): \n",
    "            return (1*model.b[0] + model.b[1]*model.x1[i] + model.b[2]*model.x2[i]\n",
    "                    + model.b[3]*(model.x1[i]**2) + model.b[4]*(model.x2[i]**2)\n",
    "                    + model.b[5]*(model.x1[i]**4) + model.b[6]*cos(model.x1[i])\n",
    "                    + model.b[7]*(model.x1[i]*model.x2[i])) - model.ypred[i] == 0\n",
    "\n",
    "        model.con = Constraint(model.s, rule=con_rule)\n",
    "        \n",
    "        # Objective Function\n",
    "        def obj_rule(model):\n",
    "            alpha = 0.1\n",
    "            return (sum((model.ypred[i]-model.yact[i])**2 for i in model.s)/len(model.s) \n",
    "                    + alpha*sum(abs(model.b[i]) for i in model.b)) # not use abs\n",
    "\n",
    "        model.obj = Objective(rule=obj_rule) \n",
    "\n",
    "        # Solver\n",
    "        solver = SolverFactory('baron')\n",
    "        solver.solve(model)\n",
    "\n",
    "        \n",
    "        # Error for training \n",
    "        err_train = value(model.obj)\n",
    "        trainError.append(err_train)\n",
    "        \n",
    "        # Coeff for each fold\n",
    "        coeff = []\n",
    "        for i in range(8):\n",
    "    #         print(value(model.b[i]))\n",
    "            coeff.append(value(model.b[i]))\n",
    "        allCoeff.append(coeff)\n",
    "        \n",
    "    \n",
    "    # Average training error\n",
    "    avg_trainError = np.mean(trainError)\n",
    "\n",
    "    \n",
    "    # Define model for testing\n",
    "    def val_data(x1, x2, coeff):\n",
    "        y_all = []\n",
    "        for i in coeff:\n",
    "            y = (1*i[0] + i[1]*x1 + i[2]*x2\n",
    "                    + i[3]*(x1**2) + i[4]*(x2**2)\n",
    "                    + i[5]*(x1**4) + i[6]*np.cos(x1)\n",
    "                    + i[7]*(x1*x2))\n",
    "\n",
    "            y_all.append(y)\n",
    "        return y_all\n",
    "\n",
    "    # y pred \n",
    "    y_val_pred = val_data(X_test[:, 0], X_test[:,1], allCoeff)\n",
    "\n",
    "    \n",
    "    valError = []\n",
    "    for m in range(len(y_val_pred)):\n",
    "        err_val = sum((y_test[i] - y_val_pred[m][i])**2 for i in range(len(y_test)))\n",
    "        valError.append(err_val)\n",
    "    \n",
    "    # Average validation error\n",
    "    avg_valError = np.mean(valError)\n",
    "    \n",
    "    \n",
    "    performance_score = {'Train_Error' : trainError,\n",
    "                         'Avg_Train_Error' : avg_trainError,\n",
    "                         'Validation_Error' : valError,\n",
    "                         'Avg_Validation_Error' : avg_valError,\n",
    "                         'Optimum_Validation_Error' : min(valError),\n",
    "                         'Optimum_Coeff' : allCoeff[valError.index(min(valError))],\n",
    "                         'All_Coeff' : np.array(allCoeff),\n",
    "                         }\n",
    "\n",
    "    return performance_score"
   ]
  },
  {
   "cell_type": "code",
   "execution_count": 6,
   "metadata": {},
   "outputs": [
    {
     "name": "stdout",
     "output_type": "stream",
     "text": [
      "================================================================================\n",
      "Mean Validation Error:  3616.1713120726517\n",
      "--------------------------------------------------------------------------------\n",
      "Validation Error:\n",
      "[5048.008277331076, 1763.0088541809291, 1463.0222700143033, 1677.0934945693518, 8129.7236642676]\n",
      "================================================================================\n"
     ]
    }
   ],
   "source": [
    "# Run the function using X scale and \n",
    "firstGlrf_result = firstGlrf(X_scal,Y)\n",
    "\n",
    "print('='*80)\n",
    "print('Mean Validation Error: ', firstGlrf_result['Avg_Validation_Error'])\n",
    "print('-'*80)\n",
    "print('Validation Error:')\n",
    "print(firstGlrf_result['Validation_Error'])\n",
    "print('='*80)"
   ]
  },
  {
   "cell_type": "markdown",
   "metadata": {},
   "source": [
    "# Second Generalized Linear Regression\n",
    "## [1, $x_{1}$, $x_{2}$, $x_{1}^{2}$, $x_{1}^{3}$, $x_{2}^{2}$, $x_{2}^{3}$, $x_{1}$$x_{2}$, $x_{1}^{2}$$x_{2}$,  $x_{1}$$x_{2}^{2}$]"
   ]
  },
  {
   "cell_type": "code",
   "execution_count": 7,
   "metadata": {},
   "outputs": [],
   "source": [
    "def secondGlrf(X,y):\n",
    "    np.random.seed(42)\n",
    "    cv = 5\n",
    "    allCoeff = []\n",
    "    trainError = []\n",
    "    \n",
    "    for i in range(cv):\n",
    "        X_train, X_test, y_train, y_test = train_test_split(X, y, test_size=0.20, random_state=i)\n",
    "\n",
    "        # Model \n",
    "        model = ConcreteModel()\n",
    "\n",
    "        model.s = list(range(len(X_train)))\n",
    "        model.yact = y_train\n",
    "        model.x1 = X_train[:,0]\n",
    "        model.x2 = X_train[:,1]\n",
    "\n",
    "\n",
    "        model.ypred = Var(model.s, within=NonNegativeReals)\n",
    "    \n",
    "        model.a = np.arange(10)\n",
    "        model.b = Var(model.a, within=Reals)\n",
    "\n",
    "        # Constraints\n",
    "        def con_rule(model,i): \n",
    "            return (1*model.b[0] + model.b[1]*model.x1[i] + model.b[2]*model.x2[i]\n",
    "                    + model.b[3]*(model.x1[i]**2) + model.b[4]*(model.x1[i]**3)\n",
    "                    + model.b[5]*(model.x2[i]**2) + model.b[6]*(model.x2[i]**3)\n",
    "                    + model.b[7]*(model.x1[i]*model.x2[i]) + model.b[8]*((model.x1[1]**2)*model.x2[i])\n",
    "                    + model.b[9]*(model.x1[i]*(model.x2[i]**2))) - model.ypred[i] == 0\n",
    "\n",
    "        model.con = Constraint(model.s, rule=con_rule)\n",
    "\n",
    "        def obj_rule(model):\n",
    "            alpha = 0.1\n",
    "            return (sum((model.ypred[i]-model.yact[i])**2 for i in model.s)/len(model.s) \n",
    "                    + alpha*sum(abs(model.b[i]) for i in model.b))\n",
    "\n",
    "        model.obj = Objective(rule=obj_rule) \n",
    "\n",
    "        # Solver\n",
    "        solver = SolverFactory('baron')\n",
    "        solver.solve(model)\n",
    "\n",
    "        \n",
    "        # Error for training \n",
    "        err_train = value(model.obj)\n",
    "        trainError.append(err_train)\n",
    "        \n",
    "        # Coeff for each fold\n",
    "        coeff = []\n",
    "        for i in range(10):\n",
    "    #         print(value(model.b[i]))\n",
    "            coeff.append(value(model.b[i]))\n",
    "        allCoeff.append(coeff)\n",
    "        \n",
    "    \n",
    "    # Average training error\n",
    "    avg_trainError = np.mean(trainError)\n",
    "\n",
    "    \n",
    "    # Define model for testing\n",
    "    \n",
    "    def val_data(x1, x2, coeff):\n",
    "        y_all = []\n",
    "        for i in coeff:\n",
    "            y = (1*i[0] + i[1]*x1 + i[2]*x2\n",
    "                    + i[3]*(x1**2) + i[4]*(x1**3)\n",
    "                    + i[5]*(x2**2) + i[6]*(x2**3)\n",
    "                    + i[7]*(x1*x2) + i[8]*((x1**2)*x2)\n",
    "                    + i[9]*(x1*(x2**2)))\n",
    "            \n",
    "\n",
    "            y_all.append(y)\n",
    "        return y_all\n",
    "\n",
    "\n",
    "    # y pred \n",
    "    y_val_pred = val_data(X_test[:, 0], X_test[:,1], allCoeff)\n",
    "\n",
    "    \n",
    "    valError = []\n",
    "    for m in range(len(y_val_pred)):\n",
    "        err_val = sum((y_test[i] - y_val_pred[m][i])**2 for i in range(len(y_test)))\n",
    "        valError.append(err_val)\n",
    "    \n",
    "    # Average validation error\n",
    "    avg_valError = np.mean(valError)\n",
    "    \n",
    "    \n",
    "    performance_score = {'Train_Error' : trainError,\n",
    "                         'Avg_Train_Error' : avg_trainError,\n",
    "                         'Validation_Error' : valError,\n",
    "                         'Avg_Validation_Error' : avg_valError,\n",
    "                         'Optimum_Validation_Error' : min(valError),\n",
    "                         'Optimum_Coeff' : allCoeff[valError.index(min(valError))],\n",
    "                         'All_Coeff' : np.array(allCoeff),\n",
    "                         }\n",
    "\n",
    "    return performance_score"
   ]
  },
  {
   "cell_type": "code",
   "execution_count": 8,
   "metadata": {},
   "outputs": [
    {
     "name": "stdout",
     "output_type": "stream",
     "text": [
      "================================================================================\n",
      "Mean Validation Error:  4634.587144579739\n",
      "--------------------------------------------------------------------------------\n",
      "Validation Error: \n",
      "[6107.0576862976895, 1694.1635375962705, 1804.3527780427175, 1977.4586533529616, 11589.903067609055]\n",
      "================================================================================\n"
     ]
    }
   ],
   "source": [
    "# Run the function using X scale and \n",
    "secondGlrf_result = secondGlrf(X_scal,Y)\n",
    "\n",
    "print('='*80)\n",
    "print('Mean Validation Error: ', secondGlrf_result['Avg_Validation_Error'])\n",
    "print('-'*80)\n",
    "print('Validation Error: ')\n",
    "print(secondGlrf_result['Validation_Error'])\n",
    "print('='*80)"
   ]
  },
  {
   "cell_type": "markdown",
   "metadata": {},
   "source": [
    "# Problem 2(b)"
   ]
  },
  {
   "cell_type": "markdown",
   "metadata": {},
   "source": [
    "Based on the Validation error I choose first function"
   ]
  },
  {
   "cell_type": "code",
   "execution_count": 9,
   "metadata": {},
   "outputs": [],
   "source": [
    "def bestFitFunc(X,y):\n",
    "    coeff = []\n",
    "\n",
    "    \n",
    "    # Model \n",
    "    model = ConcreteModel()\n",
    "\n",
    "    model.s = list(range(len(X)))\n",
    "    model.yact = y\n",
    "    model.x1 = X[:,0]\n",
    "    model.x2 = X[:,1]\n",
    "\n",
    "\n",
    "    model.ypred = Var(model.s, within=NonNegativeReals)\n",
    "\n",
    "    model.a = np.arange(8)\n",
    "    model.b = Var(model.a, within=Reals)\n",
    "\n",
    "    def con_rule(model,i): \n",
    "        return (1*model.b[0] + model.b[1]*model.x1[i] + model.b[2]*model.x2[i]\n",
    "                + model.b[3]*(model.x1[i]**2) + model.b[4]*(model.x2[i]**2)\n",
    "                + model.b[5]*(model.x1[i]**4) + model.b[6]*cos(model.x1[i])\n",
    "                + model.b[7]*(model.x1[i]*model.x2[i])) - model.ypred[i] == 0\n",
    "\n",
    "    model.con = Constraint(model.s, rule=con_rule)\n",
    "\n",
    "    def obj_rule(model):\n",
    "        alpha = 0.1\n",
    "        return (sum((model.ypred[i]-model.yact[i])**2 for i in model.s)/len(model.s) \n",
    "                + alpha*sum(abs(model.b[i]) for i in model.b))\n",
    "\n",
    "    model.obj = Objective(rule=obj_rule) \n",
    "\n",
    "    # Solver\n",
    "    solver = SolverFactory('baron')\n",
    "    solver.solve(model)\n",
    "\n",
    "        \n",
    "    # Error for training \n",
    "    opt_val = value(model.obj)\n",
    "  \n",
    "        \n",
    "    # Coeff for each fold\n",
    "    for i in range(8):\n",
    "        a = value(model.b[i])\n",
    "        coeff.append(a)\n",
    "    \n",
    "    performance_score = {'Optimized_Val' : opt_val,\n",
    "                         'Coeff' : coeff\n",
    "                         }\n",
    "\n",
    "    return performance_score"
   ]
  },
  {
   "cell_type": "code",
   "execution_count": 10,
   "metadata": {},
   "outputs": [
    {
     "name": "stdout",
     "output_type": "stream",
     "text": [
      "================================================================================\n",
      "Optimal Parameters: \n",
      "[56.09716258693343, -19.083100622193598, -13.852687365702325, 2.3894965398554637, 1.0654231515896664, -0.0069796268656459525, 10.112406868047742, 2.943823138120639]\n",
      "--------------------------------------------------------------------------------\n",
      "Objective Function:  27.23035438699241\n",
      "================================================================================\n"
     ]
    }
   ],
   "source": [
    "# Report optimal parameters and objective functions\n",
    "reFit = bestFitFunc(X, Y)\n",
    "print('='*80)\n",
    "print('Optimal Parameters: ') \n",
    "print(reFit['Coeff'])\n",
    "print('-'*80)\n",
    "print('Objective Function: ', reFit['Optimized_Val'])\n",
    "print('='*80)"
   ]
  },
  {
   "cell_type": "markdown",
   "metadata": {},
   "source": [
    "# Problem 2(c)"
   ]
  },
  {
   "cell_type": "code",
   "execution_count": 11,
   "metadata": {},
   "outputs": [],
   "source": [
    "def opt_best_func(n, samples, coeff):\n",
    "    np.random.seed(42)\n",
    "    \n",
    "    Xnew = pyd.lhs(n, samples, criterion='centermaximin')\n",
    "    Ynew = bbs(Xnew)\n",
    "\n",
    "\n",
    "\n",
    "    model = ConcreteModel()\n",
    "    model.x1 = Xnew[:, 0]\n",
    "    model.x2 = Xnew[:, 1]\n",
    "\n",
    "    model.s = list(range(samples))\n",
    "    model.b = coeff\n",
    "    model.yact = Ynew\n",
    "    model.ypred = Var(model.s, within=NonNegativeReals)\n",
    "\n",
    "\n",
    "    def con_rule(model,i): \n",
    "        return (1*model.b[0] + model.b[1]*model.x1[i] + model.b[2]*model.x2[i]\n",
    "                    + model.b[3]*(model.x1[i]**2) + model.b[4]*(model.x2[i]**2)\n",
    "                    + model.b[5]*(model.x1[i]**4) + model.b[6]*cos(model.x1[i])\n",
    "                    + model.b[7]*(model.x1[i]*model.x2[i])) - model.ypred[i] == 0\n",
    "\n",
    "    model.con = Constraint(model.s, rule=con_rule)\n",
    "\n",
    "    def obj_rule(model):\n",
    "    #     alpha = 0.1\n",
    "        return (sum((model.ypred[i]-model.yact[i])**2 for i in model.s))\n",
    "\n",
    "\n",
    "\n",
    "    model.obj = Objective(rule=obj_rule, sense = minimize) \n",
    "\n",
    "    # Solver\n",
    "    solver = SolverFactory('baron')\n",
    "    solver.solve(model)\n",
    "    # model.pprint()\n",
    "    opt_value = value(model.obj)\n",
    "    return opt_value"
   ]
  },
  {
   "cell_type": "code",
   "execution_count": 12,
   "metadata": {},
   "outputs": [
    {
     "name": "stdout",
     "output_type": "stream",
     "text": [
      "[446.31417934317284, 892.0735556026535, 1338.1459525822809, 1784.3459846244846, 2677.1510645683643, 4461.906182873221, 8923.282601671299]\n"
     ]
    }
   ],
   "source": [
    "# for differnt number of sample\n",
    "num = [5, 10, 15, 20, 30, 50, 100]\n",
    "obj_val = []\n",
    "for i in num:\n",
    "    val = opt_best_func(2, i, reFit['Coeff'])\n",
    "    obj_val.append(val)\n",
    "print(obj_val)\n",
    "    \n",
    "    "
   ]
  },
  {
   "cell_type": "markdown",
   "metadata": {},
   "source": [
    "Based on the results, It seems 30 points would be good enough "
   ]
  },
  {
   "cell_type": "markdown",
   "metadata": {},
   "source": [
    "# Problem 3 (a)"
   ]
  },
  {
   "cell_type": "code",
   "execution_count": 13,
   "metadata": {},
   "outputs": [],
   "source": [
    "from scipy.stats import norm\n",
    "from scipy.optimize import minimize\n",
    "from sklearn import preprocessing\n",
    "from sklearn import gaussian_process as gp\n",
    "from sklearn.preprocessing import StandardScaler\n",
    "from sklearn.gaussian_process.kernels import  RBF\n",
    "from sklearn.metrics import make_scorer, mean_squared_error"
   ]
  },
  {
   "cell_type": "code",
   "execution_count": 14,
   "metadata": {},
   "outputs": [],
   "source": [
    "# Standardized X values\n",
    "\n",
    "scaler = StandardScaler()\n",
    "scaler.fit(X)\n",
    "Xscaled = scaler.transform(X)"
   ]
  },
  {
   "cell_type": "code",
   "execution_count": 15,
   "metadata": {
    "scrolled": true
   },
   "outputs": [
    {
     "name": "stdout",
     "output_type": "stream",
     "text": [
      "================================================================================\n",
      "All_MSE: [341.3969554979896, 7216.544170391278, 3.5081492505212664, 124.1951287576231, 369.55157074156847]\n",
      "--------------------------------------------------------------------------------\n",
      "Average_MSE: 1611.0391949277962\n",
      "--------------------------------------------------------------------------------\n",
      "All_train_Score: [0.9999999999999998, 1.0, 0.9999999999999999, 1.0, 0.9999999999999998]\n",
      "Average_train_Score: 0.9999999999999998\n",
      "--------------------------------------------------------------------------------\n",
      "All_test_Score: [0.927770870561443, -0.23492007753062594, 0.9988007546971762, 0.965278911665352, 0.9137564881064836]\n",
      "Average_test_Score: 0.7141373894999659\n",
      "================================================================================\n"
     ]
    }
   ],
   "source": [
    "np.random.seed(42)\n",
    "cv = 5\n",
    "all_err = []\n",
    "all_test_score = []\n",
    "all_train_score = []\n",
    "for i in range (cv):    \n",
    "    X_train, X_test, y_train, y_test = train_test_split(Xscaled, Y, test_size=0.2, random_state=i)\n",
    "    kernel = RBF()\n",
    "    \n",
    "    gp_params = {'kernel': kernel,'alpha': 1e-10, 'copy_X_train': True,'n_restarts_optimizer':0,'normalize_y':False}\n",
    "    \n",
    "    model = gp.GaussianProcessRegressor(kernel=kernel, normalize_y=True)\n",
    "    model.fit(X_train,y_train)\n",
    "    y_pred = model.predict(X_test)\n",
    "    err = mean_squared_error(y_test, y_pred)\n",
    "    all_err.append(err)\n",
    "    train_score = model.score(X_train, y_train)\n",
    "    test_score = model.score(X_test, y_test)\n",
    "    all_train_score.append(train_score)\n",
    "    all_test_score.append(test_score)\n",
    "\n",
    "avg_err = np.mean(all_err)\n",
    "avg_train_score = np.mean(all_train_score)\n",
    "avg_test_score = np.mean(all_test_score)\n",
    "\n",
    "\n",
    "print('='*80)\n",
    "print(\"All_MSE:\", all_err )\n",
    "print('-'*80)\n",
    "print(\"Average_MSE:\", avg_err )\n",
    "print('-'*80)\n",
    "print(\"All_train_Score:\", all_train_score )\n",
    "print(\"Average_train_Score:\", avg_train_score )\n",
    "print('-'*80)\n",
    "print(\"All_test_Score:\", all_test_score )\n",
    "print(\"Average_test_Score:\", avg_test_score )\n",
    "print('='*80)"
   ]
  },
  {
   "cell_type": "markdown",
   "metadata": {},
   "source": [
    "It is good approxiamtion beacuse model score are very good and avearge mean sqaured error is almost same as the  avaerage validation score"
   ]
  },
  {
   "cell_type": "markdown",
   "metadata": {},
   "source": [
    "# Problem 3(b)"
   ]
  },
  {
   "cell_type": "code",
   "execution_count": 16,
   "metadata": {
    "scrolled": true
   },
   "outputs": [
    {
     "name": "stdout",
     "output_type": "stream",
     "text": [
      " final_simplex: (array([[-1.37956297,  1.17348439],\n",
      "       [-1.37956278,  1.17348364],\n",
      "       [-1.37956312,  1.17348427]]), array([-1.16613755, -1.16613755, -1.16613755]))\n",
      "           fun: -1.166137552788399\n",
      "       message: 'Optimization terminated successfully.'\n",
      "          nfev: 97\n",
      "           nit: 51\n",
      "        status: 0\n",
      "       success: True\n",
      "             x: array([-1.37956297,  1.17348439])\n",
      "[-1.37956297  1.17348439]\n"
     ]
    }
   ],
   "source": [
    "def fit_GPM(x):\n",
    "        return model.predict(np.atleast_2d(x))\n",
    "\n",
    "kernel = RBF(0.2)\n",
    "model = gp.GaussianProcessRegressor(kernel=kernel, normalize_y=True)\n",
    "model.fit(Xscaled,Y)\n",
    "fit_GPM(X)\n",
    "\n",
    "# initial Guess\n",
    "x0 = Xscaled[1,:5]\n",
    "residual = minimize(fit_GPM, x0, method='Nelder-Mead', tol=1e-6)\n",
    "print (residual)\n",
    "print(residual['x'])"
   ]
  },
  {
   "cell_type": "markdown",
   "metadata": {},
   "source": [
    "# 3(c)\n",
    "\n",
    "Problem 2(c) is better since 3(b) giving negative values\n"
   ]
  },
  {
   "cell_type": "markdown",
   "metadata": {},
   "source": [
    "# Problem 4"
   ]
  },
  {
   "cell_type": "code",
   "execution_count": 17,
   "metadata": {
    "scrolled": true
   },
   "outputs": [
    {
     "name": "stdout",
     "output_type": "stream",
     "text": [
      "135.3560026572421\n",
      "[40.81322319 40.67152909 40.60604957 40.93667766 40.16132854 40.71220569\n",
      " 40.7834428  40.69880796 40.55913197 40.53887424 40.92545918 40.26342288\n",
      " 40.19234691 40.85266181 40.91781905 40.89444081 40.43037775 40.90705841\n",
      " 40.42039724 40.88150093 40.57285197 40.42881749 40.66590706 40.88133979\n",
      " 40.31128176 40.27106301 40.42429787 40.84408041 40.96707704 40.76006456\n",
      " 40.65842807 40.31798062 40.82974142 40.67308935 40.54339386 40.63566883\n",
      " 40.84050206 40.31580138 40.85344194 40.58361261 40.4445556  40.48851384\n",
      " 40.35524    40.47059649 40.44393661 40.29070175 40.28384175 40.65172921\n",
      " 40.44845623 40.29928315]\n"
     ]
    }
   ],
   "source": [
    "model = ConcreteModel()\n",
    "\n",
    "model.s = list(range(len(X)))\n",
    "\n",
    "model.eps = 0.001\n",
    "model.c= 0.1\n",
    "\n",
    "model.a0 = Var()\n",
    "model.a1 = Var()\n",
    "model.a2 = Var()\n",
    "\n",
    "model.p = Var(model.s, within = NonNegativeReals)\n",
    "model.q = Var(model.s, within = NonNegativeReals)\n",
    "\n",
    "def x1(model,i):\n",
    "    return X_scal[i-1,0]\n",
    "model.x11 = Param(model.s,initialize=x1)\n",
    "\n",
    "def x2(model,i):\n",
    "    return Xscaled[i-1,1]\n",
    "model.x22 = Param(model.s, initialize=x2)\n",
    "\n",
    "def y_val(model,i):\n",
    "    return np.array(Y[i-1])\n",
    "model.y = Param(model.s, initialize=y_val)\n",
    "\n",
    "def con_rule1(model,i):\n",
    "    return (model.y[i] - (model.a1*model.x11[i] \n",
    "            + model.a2*model.x22[i]) - model.a0 <= model.eps + model.p[i])\n",
    "model.con1 = Constraint(model.s,rule=con_rule1)\n",
    "\n",
    "def con_rule2(model,i):\n",
    "    return (- model.y[i] + (model.a1*model.x11[i] \n",
    "            + model.a2*model.x22[i]) + model.a0 <= model.eps + model.q[i])\n",
    "model.con2 = Constraint(model.s,rule=con_rule2)\n",
    "\n",
    "def con_rule3(model,i):\n",
    "    return model.p[i] >= 0\n",
    "model.con3 = Constraint(model.s,rule=con_rule3)\n",
    "\n",
    "def con_rule4(model,i):\n",
    "    return model.q[i] >= 0\n",
    "model.con4 = Constraint(model.s,rule=con_rule4)\n",
    "\n",
    "def obj_rule(model):\n",
    "    return 0.5*((model.a1**2+model.a2**2) + model.c*sum(model.p[i]+model.q[i] for i in model.s))\n",
    "model.obj = Objective(rule=obj_rule)\n",
    "\n",
    "\n",
    "solver=SolverFactory('ipopt')\n",
    "solver.solve(model)\n",
    "print (value(model.obj))\n",
    "# model.pprint()\n",
    "print(value(model.a1)*X_scal[:,0] + value(model.a2)*X_scal[:,1] + value(model.a0))"
   ]
  },
  {
   "cell_type": "markdown",
   "metadata": {},
   "source": [
    "# Problem 4(b)\n",
    "It is a good fit since objective function value is low."
   ]
  },
  {
   "cell_type": "markdown",
   "metadata": {},
   "source": [
    "# Problem 5(a)"
   ]
  },
  {
   "cell_type": "code",
   "execution_count": 18,
   "metadata": {},
   "outputs": [
    {
     "data": {
      "text/html": [
       "<div>\n",
       "<style scoped>\n",
       "    .dataframe tbody tr th:only-of-type {\n",
       "        vertical-align: middle;\n",
       "    }\n",
       "\n",
       "    .dataframe tbody tr th {\n",
       "        vertical-align: top;\n",
       "    }\n",
       "\n",
       "    .dataframe thead th {\n",
       "        text-align: right;\n",
       "    }\n",
       "</style>\n",
       "<table border=\"1\" class=\"dataframe\">\n",
       "  <thead>\n",
       "    <tr style=\"text-align: right;\">\n",
       "      <th></th>\n",
       "      <th>Relative_Compactness</th>\n",
       "      <th>Surface_Area</th>\n",
       "      <th>Wall_Area</th>\n",
       "      <th>Roof_Area</th>\n",
       "      <th>Height</th>\n",
       "      <th>Orientation</th>\n",
       "      <th>Glazing_Area</th>\n",
       "      <th>Glazing_A_Distribution</th>\n",
       "      <th>Heating_Load</th>\n",
       "      <th>Cooling_Load</th>\n",
       "    </tr>\n",
       "  </thead>\n",
       "  <tbody>\n",
       "    <tr>\n",
       "      <th>0</th>\n",
       "      <td>0.98</td>\n",
       "      <td>514.5</td>\n",
       "      <td>294.0</td>\n",
       "      <td>110.25</td>\n",
       "      <td>7.0</td>\n",
       "      <td>2</td>\n",
       "      <td>0.0</td>\n",
       "      <td>0</td>\n",
       "      <td>15.55</td>\n",
       "      <td>21.33</td>\n",
       "    </tr>\n",
       "    <tr>\n",
       "      <th>1</th>\n",
       "      <td>0.98</td>\n",
       "      <td>514.5</td>\n",
       "      <td>294.0</td>\n",
       "      <td>110.25</td>\n",
       "      <td>7.0</td>\n",
       "      <td>3</td>\n",
       "      <td>0.0</td>\n",
       "      <td>0</td>\n",
       "      <td>15.55</td>\n",
       "      <td>21.33</td>\n",
       "    </tr>\n",
       "    <tr>\n",
       "      <th>2</th>\n",
       "      <td>0.98</td>\n",
       "      <td>514.5</td>\n",
       "      <td>294.0</td>\n",
       "      <td>110.25</td>\n",
       "      <td>7.0</td>\n",
       "      <td>4</td>\n",
       "      <td>0.0</td>\n",
       "      <td>0</td>\n",
       "      <td>15.55</td>\n",
       "      <td>21.33</td>\n",
       "    </tr>\n",
       "    <tr>\n",
       "      <th>3</th>\n",
       "      <td>0.98</td>\n",
       "      <td>514.5</td>\n",
       "      <td>294.0</td>\n",
       "      <td>110.25</td>\n",
       "      <td>7.0</td>\n",
       "      <td>5</td>\n",
       "      <td>0.0</td>\n",
       "      <td>0</td>\n",
       "      <td>15.55</td>\n",
       "      <td>21.33</td>\n",
       "    </tr>\n",
       "    <tr>\n",
       "      <th>4</th>\n",
       "      <td>0.90</td>\n",
       "      <td>563.5</td>\n",
       "      <td>318.5</td>\n",
       "      <td>122.50</td>\n",
       "      <td>7.0</td>\n",
       "      <td>2</td>\n",
       "      <td>0.0</td>\n",
       "      <td>0</td>\n",
       "      <td>20.84</td>\n",
       "      <td>28.28</td>\n",
       "    </tr>\n",
       "  </tbody>\n",
       "</table>\n",
       "</div>"
      ],
      "text/plain": [
       "   Relative_Compactness  Surface_Area  Wall_Area  Roof_Area  Height  \\\n",
       "0                  0.98         514.5      294.0     110.25     7.0   \n",
       "1                  0.98         514.5      294.0     110.25     7.0   \n",
       "2                  0.98         514.5      294.0     110.25     7.0   \n",
       "3                  0.98         514.5      294.0     110.25     7.0   \n",
       "4                  0.90         563.5      318.5     122.50     7.0   \n",
       "\n",
       "   Orientation  Glazing_Area  Glazing_A_Distribution  Heating_Load  \\\n",
       "0            2           0.0                       0         15.55   \n",
       "1            3           0.0                       0         15.55   \n",
       "2            4           0.0                       0         15.55   \n",
       "3            5           0.0                       0         15.55   \n",
       "4            2           0.0                       0         20.84   \n",
       "\n",
       "   Cooling_Load  \n",
       "0         21.33  \n",
       "1         21.33  \n",
       "2         21.33  \n",
       "3         21.33  \n",
       "4         28.28  "
      ]
     },
     "execution_count": 18,
     "metadata": {},
     "output_type": "execute_result"
    }
   ],
   "source": [
    "# Read the file\n",
    "df = pd.read_excel('ENB2012_data.xlsx')\n",
    "df.head()"
   ]
  },
  {
   "cell_type": "code",
   "execution_count": 19,
   "metadata": {},
   "outputs": [],
   "source": [
    "# Features Separation\n",
    "df_feature = df.iloc[:,0:8]"
   ]
  },
  {
   "cell_type": "code",
   "execution_count": 20,
   "metadata": {},
   "outputs": [],
   "source": [
    "# Data Processing\n",
    "scaler = StandardScaler()\n",
    "scaler.fit(df_feature)\n",
    "feature_scaled = scaler.transform(df_feature)"
   ]
  },
  {
   "cell_type": "code",
   "execution_count": 21,
   "metadata": {},
   "outputs": [],
   "source": [
    "from sklearn.decomposition import PCA"
   ]
  },
  {
   "cell_type": "code",
   "execution_count": 22,
   "metadata": {},
   "outputs": [
    {
     "data": {
      "text/html": [
       "<div>\n",
       "<style scoped>\n",
       "    .dataframe tbody tr th:only-of-type {\n",
       "        vertical-align: middle;\n",
       "    }\n",
       "\n",
       "    .dataframe tbody tr th {\n",
       "        vertical-align: top;\n",
       "    }\n",
       "\n",
       "    .dataframe thead th {\n",
       "        text-align: right;\n",
       "    }\n",
       "</style>\n",
       "<table border=\"1\" class=\"dataframe\">\n",
       "  <thead>\n",
       "    <tr style=\"text-align: right;\">\n",
       "      <th></th>\n",
       "      <th>PC1</th>\n",
       "      <th>PC2</th>\n",
       "      <th>PC3</th>\n",
       "      <th>PC4</th>\n",
       "      <th>PC5</th>\n",
       "      <th>PC6</th>\n",
       "      <th>PC7</th>\n",
       "      <th>PC8</th>\n",
       "    </tr>\n",
       "  </thead>\n",
       "  <tbody>\n",
       "    <tr>\n",
       "      <th>0</th>\n",
       "      <td>3.128954</td>\n",
       "      <td>-0.902373</td>\n",
       "      <td>2.527922</td>\n",
       "      <td>-1.341641</td>\n",
       "      <td>-0.038274</td>\n",
       "      <td>0.477612</td>\n",
       "      <td>-0.048694</td>\n",
       "      <td>-2.107496e-15</td>\n",
       "    </tr>\n",
       "    <tr>\n",
       "      <th>1</th>\n",
       "      <td>3.128954</td>\n",
       "      <td>-0.902373</td>\n",
       "      <td>2.527922</td>\n",
       "      <td>-0.447214</td>\n",
       "      <td>-0.038274</td>\n",
       "      <td>0.477612</td>\n",
       "      <td>-0.048694</td>\n",
       "      <td>9.107499e-16</td>\n",
       "    </tr>\n",
       "    <tr>\n",
       "      <th>2</th>\n",
       "      <td>3.128954</td>\n",
       "      <td>-0.902373</td>\n",
       "      <td>2.527922</td>\n",
       "      <td>0.447214</td>\n",
       "      <td>-0.038274</td>\n",
       "      <td>0.477612</td>\n",
       "      <td>-0.048694</td>\n",
       "      <td>6.585445e-15</td>\n",
       "    </tr>\n",
       "    <tr>\n",
       "      <th>3</th>\n",
       "      <td>3.128954</td>\n",
       "      <td>-0.902373</td>\n",
       "      <td>2.527922</td>\n",
       "      <td>1.341641</td>\n",
       "      <td>-0.038274</td>\n",
       "      <td>0.477612</td>\n",
       "      <td>-0.048694</td>\n",
       "      <td>-3.061801e-17</td>\n",
       "    </tr>\n",
       "    <tr>\n",
       "      <th>4</th>\n",
       "      <td>2.355562</td>\n",
       "      <td>-0.141667</td>\n",
       "      <td>2.527922</td>\n",
       "      <td>-1.341641</td>\n",
       "      <td>-0.038274</td>\n",
       "      <td>0.173924</td>\n",
       "      <td>0.006056</td>\n",
       "      <td>-6.477702e-17</td>\n",
       "    </tr>\n",
       "  </tbody>\n",
       "</table>\n",
       "</div>"
      ],
      "text/plain": [
       "        PC1       PC2       PC3       PC4       PC5       PC6       PC7  \\\n",
       "0  3.128954 -0.902373  2.527922 -1.341641 -0.038274  0.477612 -0.048694   \n",
       "1  3.128954 -0.902373  2.527922 -0.447214 -0.038274  0.477612 -0.048694   \n",
       "2  3.128954 -0.902373  2.527922  0.447214 -0.038274  0.477612 -0.048694   \n",
       "3  3.128954 -0.902373  2.527922  1.341641 -0.038274  0.477612 -0.048694   \n",
       "4  2.355562 -0.141667  2.527922 -1.341641 -0.038274  0.173924  0.006056   \n",
       "\n",
       "            PC8  \n",
       "0 -2.107496e-15  \n",
       "1  9.107499e-16  \n",
       "2  6.585445e-15  \n",
       "3 -3.061801e-17  \n",
       "4 -6.477702e-17  "
      ]
     },
     "execution_count": 22,
     "metadata": {},
     "output_type": "execute_result"
    }
   ],
   "source": [
    "pca = PCA(n_components = 8)  # started with half of the feature\n",
    "pc = pca.fit_transform(feature_scaled)\n",
    "\n",
    "pc_df = pd.DataFrame(data = pc, columns = ['PC1', 'PC2', 'PC3', 'PC4', 'PC5', 'PC6', 'PC7', 'PC8'])\n",
    "pc_df.head()"
   ]
  },
  {
   "cell_type": "code",
   "execution_count": 23,
   "metadata": {},
   "outputs": [
    {
     "data": {
      "text/html": [
       "<div>\n",
       "<style scoped>\n",
       "    .dataframe tbody tr th:only-of-type {\n",
       "        vertical-align: middle;\n",
       "    }\n",
       "\n",
       "    .dataframe tbody tr th {\n",
       "        vertical-align: top;\n",
       "    }\n",
       "\n",
       "    .dataframe thead th {\n",
       "        text-align: right;\n",
       "    }\n",
       "</style>\n",
       "<table border=\"1\" class=\"dataframe\">\n",
       "  <thead>\n",
       "    <tr style=\"text-align: right;\">\n",
       "      <th></th>\n",
       "      <th>var</th>\n",
       "      <th>PC</th>\n",
       "    </tr>\n",
       "  </thead>\n",
       "  <tbody>\n",
       "    <tr>\n",
       "      <th>0</th>\n",
       "      <td>4.628674e-01</td>\n",
       "      <td>PC1</td>\n",
       "    </tr>\n",
       "    <tr>\n",
       "      <th>1</th>\n",
       "      <td>1.549814e-01</td>\n",
       "      <td>PC2</td>\n",
       "    </tr>\n",
       "    <tr>\n",
       "      <th>2</th>\n",
       "      <td>1.516205e-01</td>\n",
       "      <td>PC3</td>\n",
       "    </tr>\n",
       "    <tr>\n",
       "      <th>3</th>\n",
       "      <td>1.250000e-01</td>\n",
       "      <td>PC4</td>\n",
       "    </tr>\n",
       "    <tr>\n",
       "      <th>4</th>\n",
       "      <td>9.837947e-02</td>\n",
       "      <td>PC5</td>\n",
       "    </tr>\n",
       "    <tr>\n",
       "      <th>5</th>\n",
       "      <td>6.594236e-03</td>\n",
       "      <td>PC6</td>\n",
       "    </tr>\n",
       "    <tr>\n",
       "      <th>6</th>\n",
       "      <td>5.569391e-04</td>\n",
       "      <td>PC7</td>\n",
       "    </tr>\n",
       "    <tr>\n",
       "      <th>7</th>\n",
       "      <td>8.694522e-33</td>\n",
       "      <td>PC8</td>\n",
       "    </tr>\n",
       "  </tbody>\n",
       "</table>\n",
       "</div>"
      ],
      "text/plain": [
       "            var   PC\n",
       "0  4.628674e-01  PC1\n",
       "1  1.549814e-01  PC2\n",
       "2  1.516205e-01  PC3\n",
       "3  1.250000e-01  PC4\n",
       "4  9.837947e-02  PC5\n",
       "5  6.594236e-03  PC6\n",
       "6  5.569391e-04  PC7\n",
       "7  8.694522e-33  PC8"
      ]
     },
     "execution_count": 23,
     "metadata": {},
     "output_type": "execute_result"
    }
   ],
   "source": [
    "# Variance Calculation\n",
    "var = pca.explained_variance_ratio_ \n",
    "pc_var_df = pd.DataFrame({'var' : var, 'PC': ['PC1', 'PC2', 'PC3', 'PC4', 'PC5', 'PC6', 'PC7', 'PC8']})\n",
    "pc_var_df"
   ]
  },
  {
   "cell_type": "code",
   "execution_count": 24,
   "metadata": {
    "scrolled": true
   },
   "outputs": [
    {
     "data": {
      "image/png": "[encoded data removed]",
      "text/plain": [
       "<Figure size 432x288 with 1 Axes>"
      ]
     },
     "metadata": {
      "needs_background": "light"
     },
     "output_type": "display_data"
    }
   ],
   "source": [
    "import seaborn as sns\n",
    "sns.barplot(x = 'PC', y = 'var', data = pc_var_df, color = 'c');"
   ]
  },
  {
   "cell_type": "code",
   "execution_count": 25,
   "metadata": {},
   "outputs": [
    {
     "name": "stdout",
     "output_type": "stream",
     "text": [
      "Total Variance of First Four PC:  0.8944693525830238\n"
     ]
    }
   ],
   "source": [
    "print('Total Variance of First Four PC: ' , pc_var_df['var'].loc[0:3].sum())"
   ]
  },
  {
   "cell_type": "markdown",
   "metadata": {},
   "source": [
    "I started with eight PCA components since total number of features are 8. I will keep 4 PC since the sum of varaince of this PC's are 90 percent."
   ]
  },
  {
   "cell_type": "markdown",
   "metadata": {},
   "source": [
    "# Problem 5(b)"
   ]
  },
  {
   "cell_type": "code",
   "execution_count": 26,
   "metadata": {},
   "outputs": [
    {
     "name": "stdout",
     "output_type": "stream",
     "text": [
      "Loadings: \n",
      " [[ 4.95951415e-01 -5.01733022e-01  3.25142980e-02 -5.04962227e-01\n",
      "   4.96237987e-01  1.11300156e-17  2.31482629e-17  1.09622766e-17]\n",
      " [-2.44734692e-01  2.31540671e-01  8.94291660e-01 -2.06120761e-01\n",
      "   2.10358046e-01  3.24293417e-17 -1.39808629e-17  5.62805425e-17]\n",
      " [-6.44569226e-17 -1.59992389e-17 -1.37506492e-18 -1.66605430e-16\n",
      "  -7.25957933e-17 -3.96155287e-16 -7.07106781e-01 -7.07106781e-01]\n",
      " [-1.10518471e-17 -1.41084293e-16  3.26286365e-17  1.51756604e-16\n",
      "  -1.74317556e-18  1.00000000e+00 -3.27918310e-16 -7.33821538e-17]\n",
      " [ 1.77678288e-17 -4.22869286e-17 -3.03449156e-17  3.18606339e-17\n",
      "  -8.73950526e-18 -1.34666023e-16 -7.07106781e-01  7.07106781e-01]\n",
      " [ 4.95169837e-01 -6.62121736e-02  2.91115164e-01 -2.05162334e-01\n",
      "  -7.89672817e-01  1.63905534e-17  4.48156406e-17  4.03907290e-17]\n",
      " [-6.70032803e-01 -5.04882009e-01 -8.74393510e-02 -4.50100394e-01\n",
      "  -2.93111232e-01 -7.98823192e-18  1.04633003e-16  1.04181325e-16]\n",
      " [ 9.36496333e-17 -6.59820428e-01  3.26789793e-01  6.76642766e-01\n",
      "   2.97694092e-16 -9.53656960e-17 -1.05560459e-16  5.64204929e-17]]\n"
     ]
    }
   ],
   "source": [
    "loadings = pca.components_\n",
    "print('Loadings: \\n', loadings)"
   ]
  },
  {
   "cell_type": "code",
   "execution_count": 27,
   "metadata": {},
   "outputs": [
    {
     "data": {
      "image/png": "[encoded data removed]",
      "text/plain": [
       "<Figure size 600x400 with 1 Axes>"
      ]
     },
     "metadata": {
      "needs_background": "light"
     },
     "output_type": "display_data"
    }
   ],
   "source": [
    "def myplot(score,coeff,labels=None):\n",
    "    xs = score[:,0]\n",
    "    ys = score[:,1]\n",
    "    n = coeff.shape[0]\n",
    "    sclaex = 1.0/(xs.max() - xs.min())\n",
    "    scaley = 1.0/(ys.max() - ys.min())\n",
    "    \n",
    "    plt.figure(figsize=(6,4), dpi=100)\n",
    "    for i in range(n):\n",
    "        plt.arrow(0,0,coeff[i,0], coeff[i,1],color = 'r',alpha=0.5)\n",
    "        if labels is None:\n",
    "            plt.text(coeff[i,0]*1.15, coeff[i,1] * 1.15,'Var'+str(i+1),color = 'g', ha = 'center', va = 'center')\n",
    "        else:\n",
    "            plt.text(coeff[i,0]*1.15, coeff[i,1] * 1.15, labels[i],color = 'g', ha = 'center', va = 'center')\n",
    "    plt.xlim(-1,1)\n",
    "    plt.ylim(-1,1)\n",
    "    plt.xlabel('PC{}'.format(1), size=12)\n",
    "    plt.ylabel(\"PC{}\".format(2), size=12)\n",
    "    plt.grid()\n",
    "\n",
    "myplot(pc[:,0:2], np.transpose(pca.components_[0:2,:]));"
   ]
  },
  {
   "cell_type": "markdown",
   "metadata": {},
   "source": [
    " Variable 1 hase more controbution on PC1 and less contribution pn PC2 where variable 3 has on more on PC2 and less on PC1. Variable 4 has less contribution on both PC. There are not much correlations between variables"
   ]
  },
  {
   "cell_type": "markdown",
   "metadata": {},
   "source": [
    "# Problem 5(C)"
   ]
  },
  {
   "cell_type": "markdown",
   "metadata": {},
   "source": [
    "PCA in this case was useful some way beacuse it reduced the dimention from 8 to 4 but most of the variables are not correalated"
   ]
  },
  {
   "cell_type": "code",
   "execution_count": null,
   "metadata": {},
   "outputs": [],
   "source": []
  }
 ],
 "metadata": {
  "kernelspec": {
   "display_name": "Python 3",
   "language": "python",
   "name": "python3"
  },
  "language_info": {
   "codemirror_mode": {
    "name": "ipython",
    "version": 3
   },
   "file_extension": ".py",
   "mimetype": "text/x-python",
   "name": "python",
   "nbconvert_exporter": "python",
   "pygments_lexer": "ipython3",
   "version": "3.8.5"
  }
 },
 "nbformat": 4,
 "nbformat_minor": 4
}
